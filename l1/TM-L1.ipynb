{
  "nbformat": 4,
  "nbformat_minor": 0,
  "metadata": {
    "kernelspec": {
      "display_name": "Python 3",
      "language": "python",
      "name": "python3"
    },
    "language_info": {
      "codemirror_mode": {
        "name": "ipython",
        "version": 3
      },
      "file_extension": ".py",
      "mimetype": "text/x-python",
      "name": "python",
      "nbconvert_exporter": "python",
      "pygments_lexer": "ipython3",
      "version": "3.7.6"
    },
    "colab": {
      "name": "TM-L1.ipynb",
      "provenance": [],
      "toc_visible": true,
      "include_colab_link": true
    }
  },
  "cells": [
    {
      "cell_type": "markdown",
      "metadata": {
        "id": "view-in-github",
        "colab_type": "text"
      },
      "source": [
        "<a href=\"https://colab.research.google.com/github/Noufal21/text-mining/blob/master/l1/TM-L1.ipynb\" target=\"_parent\"><img src=\"https://colab.research.google.com/assets/colab-badge.svg\" alt=\"Open In Colab\"/></a>"
      ]
    },
    {
      "cell_type": "markdown",
      "metadata": {
        "id": "j9LiN_WEE9MF"
      },
      "source": [
        "# L1: Information retrieval"
      ]
    },
    {
      "cell_type": "markdown",
      "metadata": {
        "id": "HkdAPqsUE9MG"
      },
      "source": [
        "In this lab you will apply basic techniques from information retrieval to implement the core of a minimalistic search engine. The data for this lab consists of a collection of app descriptions scraped from the [Google Play Store](https://play.google.com/store/apps?hl=en). From this collection, your search engine should retrieve those apps whose descriptions best match a given query under the vector space model."
      ]
    },
    {
      "cell_type": "code",
      "metadata": {
        "id": "KEolpTnQFCDr",
        "outputId": "d335acb5-930b-472f-90eb-61a8c464c65e",
        "colab": {
          "base_uri": "https://localhost:8080/"
        }
      },
      "source": [
        "!npx degit https://github.com/Noufal21/text-mining -f"
      ],
      "execution_count": 183,
      "outputs": [
        {
          "output_type": "stream",
          "text": [
            "\u001b[K\u001b[?25hnpx: installed 1 in 1.041s\n",
            "\u001b[36m> destination directory is not empty. Using --force, continuing\u001b[39m\n",
            "\u001b[36m> cloned \u001b[1mNoufal21/text-mining\u001b[22m#\u001b[1mmaster\u001b[22m\u001b[39m\n"
          ],
          "name": "stdout"
        }
      ]
    },
    {
      "cell_type": "markdown",
      "metadata": {
        "id": "deLEdvC0E9MH"
      },
      "source": [
        "## Data set"
      ]
    },
    {
      "cell_type": "markdown",
      "metadata": {
        "id": "_MHhd11BE9MH"
      },
      "source": [
        "The app descriptions come in the form of a compressed [JSON](https://en.wikipedia.org/wiki/JSON) file. Start by loading this file into a [Pandas](https://pandas.pydata.org) [DataFrame](https://pandas.pydata.org/pandas-docs/stable/getting_started/dsintro.html#dataframe)."
      ]
    },
    {
      "cell_type": "code",
      "metadata": {
        "id": "PpSmn7WKE9MI"
      },
      "source": [
        "import bz2\n",
        "import pandas as pd\n",
        "import spacy\n",
        "\n",
        "with bz2.open('/content/l1/app-descriptions.json.bz2') as source:\n",
        "    df = pd.read_json(source)"
      ],
      "execution_count": 184,
      "outputs": []
    },
    {
      "cell_type": "code",
      "metadata": {
        "id": "N4oyocWi_HXs",
        "outputId": "314311cc-62db-484a-b2ba-79ad2c19cfa2",
        "colab": {
          "base_uri": "https://localhost:8080/",
          "height": 204
        }
      },
      "source": [
        "df.head()"
      ],
      "execution_count": 185,
      "outputs": [
        {
          "output_type": "execute_result",
          "data": {
            "text/html": [
              "<div>\n",
              "<style scoped>\n",
              "    .dataframe tbody tr th:only-of-type {\n",
              "        vertical-align: middle;\n",
              "    }\n",
              "\n",
              "    .dataframe tbody tr th {\n",
              "        vertical-align: top;\n",
              "    }\n",
              "\n",
              "    .dataframe thead th {\n",
              "        text-align: right;\n",
              "    }\n",
              "</style>\n",
              "<table border=\"1\" class=\"dataframe\">\n",
              "  <thead>\n",
              "    <tr style=\"text-align: right;\">\n",
              "      <th></th>\n",
              "      <th>name</th>\n",
              "      <th>description</th>\n",
              "    </tr>\n",
              "  </thead>\n",
              "  <tbody>\n",
              "    <tr>\n",
              "      <th>0</th>\n",
              "      <td>10000000</td>\n",
              "      <td>﻿10000000 is a Dungeon Crawling Puzzle RPG Mat...</td>\n",
              "    </tr>\n",
              "    <tr>\n",
              "      <th>1</th>\n",
              "      <td>1177 Vårdguiden</td>\n",
              "      <td>I 1177 Vårdguidens app får du tillgång till 11...</td>\n",
              "    </tr>\n",
              "    <tr>\n",
              "      <th>2</th>\n",
              "      <td>123 Draw🎨 Toddler counting for kids Drawing games</td>\n",
              "      <td>Need counting games for kids &amp; drawing for tod...</td>\n",
              "    </tr>\n",
              "    <tr>\n",
              "      <th>3</th>\n",
              "      <td>123 Kids Fun MUSIC - Kids Music Educational Games</td>\n",
              "      <td>Beautiful and simple music application for tod...</td>\n",
              "    </tr>\n",
              "    <tr>\n",
              "      <th>4</th>\n",
              "      <td>123 number games for kids -  Count &amp; Tracing</td>\n",
              "      <td>A Fun and intuitive numbers game for your baby...</td>\n",
              "    </tr>\n",
              "  </tbody>\n",
              "</table>\n",
              "</div>"
            ],
            "text/plain": [
              "                                                name                                        description\n",
              "0                                           10000000  ﻿10000000 is a Dungeon Crawling Puzzle RPG Mat...\n",
              "1                                    1177 Vårdguiden  I 1177 Vårdguidens app får du tillgång till 11...\n",
              "2  123 Draw🎨 Toddler counting for kids Drawing games  Need counting games for kids & drawing for tod...\n",
              "3  123 Kids Fun MUSIC - Kids Music Educational Games  Beautiful and simple music application for tod...\n",
              "4       123 number games for kids -  Count & Tracing  A Fun and intuitive numbers game for your baby..."
            ]
          },
          "metadata": {
            "tags": []
          },
          "execution_count": 185
        }
      ]
    },
    {
      "cell_type": "markdown",
      "metadata": {
        "id": "FFscIMlWE9MM"
      },
      "source": [
        "In Pandas, a DataFrame is a table with indexed rows and labelled columns of potentially different types. Data in a DataFrame can be accessed in various ways, including by row and by column. To give an example, the code in the next cell shows rows 200–204:"
      ]
    },
    {
      "cell_type": "code",
      "metadata": {
        "id": "iRTuXZElE9MM",
        "outputId": "b8363d4d-7fbc-421c-ff9e-8c0c5ab21cfa",
        "colab": {
          "base_uri": "https://localhost:8080/",
          "height": 204
        }
      },
      "source": [
        "df[200:205]"
      ],
      "execution_count": 186,
      "outputs": [
        {
          "output_type": "execute_result",
          "data": {
            "text/html": [
              "<div>\n",
              "<style scoped>\n",
              "    .dataframe tbody tr th:only-of-type {\n",
              "        vertical-align: middle;\n",
              "    }\n",
              "\n",
              "    .dataframe tbody tr th {\n",
              "        vertical-align: top;\n",
              "    }\n",
              "\n",
              "    .dataframe thead th {\n",
              "        text-align: right;\n",
              "    }\n",
              "</style>\n",
              "<table border=\"1\" class=\"dataframe\">\n",
              "  <thead>\n",
              "    <tr style=\"text-align: right;\">\n",
              "      <th></th>\n",
              "      <th>name</th>\n",
              "      <th>description</th>\n",
              "    </tr>\n",
              "  </thead>\n",
              "  <tbody>\n",
              "    <tr>\n",
              "      <th>200</th>\n",
              "      <td>Brick Breaker Star: Space King</td>\n",
              "      <td>Introducing the best Brick Breaker game that e...</td>\n",
              "    </tr>\n",
              "    <tr>\n",
              "      <th>201</th>\n",
              "      <td>Brick Classic - Brick Game</td>\n",
              "      <td>Classic Brick Game!\\n\\nBrick Classic is a popu...</td>\n",
              "    </tr>\n",
              "    <tr>\n",
              "      <th>202</th>\n",
              "      <td>Bricks Breaker - Glow Balls</td>\n",
              "      <td>Bricks Breaker - Glow Balls is a addictive and...</td>\n",
              "    </tr>\n",
              "    <tr>\n",
              "      <th>203</th>\n",
              "      <td>Bricks Breaker Quest</td>\n",
              "      <td>How to play\\n- The ball flies to wherever you ...</td>\n",
              "    </tr>\n",
              "    <tr>\n",
              "      <th>204</th>\n",
              "      <td>Brothers in Arms® 3</td>\n",
              "      <td>Fight brave soldiers from around the globe on ...</td>\n",
              "    </tr>\n",
              "  </tbody>\n",
              "</table>\n",
              "</div>"
            ],
            "text/plain": [
              "                               name                                        description\n",
              "200  Brick Breaker Star: Space King  Introducing the best Brick Breaker game that e...\n",
              "201      Brick Classic - Brick Game  Classic Brick Game!\\n\\nBrick Classic is a popu...\n",
              "202     Bricks Breaker - Glow Balls  Bricks Breaker - Glow Balls is a addictive and...\n",
              "203            Bricks Breaker Quest  How to play\\n- The ball flies to wherever you ...\n",
              "204             Brothers in Arms® 3  Fight brave soldiers from around the globe on ..."
            ]
          },
          "metadata": {
            "tags": []
          },
          "execution_count": 186
        }
      ]
    },
    {
      "cell_type": "markdown",
      "metadata": {
        "id": "UaHeo746E9MP"
      },
      "source": [
        "As you can see, there are two labelled columns: `name` (the name of the app) and `description` (a textual description). The code in the next cell shows how to acess fields from the description column."
      ]
    },
    {
      "cell_type": "code",
      "metadata": {
        "id": "MDqsCFv-E9MQ",
        "outputId": "62aa3c17-d8a8-418c-a36e-ee97e92b020f",
        "colab": {
          "base_uri": "https://localhost:8080/"
        }
      },
      "source": [
        "df['description'][200:205]"
      ],
      "execution_count": 187,
      "outputs": [
        {
          "output_type": "execute_result",
          "data": {
            "text/plain": [
              "200    Introducing the best Brick Breaker game that e...\n",
              "201    Classic Brick Game!\\n\\nBrick Classic is a popu...\n",
              "202    Bricks Breaker - Glow Balls is a addictive and...\n",
              "203    How to play\\n- The ball flies to wherever you ...\n",
              "204    Fight brave soldiers from around the globe on ...\n",
              "Name: description, dtype: object"
            ]
          },
          "metadata": {
            "tags": []
          },
          "execution_count": 187
        }
      ]
    },
    {
      "cell_type": "code",
      "metadata": {
        "id": "OFYLw40yJV-W",
        "outputId": "dea21f80-8279-4013-ddcd-8fcf2331bd36",
        "colab": {
          "base_uri": "https://localhost:8080/",
          "height": 69
        }
      },
      "source": [
        "df['description'][201]"
      ],
      "execution_count": 188,
      "outputs": [
        {
          "output_type": "execute_result",
          "data": {
            "application/vnd.google.colaboratory.intrinsic+json": {
              "type": "string"
            },
            "text/plain": [
              "\"Classic Brick Game!\\n\\nBrick Classic is a popular and addictive puzzle game!\\n\\nHow to play?\\n- Simply drag the bricks to move them.\\n- Create full lines on the grid vertically or horizontally to break bricks.\\n\\nTips:\\n- Classic brick game without time limits.\\n- Place the bricks in a reasonable position.\\n- The more brick break, the more scores you have.\\n- Bricks can't be rotated.\\n\\nWho's the best brick breaker? Challenge it now!!!\""
            ]
          },
          "metadata": {
            "tags": []
          },
          "execution_count": 188
        }
      ]
    },
    {
      "cell_type": "markdown",
      "metadata": {
        "id": "g9LHZ8ruE9MS"
      },
      "source": [
        "## Problem 1: Preprocessing"
      ]
    },
    {
      "cell_type": "markdown",
      "metadata": {
        "id": "6PGEsMbZE9MT"
      },
      "source": [
        "Your first task is to implement a preprocessor for your search engine. In the vector space model, *preprocessing* refers to any kind of transformation that is applied before a text is vectorized. Here you can restrict yourself to a very simple preprocessing: tokenization, stop word removal, and lemmatization.\n",
        "\n",
        "To implement your preprocessor, you can use [spaCy](https://spacy.io). Make sure that you read the [Linguistic annotations](https://spacy.io/usage/spacy-101#annotations) section of the spaCy&nbsp;101; that section contains all the information that you need for this problem (and more).\n",
        "\n",
        "Implement your preprocessor by completing the skeleton code in the next cell, adding additional code as you feel necessary."
      ]
    },
    {
      "cell_type": "code",
      "metadata": {
        "id": "leJbTnpsE9MU"
      },
      "source": [
        "nlp = spacy.load(\"en_core_web_sm\",disable=[\"tagger\", \"parser\",\"ner\"])\n",
        "def preprocess(text):\n",
        "    # TODO: Replace the next line with your own code.\n",
        "    doc = nlp(text)\n",
        "    token_words = []\n",
        "    for token in doc:\n",
        "      if not token.is_stop and token.is_alpha:\n",
        "        token_words.append(token.lemma_)\n",
        "    return token_words"
      ],
      "execution_count": 189,
      "outputs": []
    },
    {
      "cell_type": "code",
      "metadata": {
        "id": "d2XIdrOUJbgd",
        "outputId": "cf7abdd4-45b6-45e8-e85e-a30dae5169f9",
        "colab": {
          "base_uri": "https://localhost:8080/"
        }
      },
      "source": [
        "preprocess(df['description'][201])"
      ],
      "execution_count": 190,
      "outputs": [
        {
          "output_type": "execute_result",
          "data": {
            "text/plain": [
              "['Classic',\n",
              " 'Brick',\n",
              " 'Game',\n",
              " 'Brick',\n",
              " 'Classic',\n",
              " 'popular',\n",
              " 'addictive',\n",
              " 'puzzle',\n",
              " 'game',\n",
              " 'play',\n",
              " 'Simply',\n",
              " 'drag',\n",
              " 'brick',\n",
              " 'Create',\n",
              " 'line',\n",
              " 'grid',\n",
              " 'vertically',\n",
              " 'horizontally',\n",
              " 'break',\n",
              " 'brick',\n",
              " 'Tips',\n",
              " 'Classic',\n",
              " 'brick',\n",
              " 'game',\n",
              " 'time',\n",
              " 'limit',\n",
              " 'Place',\n",
              " 'brick',\n",
              " 'reasonable',\n",
              " 'position',\n",
              " 'brick',\n",
              " 'break',\n",
              " 'score',\n",
              " 'Bricks',\n",
              " 'rotate',\n",
              " 'well',\n",
              " 'brick',\n",
              " 'breaker',\n",
              " 'Challenge']"
            ]
          },
          "metadata": {
            "tags": []
          },
          "execution_count": 190
        }
      ]
    },
    {
      "cell_type": "markdown",
      "metadata": {
        "id": "jnyqpD4PE9MW"
      },
      "source": [
        "Your implementation should conform to the following specification:\n",
        "\n",
        "<strong>preprocess</strong> (<em>text</em>)\n",
        "\n",
        "> Preprocesses given text by tokenizing it, removing any stop words, replacing each remaining token with its lemma (base form), and discarding all lemmas that contain non-alphabetical characters. Returns the list of remaining lemmas (represented as strings).\n",
        "\n",
        "**Tip:** To speed up the preprocessing, you can disable loading those spaCy components that you do not need, such as the part-of-speech tagger, parser, and named entity recognizer. See [here](https://spacy.io/usage/processing-pipelines#disabling) for more information about this."
      ]
    },
    {
      "cell_type": "markdown",
      "metadata": {
        "id": "zsYh5YiiE9MW"
      },
      "source": [
        "Test your implementation by running the following cell:"
      ]
    },
    {
      "cell_type": "code",
      "metadata": {
        "id": "6hDhtRq_E9MX",
        "outputId": "7dfa0146-a0f6-4aac-fb51-ef000b4ffbb7",
        "colab": {
          "base_uri": "https://localhost:8080/"
        }
      },
      "source": [
        "preprocess('Apple is looking at buying U.K. startup for $1 billion')"
      ],
      "execution_count": 191,
      "outputs": [
        {
          "output_type": "execute_result",
          "data": {
            "text/plain": [
              "['Apple', 'look', 'buy', 'startup', 'billion']"
            ]
          },
          "metadata": {
            "tags": []
          },
          "execution_count": 191
        }
      ]
    },
    {
      "cell_type": "markdown",
      "metadata": {
        "id": "sDsaIYXWE9Ma"
      },
      "source": [
        "This should give the following output:\n"
      ]
    },
    {
      "cell_type": "markdown",
      "metadata": {
        "id": "eQ9qelW8E9Ma"
      },
      "source": [
        "['Apple', 'look', 'buy', 'startup', 'billion']"
      ]
    },
    {
      "cell_type": "markdown",
      "metadata": {
        "id": "k75Q9bjVE9Mb"
      },
      "source": [
        "## Problem 2: Vectorizing"
      ]
    },
    {
      "cell_type": "markdown",
      "metadata": {
        "id": "mTbcm-dDE9Mb"
      },
      "source": [
        "Your next task is to vectorize the data – and more specifically, to map each app description to a tf–idf vector. For this you can use the [TfidfVectorizer](https://scikit-learn.org/stable/modules/generated/sklearn.feature_extraction.text.TfidfVectorizer.html) class from [scikit-learn](https://scikit-learn.org/stable/). Make sure to specify your preprocessor from the previous problem as the `tokenizer` &ndash; not the `preprocessor`! &ndash; for the vectorizer. (In scikit-learn parlance, the `preprocessor` handles string-level preprocessing.)"
      ]
    },
    {
      "cell_type": "code",
      "metadata": {
        "id": "Hfev6f7LE9Mb"
      },
      "source": [
        "import numpy as np\n",
        "from sklearn.feature_extraction.text import TfidfVectorizer\n",
        "from sklearn.neighbors import NearestNeighbors\n",
        "\n",
        "# TODO: Replace the next line with your own code.\n",
        "X = np.zeros((len(df), 1))\n",
        "vectorizer = TfidfVectorizer(tokenizer = preprocess)\n",
        "X = vectorizer.fit_transform(df['description'])\n",
        "vocabulary = vectorizer.vocabulary_"
      ],
      "execution_count": 192,
      "outputs": []
    },
    {
      "cell_type": "markdown",
      "metadata": {
        "id": "TD4MOYYnE9Me"
      },
      "source": [
        "Test your implementation by running the following cell:"
      ]
    },
    {
      "cell_type": "code",
      "metadata": {
        "id": "rGxEtsYJE9Me",
        "outputId": "75a17c44-84ef-4c20-b1d1-fb6be2ba27cd",
        "colab": {
          "base_uri": "https://localhost:8080/"
        }
      },
      "source": [
        "X.shape"
      ],
      "execution_count": 193,
      "outputs": [
        {
          "output_type": "execute_result",
          "data": {
            "text/plain": [
              "(1614, 20663)"
            ]
          },
          "metadata": {
            "tags": []
          },
          "execution_count": 193
        }
      ]
    },
    {
      "cell_type": "markdown",
      "metadata": {
        "id": "CQACeaIcE9Mg"
      },
      "source": [
        "This should show the dimensions of the matrix `X` to be 1614 × 20669."
      ]
    },
    {
      "cell_type": "markdown",
      "metadata": {
        "id": "1BHjj68cE9Mh"
      },
      "source": [
        "## Problem 3: Retrieving"
      ]
    },
    {
      "cell_type": "markdown",
      "metadata": {
        "id": "MnSuAbYYE9Mh"
      },
      "source": [
        "To complete the search engine, your last task is to write a function that returns the most relevant app descriptions for a given query. An easy way to do solve this task is to use scikit-learn&rsquo;s [NearestNeighbors](https://scikit-learn.org/stable/modules/generated/sklearn.neighbors.NearestNeighbors.html) class. That class implements unsupervised nearest neighbours learning, and allows you to easily find a predefined number of app descriptions whose vector representations are closest to the query vector."
      ]
    },
    {
      "cell_type": "code",
      "metadata": {
        "id": "cgga1OsgE9Mi"
      },
      "source": [
        "neigh = NearestNeighbors(n_neighbors = 10, n_jobs=-1) \n",
        "neigh.fit(X)\n",
        "\n",
        "def search(query):\n",
        "    # TODO: Replace the next line with your own code.\n",
        "    x = vectorizer.transform([query])\n",
        "    result = neigh.kneighbors(x, return_distance=False)\n",
        "    return df['name'][result[0]]"
      ],
      "execution_count": 194,
      "outputs": []
    },
    {
      "cell_type": "markdown",
      "metadata": {
        "id": "__COIVGOE9Mk"
      },
      "source": [
        "Your implementation should conform to the following specification:\n",
        "\n",
        "<strong>search</strong> (<em>query</em>)\n",
        "\n",
        "> Returns the 10 app descriptions most similar (in terms of cosine similarity) to the given query as a Pandas DataFrame."
      ]
    },
    {
      "cell_type": "markdown",
      "metadata": {
        "id": "4Qkq524iE9Ml"
      },
      "source": [
        "Test your implementation by running the following cell:"
      ]
    },
    {
      "cell_type": "code",
      "metadata": {
        "id": "MYKtUvOlE9Ml",
        "outputId": "52622b98-9da8-4bde-e1a0-4e29ef9ef274",
        "colab": {
          "base_uri": "https://localhost:8080/"
        }
      },
      "source": [
        "search('dodge trains')"
      ],
      "execution_count": 195,
      "outputs": [
        {
          "output_type": "execute_result",
          "data": {
            "text/plain": [
              "1301                               Subway Surfers\n",
              "1300                       Subway Princess Runner\n",
              "1428                        Train Conductor World\n",
              "998                No Humanity - The Hardest Game\n",
              "1394                                   Tiny Rails\n",
              "1429          Train for Animals - BabyMagica free\n",
              "1168                                         Rush\n",
              "1077                  Polar Flow – Sync & Analyze\n",
              "1286    Strava: Track Running, Cycling & Swimming\n",
              "1465              Virus War - Space Shooting Game\n",
              "Name: name, dtype: object"
            ]
          },
          "metadata": {
            "tags": []
          },
          "execution_count": 195
        }
      ]
    },
    {
      "cell_type": "markdown",
      "metadata": {
        "id": "yyJwOy1aE9Mn"
      },
      "source": [
        "The top hit in the list should be *Subway Surfers*."
      ]
    },
    {
      "cell_type": "markdown",
      "metadata": {
        "id": "pb90Xpr2E9Mn"
      },
      "source": [
        "## Problem 4: Finding terms with low/high idf"
      ]
    },
    {
      "cell_type": "markdown",
      "metadata": {
        "id": "mwl8mWgsE9Mo"
      },
      "source": [
        "Recall that the inverse document frequency (idf) of a term is the lower the more documents from a given collection the term appears in. To get a better understanding for this concept, your next task is to write code to find out which terms have the lowest/highest idf with respect to the app descriptions.\n",
        "\n",
        "Start by sorting the terms in increasing order of idf, breaking ties by falling back on alphabetic order."
      ]
    },
    {
      "cell_type": "code",
      "metadata": {
        "id": "fJJkRz1mE9Mo"
      },
      "source": [
        "# TODO: Replace the next line with your own code.\n",
        "terms = []"
      ],
      "execution_count": 196,
      "outputs": []
    },
    {
      "cell_type": "markdown",
      "metadata": {
        "id": "VIlO0TIxE9Mq"
      },
      "source": [
        "Now, print the 10 terms with the lowest/highest idf. How do you explain the results?"
      ]
    },
    {
      "cell_type": "code",
      "metadata": {
        "scrolled": true,
        "id": "N1p8cAxgE9Mr",
        "outputId": "36252d91-1653-406b-fe44-502eba9b0049",
        "colab": {
          "base_uri": "https://localhost:8080/"
        }
      },
      "source": [
        "print(terms[:10])"
      ],
      "execution_count": 197,
      "outputs": [
        {
          "output_type": "stream",
          "text": [
            "[]\n"
          ],
          "name": "stdout"
        }
      ]
    },
    {
      "cell_type": "markdown",
      "metadata": {
        "id": "yPXk7xSKE9Mt"
      },
      "source": [
        "*TODO: Enter your explanation here*"
      ]
    },
    {
      "cell_type": "markdown",
      "metadata": {
        "id": "9e5YatUJE9Mu"
      },
      "source": [
        "## Problem 5: Keyword extraction"
      ]
    },
    {
      "cell_type": "markdown",
      "metadata": {
        "id": "oE3ZmbHNE9Mu"
      },
      "source": [
        "A simple method for extracting salient keywords from a document is to pick the $k$ terms with the highest tf–idf value. Your last task in this lab is to implement this method. More specifically, we ask you to implement a function `keywords` that extracts keywords from a given text."
      ]
    },
    {
      "cell_type": "code",
      "metadata": {
        "id": "BZNY9izcE9Mv"
      },
      "source": [
        "def get_keywords(text, n=10):\n",
        "    # TODO: Replace the next line with your own code.\n",
        "    tf_idf = vectorizer.transform([text])\n",
        "    sorted_items=sort_coo(tf_idf.tocoo())\n",
        "    keywords = []\n",
        "    feature_names = vectorizer.get_feature_names()\n",
        "    for idx, score in sorted_items[0:n]:\n",
        "      keywords.append(feature_names[idx])\n",
        "    return keywords\n",
        "\n",
        "def sort_coo(coo_matrix):\n",
        "    tuples = zip(coo_matrix.col, coo_matrix.data)\n",
        "    return sorted(tuples, key=lambda x: (x[1], x[0]), reverse=True)"
      ],
      "execution_count": 198,
      "outputs": []
    },
    {
      "cell_type": "markdown",
      "metadata": {
        "id": "ERnKv4TBE9Mx"
      },
      "source": [
        "Your implementation should conform to the following specification:\n",
        "\n",
        "<strong>keywords</strong> (<em>text</em>, <em>n</em> = 10)\n",
        "\n",
        "> Returns a list with the $n$ (default value: 10) most salient keywords from the specified text, as measured by their tf–idf value relative to the collection of app descriptions."
      ]
    },
    {
      "cell_type": "markdown",
      "metadata": {
        "id": "LGH5elemE9Mx"
      },
      "source": [
        "Test your implementation by running the following cell:"
      ]
    },
    {
      "cell_type": "code",
      "metadata": {
        "id": "HNE-z5ZSE9My",
        "outputId": "63c4c0fa-6fc9-4be0-c460-bd9bba9471dd",
        "colab": {
          "base_uri": "https://localhost:8080/"
        }
      },
      "source": [
        "print(get_keywords(df['description'][1428]))"
      ],
      "execution_count": 199,
      "outputs": [
        {
          "output_type": "stream",
          "text": [
            "['train', 'railway', 'railroad', 'rail', 'chaos', 'crash', 'tram', 'timetable', 'railyard', 'overcast']\n"
          ],
          "name": "stdout"
        }
      ]
    },
    {
      "cell_type": "markdown",
      "metadata": {
        "id": "IsBeFjD0E9M0"
      },
      "source": [
        "This should give the following output:"
      ]
    },
    {
      "cell_type": "markdown",
      "metadata": {
        "id": "MclSgF-XE9M1"
      },
      "source": [
        "['train', 'railway', 'railroad', 'rail', 'chaos', 'crash', 'overcast', 'locomotive', 'timetable', 'railyard']"
      ]
    },
    {
      "cell_type": "markdown",
      "metadata": {
        "id": "HrmY3QVnE9M1"
      },
      "source": [
        "<div class=\"alert alert-info\">\n",
        "    Please read the General information section on the lab web page before submitting this notebook!\n",
        "</div>"
      ]
    },
    {
      "cell_type": "markdown",
      "metadata": {
        "id": "2TGE0cRCQXeX"
      },
      "source": [
        ""
      ]
    }
  ]
}