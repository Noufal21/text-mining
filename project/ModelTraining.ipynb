{
  "nbformat": 4,
  "nbformat_minor": 0,
  "metadata": {
    "accelerator": "GPU",
    "colab": {
      "name": "ModelTraining.ipynb",
      "provenance": [],
      "collapsed_sections": [],
      "machine_shape": "hm",
      "authorship_tag": "ABX9TyOXFeDzYDSbDCqGjfLBJsKe",
      "include_colab_link": true
    },
    "kernelspec": {
      "display_name": "Python 3",
      "name": "python3"
    }
  },
  "cells": [
    {
      "cell_type": "markdown",
      "metadata": {
        "id": "view-in-github",
        "colab_type": "text"
      },
      "source": [
        "<a href=\"https://colab.research.google.com/github/Noufal21/text-mining/blob/master/project/ModelTraining.ipynb\" target=\"_parent\"><img src=\"https://colab.research.google.com/assets/colab-badge.svg\" alt=\"Open In Colab\"/></a>"
      ]
    },
    {
      "cell_type": "code",
      "metadata": {
        "colab": {
          "base_uri": "https://localhost:8080/"
        },
        "id": "egz3N7QpPu73",
        "outputId": "ff99def8-7c82-4b56-cef1-245b89ebce5c"
      },
      "source": [
        "import nltk\n",
        "nltk.download('stopwords')"
      ],
      "execution_count": null,
      "outputs": [
        {
          "output_type": "stream",
          "text": [
            "[nltk_data] Downloading package stopwords to /root/nltk_data...\n",
            "[nltk_data]   Unzipping corpora/stopwords.zip.\n"
          ],
          "name": "stdout"
        },
        {
          "output_type": "execute_result",
          "data": {
            "text/plain": [
              "True"
            ]
          },
          "metadata": {
            "tags": []
          },
          "execution_count": 1
        }
      ]
    },
    {
      "cell_type": "code",
      "metadata": {
        "id": "8pLQPrLxViFh"
      },
      "source": [
        "!pip install attention\n"
      ],
      "execution_count": null,
      "outputs": []
    },
    {
      "cell_type": "code",
      "metadata": {
        "id": "fjmaBU3Q1SB5"
      },
      "source": [
        "from zipfile import ZipFile\n",
        "import pandas as pd\n",
        "import numpy as np\n",
        "import gensim\n",
        "import spacy\n",
        "from sklearn.feature_extraction.text import CountVectorizer\n",
        "from sklearn.model_selection import StratifiedKFold\n",
        "from keras.preprocessing.text import Tokenizer\n",
        "from keras.preprocessing.sequence import pad_sequences\n",
        "from keras.layers import Dense, Input, LSTM, Embedding, Dropout, Bidirectional, TimeDistributed, Lambda, Attention\n",
        "from keras.layers.core import Lambda\n",
        "from keras.layers.merge import concatenate, add, multiply\n",
        "from keras.models import Model\n",
        "from keras.layers.normalization import BatchNormalization\n",
        "from keras.callbacks import EarlyStopping, ModelCheckpoint, ReduceLROnPlateau\n",
        "from keras.layers.noise import GaussianNoise\n",
        "import keras\n",
        "from keras.models import Sequential\n",
        "from keras import backend as K\n",
        "from keras.layers import Convolution1D, GlobalMaxPooling1D\n",
        "from keras.layers.advanced_activations import PReLU\n",
        "from keras.layers import add\n",
        "import functools\n",
        "from sklearn.feature_extraction.text import TfidfVectorizer, CountVectorizer\n",
        "from collections import Counter\n",
        "from nltk.corpus import stopwords\n",
        "\n",
        "from tensorflow.keras.layers import *\n",
        "from tensorflow.keras.models import *\n",
        "from tensorflow.keras import backend as K\n",
        "\n",
        "#from att2 import Attention2\n",
        "#from attention import Attention"
      ],
      "execution_count": 3,
      "outputs": []
    },
    {
      "cell_type": "code",
      "metadata": {
        "id": "pNiBchBh6Fci"
      },
      "source": [
        "MAX_SEQUENCE_LENGTH = 30\n",
        "EMBEDDING_DIM = 300\n",
        "BATCH_SIZE = 1024\n"
      ],
      "execution_count": 11,
      "outputs": []
    },
    {
      "cell_type": "code",
      "metadata": {
        "colab": {
          "base_uri": "https://localhost:8080/"
        },
        "id": "8t0LyF_bpMSP",
        "outputId": "94f2d4ed-4c00-4135-d7f0-0de658c26d1e"
      },
      "source": [
        "file_name = \"/content/filter_train.csv.zip\"\n",
        "with ZipFile(file_name,'r') as zip:\n",
        "  zip.extractall()\n",
        "  print(\"done\")"
      ],
      "execution_count": 12,
      "outputs": [
        {
          "output_type": "stream",
          "text": [
            "done\n"
          ],
          "name": "stdout"
        }
      ]
    },
    {
      "cell_type": "code",
      "metadata": {
        "colab": {
          "base_uri": "https://localhost:8080/"
        },
        "id": "mxVeZoAjrkbd",
        "outputId": "e86aef4f-858f-4b3c-934e-e7a9970322af"
      },
      "source": [
        "file_name = \"/content/filter_train_features_glove.zip\"\n",
        "\n",
        "with ZipFile(file_name,'r') as zip:\n",
        "  zip.extractall()\n",
        "  print(\"done\")"
      ],
      "execution_count": 17,
      "outputs": [
        {
          "output_type": "stream",
          "text": [
            "done\n"
          ],
          "name": "stdout"
        }
      ]
    },
    {
      "cell_type": "code",
      "metadata": {
        "id": "fgPd-k9W00T6",
        "colab": {
          "base_uri": "https://localhost:8080/"
        },
        "outputId": "411380c0-ec5b-49fe-cb0e-e4d3bcabd11e"
      },
      "source": [
        "!wget -c \"https://s3.amazonaws.com/dl4j-distribution/GoogleNews-vectors-negative300.bin.gz\""
      ],
      "execution_count": 21,
      "outputs": [
        {
          "output_type": "stream",
          "text": [
            "--2021-01-17 11:09:33--  https://s3.amazonaws.com/dl4j-distribution/GoogleNews-vectors-negative300.bin.gz\n",
            "Resolving s3.amazonaws.com (s3.amazonaws.com)... 52.217.69.38\n",
            "Connecting to s3.amazonaws.com (s3.amazonaws.com)|52.217.69.38|:443... connected.\n",
            "HTTP request sent, awaiting response... 200 OK\n",
            "Length: 1647046227 (1.5G) [application/x-gzip]\n",
            "Saving to: ‘GoogleNews-vectors-negative300.bin.gz’\n",
            "\n",
            "GoogleNews-vectors- 100%[===================>]   1.53G  79.8MB/s    in 20s     \n",
            "\n",
            "2021-01-17 11:09:53 (79.2 MB/s) - ‘GoogleNews-vectors-negative300.bin.gz’ saved [1647046227/1647046227]\n",
            "\n"
          ],
          "name": "stdout"
        }
      ]
    },
    {
      "cell_type": "code",
      "metadata": {
        "colab": {
          "base_uri": "https://localhost:8080/"
        },
        "id": "y_H1k9BrWi7D",
        "outputId": "26ef1b98-e02a-4708-8472-899d9eeaec7c"
      },
      "source": [
        "!wget -c \"http://nlp.stanford.edu/data/glove.840B.300d.zip\""
      ],
      "execution_count": null,
      "outputs": [
        {
          "output_type": "stream",
          "text": [
            "--2021-01-06 20:19:29--  http://nlp.stanford.edu/data/glove.840B.300d.zip\n",
            "Resolving nlp.stanford.edu (nlp.stanford.edu)... 171.64.67.140\n",
            "Connecting to nlp.stanford.edu (nlp.stanford.edu)|171.64.67.140|:80... connected.\n",
            "HTTP request sent, awaiting response... 302 Found\n",
            "Location: https://nlp.stanford.edu/data/glove.840B.300d.zip [following]\n",
            "--2021-01-06 20:19:30--  https://nlp.stanford.edu/data/glove.840B.300d.zip\n",
            "Connecting to nlp.stanford.edu (nlp.stanford.edu)|171.64.67.140|:443... connected.\n",
            "HTTP request sent, awaiting response... 301 Moved Permanently\n",
            "Location: http://downloads.cs.stanford.edu/nlp/data/glove.840B.300d.zip [following]\n",
            "--2021-01-06 20:19:30--  http://downloads.cs.stanford.edu/nlp/data/glove.840B.300d.zip\n",
            "Resolving downloads.cs.stanford.edu (downloads.cs.stanford.edu)... 171.64.64.22\n",
            "Connecting to downloads.cs.stanford.edu (downloads.cs.stanford.edu)|171.64.64.22|:80... connected.\n",
            "HTTP request sent, awaiting response... 200 OK\n",
            "Length: 2176768927 (2.0G) [application/zip]\n",
            "Saving to: ‘glove.840B.300d.zip’\n",
            "\n",
            "glove.840B.300d.zip 100%[===================>]   2.03G  1.94MB/s    in 16m 57s \n",
            "\n",
            "2021-01-06 20:36:28 (2.04 MB/s) - ‘glove.840B.300d.zip’ saved [2176768927/2176768927]\n",
            "\n"
          ],
          "name": "stdout"
        }
      ]
    },
    {
      "cell_type": "code",
      "metadata": {
        "colab": {
          "base_uri": "https://localhost:8080/"
        },
        "id": "Y31oNdZ0W0p8",
        "outputId": "bfbdd668-ea73-4cdc-8c05-65d37c6aa180"
      },
      "source": [
        "file_name = \"/content/glove.840B.300d.zip\"\n",
        "with ZipFile(file_name,'r') as zip:\n",
        "  zip.extractall()\n",
        "  print(\"done\")"
      ],
      "execution_count": null,
      "outputs": [
        {
          "output_type": "stream",
          "text": [
            "done\n"
          ],
          "name": "stdout"
        }
      ]
    },
    {
      "cell_type": "code",
      "metadata": {
        "id": "zxcJQdit04yr"
      },
      "source": [
        "embedding_file = \"/content/GoogleNews-vectors-negative300.bin.gz\"\n",
        "w2v = gensim.models.KeyedVectors.load_word2vec_format(embedding_file, binary=True)\n"
      ],
      "execution_count": 22,
      "outputs": []
    },
    {
      "cell_type": "code",
      "metadata": {
        "id": "L8lmkY5gWrOx"
      },
      "source": [
        "# -*- coding: utf-8 -*-\n",
        "\"\"\"\n",
        "word2vec embeddings start with a line with the number of lines (tokens?) and \n",
        "the number of dimensions of the file. This allows gensim to allocate memory \n",
        "accordingly for querying the model. Larger dimensions mean larger memory is \n",
        "held captive. Accordingly, this line has to be inserted into the GloVe \n",
        "embeddings file.\n",
        "\"\"\"\n",
        "\n",
        "import os\n",
        "import shutil\n",
        "import smart_open\n",
        "from sys import platform\n",
        "\n",
        "import gensim\n",
        "\n",
        "\n",
        "def prepend_line(infile, outfile, line):\n",
        "\t\"\"\" \n",
        "\tFunction use to prepend lines using bash utilities in Linux. \n",
        "\t(source: http://stackoverflow.com/a/10850588/610569)\n",
        "\t\"\"\"\n",
        "\twith open(infile, 'r') as old:\n",
        "\t\twith open(outfile, 'w') as new:\n",
        "\t\t\tnew.write(str(line) + \"\\n\")\n",
        "\t\t\tshutil.copyfileobj(old, new)\n",
        "\n",
        "def prepend_slow(infile, outfile, line):\n",
        "\t\"\"\"\n",
        "\tSlower way to prepend the line by re-creating the inputfile.\n",
        "\t\"\"\"\n",
        "\twith open(infile, 'r') as fin:\n",
        "\t\twith open(outfile, 'w') as fout:\n",
        "\t\t\tfout.write(line + \"\\n\")\n",
        "\t\t\tfor line in fin:\n",
        "\t\t\t\tfout.write(line)\n",
        "\n",
        "def get_lines(glove_file_name):\n",
        "    \"\"\"Return the number of vectors and dimensions in a file in GloVe format.\"\"\"\n",
        "    with smart_open.smart_open(glove_file_name, 'r') as f:\n",
        "        num_lines = sum(1 for line in f)\n",
        "    with smart_open.smart_open(glove_file_name, 'r') as f:\n",
        "        num_dims = len(f.readline().split()) - 1\n",
        "    return num_lines, num_dims\n",
        "\t\n",
        "# Input: GloVe Model File\n",
        "# More models can be downloaded from http://nlp.stanford.edu/projects/glove/\n",
        "glove_file=\"/content/glove.840B.300d.txt\"\n",
        "\n",
        "num_lines, dims = get_lines(glove_file)\n",
        "\n",
        "# Output: Gensim Model text format.\n",
        "gensim_file='glove_model2.txt'\n",
        "gensim_first_line = \"{} {}\".format(num_lines, dims)\n",
        "\n",
        "# Prepends the line.\n",
        "if platform == \"linux\" or platform == \"linux2\":\n",
        "\tprepend_line(glove_file, gensim_file, gensim_first_line)\n",
        "else:\n",
        "\tprepend_slow(glove_file, gensim_file, gensim_first_line)\n",
        "\n",
        "# Demo: Loads the newly created glove_model.txt into gensim API.\n",
        "glove = gensim.models.KeyedVectors.load_word2vec_format(gensim_file,binary=False) #GloVe Model"
      ],
      "execution_count": null,
      "outputs": []
    },
    {
      "cell_type": "code",
      "metadata": {
        "colab": {
          "base_uri": "https://localhost:8080/",
          "height": 421
        },
        "id": "3W72E3qiruOM",
        "outputId": "45f5bf38-e8c7-4098-a742-61c82f14f7d3"
      },
      "source": [
        "train_df = pd.read_csv(\"/content/filter_train.csv\")\n",
        "train_df = train_df.dropna()\n",
        "train_df = train_df.sort_values('id').reset_index()\n",
        "train_df.head(12)"
      ],
      "execution_count": 13,
      "outputs": [
        {
          "output_type": "execute_result",
          "data": {
            "text/html": [
              "<div>\n",
              "<style scoped>\n",
              "    .dataframe tbody tr th:only-of-type {\n",
              "        vertical-align: middle;\n",
              "    }\n",
              "\n",
              "    .dataframe tbody tr th {\n",
              "        vertical-align: top;\n",
              "    }\n",
              "\n",
              "    .dataframe thead th {\n",
              "        text-align: right;\n",
              "    }\n",
              "</style>\n",
              "<table border=\"1\" class=\"dataframe\">\n",
              "  <thead>\n",
              "    <tr style=\"text-align: right;\">\n",
              "      <th></th>\n",
              "      <th>index</th>\n",
              "      <th>id</th>\n",
              "      <th>qid1</th>\n",
              "      <th>qid2</th>\n",
              "      <th>question1</th>\n",
              "      <th>question2</th>\n",
              "      <th>is_duplicate</th>\n",
              "      <th>0</th>\n",
              "    </tr>\n",
              "  </thead>\n",
              "  <tbody>\n",
              "    <tr>\n",
              "      <th>0</th>\n",
              "      <td>404286</td>\n",
              "      <td>0</td>\n",
              "      <td>1</td>\n",
              "      <td>2</td>\n",
              "      <td>what is the step by step guide to invest in sh...</td>\n",
              "      <td>what is the step by step guide to invest in sh...</td>\n",
              "      <td>0</td>\n",
              "      <td>1</td>\n",
              "    </tr>\n",
              "    <tr>\n",
              "      <th>1</th>\n",
              "      <td>134758</td>\n",
              "      <td>1</td>\n",
              "      <td>3</td>\n",
              "      <td>4</td>\n",
              "      <td>what is the story of kohinoor koh i noor diamond</td>\n",
              "      <td>what would happen if the indian government sto...</td>\n",
              "      <td>0</td>\n",
              "      <td>1</td>\n",
              "    </tr>\n",
              "    <tr>\n",
              "      <th>2</th>\n",
              "      <td>134759</td>\n",
              "      <td>2</td>\n",
              "      <td>5</td>\n",
              "      <td>6</td>\n",
              "      <td>how can i increase the speed of my internet co...</td>\n",
              "      <td>how can internet speed be increased by hacking...</td>\n",
              "      <td>0</td>\n",
              "      <td>1</td>\n",
              "    </tr>\n",
              "    <tr>\n",
              "      <th>3</th>\n",
              "      <td>134760</td>\n",
              "      <td>3</td>\n",
              "      <td>7</td>\n",
              "      <td>8</td>\n",
              "      <td>why am i mentally very lonely how can i solve it</td>\n",
              "      <td>find the remainder when math]23^{24}[/math is ...</td>\n",
              "      <td>0</td>\n",
              "      <td>1</td>\n",
              "    </tr>\n",
              "    <tr>\n",
              "      <th>4</th>\n",
              "      <td>134761</td>\n",
              "      <td>4</td>\n",
              "      <td>9</td>\n",
              "      <td>10</td>\n",
              "      <td>which one dissolve in water quikly sugar salt ...</td>\n",
              "      <td>which fish would survive in salt water</td>\n",
              "      <td>0</td>\n",
              "      <td>1</td>\n",
              "    </tr>\n",
              "    <tr>\n",
              "      <th>5</th>\n",
              "      <td>134762</td>\n",
              "      <td>5</td>\n",
              "      <td>11</td>\n",
              "      <td>12</td>\n",
              "      <td>astrology i am a capricorn sun cap moon and ca...</td>\n",
              "      <td>i am a triple capricorn sun moon and ascendant...</td>\n",
              "      <td>1</td>\n",
              "      <td>1</td>\n",
              "    </tr>\n",
              "    <tr>\n",
              "      <th>6</th>\n",
              "      <td>134763</td>\n",
              "      <td>6</td>\n",
              "      <td>13</td>\n",
              "      <td>14</td>\n",
              "      <td>should i buy tiago</td>\n",
              "      <td>what keeps childern active and far from phone ...</td>\n",
              "      <td>0</td>\n",
              "      <td>1</td>\n",
              "    </tr>\n",
              "    <tr>\n",
              "      <th>7</th>\n",
              "      <td>134764</td>\n",
              "      <td>7</td>\n",
              "      <td>15</td>\n",
              "      <td>16</td>\n",
              "      <td>how can i be a good geologist</td>\n",
              "      <td>what should i do to be a great geologist</td>\n",
              "      <td>1</td>\n",
              "      <td>1</td>\n",
              "    </tr>\n",
              "    <tr>\n",
              "      <th>8</th>\n",
              "      <td>134765</td>\n",
              "      <td>8</td>\n",
              "      <td>17</td>\n",
              "      <td>18</td>\n",
              "      <td>when do you use instead of</td>\n",
              "      <td>when do you use instead of and</td>\n",
              "      <td>0</td>\n",
              "      <td>1</td>\n",
              "    </tr>\n",
              "    <tr>\n",
              "      <th>9</th>\n",
              "      <td>134766</td>\n",
              "      <td>9</td>\n",
              "      <td>19</td>\n",
              "      <td>20</td>\n",
              "      <td>motorola company can i hack my charter motorol...</td>\n",
              "      <td>how do i hack motorola dcx3400 for free internet</td>\n",
              "      <td>0</td>\n",
              "      <td>1</td>\n",
              "    </tr>\n",
              "    <tr>\n",
              "      <th>10</th>\n",
              "      <td>134767</td>\n",
              "      <td>10</td>\n",
              "      <td>21</td>\n",
              "      <td>22</td>\n",
              "      <td>method to find separation of slits using fresn...</td>\n",
              "      <td>what are some of the things technicians can te...</td>\n",
              "      <td>0</td>\n",
              "      <td>1</td>\n",
              "    </tr>\n",
              "    <tr>\n",
              "      <th>11</th>\n",
              "      <td>134768</td>\n",
              "      <td>11</td>\n",
              "      <td>23</td>\n",
              "      <td>24</td>\n",
              "      <td>how do i read and find my youtube comments</td>\n",
              "      <td>how can i see all my youtube comments</td>\n",
              "      <td>1</td>\n",
              "      <td>1</td>\n",
              "    </tr>\n",
              "  </tbody>\n",
              "</table>\n",
              "</div>"
            ],
            "text/plain": [
              "     index  id  ...  is_duplicate  0\n",
              "0   404286   0  ...             0  1\n",
              "1   134758   1  ...             0  1\n",
              "2   134759   2  ...             0  1\n",
              "3   134760   3  ...             0  1\n",
              "4   134761   4  ...             0  1\n",
              "5   134762   5  ...             1  1\n",
              "6   134763   6  ...             0  1\n",
              "7   134764   7  ...             1  1\n",
              "8   134765   8  ...             0  1\n",
              "9   134766   9  ...             0  1\n",
              "10  134767  10  ...             0  1\n",
              "11  134768  11  ...             1  1\n",
              "\n",
              "[12 rows x 8 columns]"
            ]
          },
          "metadata": {
            "tags": []
          },
          "execution_count": 13
        }
      ]
    },
    {
      "cell_type": "code",
      "metadata": {
        "colab": {
          "base_uri": "https://localhost:8080/",
          "height": 441
        },
        "id": "U0H-1mobr6xV",
        "outputId": "70e39f07-0132-40b0-a88f-b564f45a6b45"
      },
      "source": [
        "train_feat = pd.read_pickle(\"/content/filter_train_features_glove\")\n",
        "train_feat.head(12)"
      ],
      "execution_count": 18,
      "outputs": [
        {
          "output_type": "execute_result",
          "data": {
            "text/html": [
              "<div>\n",
              "<style scoped>\n",
              "    .dataframe tbody tr th:only-of-type {\n",
              "        vertical-align: middle;\n",
              "    }\n",
              "\n",
              "    .dataframe tbody tr th {\n",
              "        vertical-align: top;\n",
              "    }\n",
              "\n",
              "    .dataframe thead th {\n",
              "        text-align: right;\n",
              "    }\n",
              "</style>\n",
              "<table border=\"1\" class=\"dataframe\">\n",
              "  <thead>\n",
              "    <tr style=\"text-align: right;\">\n",
              "      <th></th>\n",
              "      <th>cwc_min</th>\n",
              "      <th>cwc_max</th>\n",
              "      <th>csc_min</th>\n",
              "      <th>csc_max</th>\n",
              "      <th>ctc_min</th>\n",
              "      <th>ctc_max</th>\n",
              "      <th>last_word_eq</th>\n",
              "      <th>first_word_eq</th>\n",
              "      <th>abs_len_diff</th>\n",
              "      <th>mean_len</th>\n",
              "      <th>fuzz_qratio</th>\n",
              "      <th>fuzz_WRatio</th>\n",
              "      <th>fuzz_partial_ratio</th>\n",
              "      <th>fuzz_partial_token_set_ratio</th>\n",
              "      <th>fuzz_partial_token_sort_ratio</th>\n",
              "      <th>fuzz_token_set_ratio</th>\n",
              "      <th>fuzz_token_sort_ratio</th>\n",
              "      <th>longest_substr_ratio</th>\n",
              "      <th>wmd</th>\n",
              "      <th>wmd_norm</th>\n",
              "      <th>cos</th>\n",
              "      <th>city</th>\n",
              "      <th>jacc</th>\n",
              "      <th>canb</th>\n",
              "      <th>eucl</th>\n",
              "      <th>mink</th>\n",
              "      <th>bray</th>\n",
              "      <th>q1_skew</th>\n",
              "      <th>q2_skew</th>\n",
              "      <th>q1_kurt</th>\n",
              "      <th>q2_kurt</th>\n",
              "    </tr>\n",
              "  </thead>\n",
              "  <tbody>\n",
              "    <tr>\n",
              "      <th>0</th>\n",
              "      <td>0.999980</td>\n",
              "      <td>0.833319</td>\n",
              "      <td>0.999983</td>\n",
              "      <td>0.999983</td>\n",
              "      <td>0.916659</td>\n",
              "      <td>0.785709</td>\n",
              "      <td>0</td>\n",
              "      <td>1</td>\n",
              "      <td>2</td>\n",
              "      <td>13.0</td>\n",
              "      <td>93</td>\n",
              "      <td>95</td>\n",
              "      <td>100</td>\n",
              "      <td>100</td>\n",
              "      <td>88</td>\n",
              "      <td>100</td>\n",
              "      <td>93</td>\n",
              "      <td>0.999998</td>\n",
              "      <td>1.216034</td>\n",
              "      <td>0.179328</td>\n",
              "      <td>0.031762</td>\n",
              "      <td>3.456409</td>\n",
              "      <td>1.0</td>\n",
              "      <td>91.349971</td>\n",
              "      <td>0.252040</td>\n",
              "      <td>0.114783</td>\n",
              "      <td>0.166479</td>\n",
              "      <td>2.158090</td>\n",
              "      <td>2.455419</td>\n",
              "      <td>25.021148</td>\n",
              "      <td>26.141845</td>\n",
              "    </tr>\n",
              "    <tr>\n",
              "      <th>1</th>\n",
              "      <td>0.799984</td>\n",
              "      <td>0.499994</td>\n",
              "      <td>0.599988</td>\n",
              "      <td>0.499992</td>\n",
              "      <td>0.699993</td>\n",
              "      <td>0.466664</td>\n",
              "      <td>0</td>\n",
              "      <td>1</td>\n",
              "      <td>5</td>\n",
              "      <td>12.5</td>\n",
              "      <td>65</td>\n",
              "      <td>86</td>\n",
              "      <td>73</td>\n",
              "      <td>100</td>\n",
              "      <td>73</td>\n",
              "      <td>86</td>\n",
              "      <td>63</td>\n",
              "      <td>0.583332</td>\n",
              "      <td>4.141246</td>\n",
              "      <td>0.617247</td>\n",
              "      <td>0.168384</td>\n",
              "      <td>7.369193</td>\n",
              "      <td>1.0</td>\n",
              "      <td>126.314924</td>\n",
              "      <td>0.580316</td>\n",
              "      <td>0.306059</td>\n",
              "      <td>0.303183</td>\n",
              "      <td>-0.257926</td>\n",
              "      <td>-0.916361</td>\n",
              "      <td>1.543840</td>\n",
              "      <td>8.592215</td>\n",
              "    </tr>\n",
              "    <tr>\n",
              "      <th>2</th>\n",
              "      <td>0.599988</td>\n",
              "      <td>0.599988</td>\n",
              "      <td>0.399992</td>\n",
              "      <td>0.222220</td>\n",
              "      <td>0.499995</td>\n",
              "      <td>0.357140</td>\n",
              "      <td>0</td>\n",
              "      <td>1</td>\n",
              "      <td>4</td>\n",
              "      <td>12.0</td>\n",
              "      <td>43</td>\n",
              "      <td>60</td>\n",
              "      <td>46</td>\n",
              "      <td>100</td>\n",
              "      <td>71</td>\n",
              "      <td>63</td>\n",
              "      <td>63</td>\n",
              "      <td>0.172413</td>\n",
              "      <td>3.403840</td>\n",
              "      <td>0.503602</td>\n",
              "      <td>0.112211</td>\n",
              "      <td>6.565957</td>\n",
              "      <td>1.0</td>\n",
              "      <td>133.118472</td>\n",
              "      <td>0.473731</td>\n",
              "      <td>0.215851</td>\n",
              "      <td>0.285214</td>\n",
              "      <td>0.747187</td>\n",
              "      <td>-0.135832</td>\n",
              "      <td>11.994413</td>\n",
              "      <td>9.117429</td>\n",
              "    </tr>\n",
              "    <tr>\n",
              "      <th>3</th>\n",
              "      <td>0.000000</td>\n",
              "      <td>0.000000</td>\n",
              "      <td>0.249994</td>\n",
              "      <td>0.142855</td>\n",
              "      <td>0.111110</td>\n",
              "      <td>0.090908</td>\n",
              "      <td>0</td>\n",
              "      <td>0</td>\n",
              "      <td>2</td>\n",
              "      <td>10.0</td>\n",
              "      <td>9</td>\n",
              "      <td>27</td>\n",
              "      <td>9</td>\n",
              "      <td>32</td>\n",
              "      <td>30</td>\n",
              "      <td>28</td>\n",
              "      <td>24</td>\n",
              "      <td>0.041667</td>\n",
              "      <td>7.005262</td>\n",
              "      <td>1.173771</td>\n",
              "      <td>0.504341</td>\n",
              "      <td>13.889997</td>\n",
              "      <td>1.0</td>\n",
              "      <td>204.769694</td>\n",
              "      <td>1.004332</td>\n",
              "      <td>0.457859</td>\n",
              "      <td>0.777993</td>\n",
              "      <td>0.898184</td>\n",
              "      <td>2.689361</td>\n",
              "      <td>17.295620</td>\n",
              "      <td>30.819242</td>\n",
              "    </tr>\n",
              "    <tr>\n",
              "      <th>4</th>\n",
              "      <td>0.499988</td>\n",
              "      <td>0.222220</td>\n",
              "      <td>0.666644</td>\n",
              "      <td>0.499988</td>\n",
              "      <td>0.571420</td>\n",
              "      <td>0.307690</td>\n",
              "      <td>0</td>\n",
              "      <td>1</td>\n",
              "      <td>6</td>\n",
              "      <td>10.0</td>\n",
              "      <td>36</td>\n",
              "      <td>86</td>\n",
              "      <td>55</td>\n",
              "      <td>100</td>\n",
              "      <td>67</td>\n",
              "      <td>67</td>\n",
              "      <td>47</td>\n",
              "      <td>0.157894</td>\n",
              "      <td>6.559568</td>\n",
              "      <td>0.914615</td>\n",
              "      <td>0.259966</td>\n",
              "      <td>9.750399</td>\n",
              "      <td>1.0</td>\n",
              "      <td>162.340725</td>\n",
              "      <td>0.721063</td>\n",
              "      <td>0.340345</td>\n",
              "      <td>0.443021</td>\n",
              "      <td>0.050815</td>\n",
              "      <td>0.408724</td>\n",
              "      <td>8.666970</td>\n",
              "      <td>9.695792</td>\n",
              "    </tr>\n",
              "    <tr>\n",
              "      <th>5</th>\n",
              "      <td>0.599988</td>\n",
              "      <td>0.499992</td>\n",
              "      <td>0.899991</td>\n",
              "      <td>0.818174</td>\n",
              "      <td>0.705878</td>\n",
              "      <td>0.705878</td>\n",
              "      <td>1</td>\n",
              "      <td>0</td>\n",
              "      <td>0</td>\n",
              "      <td>17.0</td>\n",
              "      <td>73</td>\n",
              "      <td>77</td>\n",
              "      <td>73</td>\n",
              "      <td>100</td>\n",
              "      <td>73</td>\n",
              "      <td>81</td>\n",
              "      <td>77</td>\n",
              "      <td>0.182927</td>\n",
              "      <td>4.363822</td>\n",
              "      <td>0.656053</td>\n",
              "      <td>0.162851</td>\n",
              "      <td>7.753427</td>\n",
              "      <td>1.0</td>\n",
              "      <td>129.783937</td>\n",
              "      <td>0.570704</td>\n",
              "      <td>0.268333</td>\n",
              "      <td>0.318616</td>\n",
              "      <td>-0.607014</td>\n",
              "      <td>-0.848560</td>\n",
              "      <td>7.657380</td>\n",
              "      <td>3.520004</td>\n",
              "    </tr>\n",
              "    <tr>\n",
              "      <th>6</th>\n",
              "      <td>0.000000</td>\n",
              "      <td>0.000000</td>\n",
              "      <td>0.000000</td>\n",
              "      <td>0.000000</td>\n",
              "      <td>0.000000</td>\n",
              "      <td>0.000000</td>\n",
              "      <td>0</td>\n",
              "      <td>0</td>\n",
              "      <td>7</td>\n",
              "      <td>7.5</td>\n",
              "      <td>20</td>\n",
              "      <td>35</td>\n",
              "      <td>39</td>\n",
              "      <td>39</td>\n",
              "      <td>39</td>\n",
              "      <td>24</td>\n",
              "      <td>23</td>\n",
              "      <td>0.111110</td>\n",
              "      <td>8.360494</td>\n",
              "      <td>1.315252</td>\n",
              "      <td>0.813989</td>\n",
              "      <td>16.096066</td>\n",
              "      <td>1.0</td>\n",
              "      <td>209.661643</td>\n",
              "      <td>1.275922</td>\n",
              "      <td>0.660120</td>\n",
              "      <td>0.876221</td>\n",
              "      <td>-0.153566</td>\n",
              "      <td>0.587522</td>\n",
              "      <td>0.347224</td>\n",
              "      <td>28.210168</td>\n",
              "    </tr>\n",
              "    <tr>\n",
              "      <th>7</th>\n",
              "      <td>0.499975</td>\n",
              "      <td>0.499975</td>\n",
              "      <td>0.599988</td>\n",
              "      <td>0.428565</td>\n",
              "      <td>0.571420</td>\n",
              "      <td>0.444440</td>\n",
              "      <td>1</td>\n",
              "      <td>0</td>\n",
              "      <td>2</td>\n",
              "      <td>8.0</td>\n",
              "      <td>61</td>\n",
              "      <td>67</td>\n",
              "      <td>66</td>\n",
              "      <td>100</td>\n",
              "      <td>69</td>\n",
              "      <td>71</td>\n",
              "      <td>61</td>\n",
              "      <td>0.344826</td>\n",
              "      <td>1.510052</td>\n",
              "      <td>0.281362</td>\n",
              "      <td>0.054163</td>\n",
              "      <td>4.542877</td>\n",
              "      <td>1.0</td>\n",
              "      <td>100.792654</td>\n",
              "      <td>0.329130</td>\n",
              "      <td>0.150444</td>\n",
              "      <td>0.183996</td>\n",
              "      <td>1.048181</td>\n",
              "      <td>1.105783</td>\n",
              "      <td>8.640427</td>\n",
              "      <td>8.392096</td>\n",
              "    </tr>\n",
              "    <tr>\n",
              "      <th>8</th>\n",
              "      <td>0.999950</td>\n",
              "      <td>0.999950</td>\n",
              "      <td>0.999975</td>\n",
              "      <td>0.799984</td>\n",
              "      <td>0.999983</td>\n",
              "      <td>0.857131</td>\n",
              "      <td>0</td>\n",
              "      <td>1</td>\n",
              "      <td>1</td>\n",
              "      <td>6.5</td>\n",
              "      <td>93</td>\n",
              "      <td>95</td>\n",
              "      <td>100</td>\n",
              "      <td>100</td>\n",
              "      <td>100</td>\n",
              "      <td>100</td>\n",
              "      <td>93</td>\n",
              "      <td>0.999996</td>\n",
              "      <td>0.000000</td>\n",
              "      <td>0.000000</td>\n",
              "      <td>0.000000</td>\n",
              "      <td>0.000000</td>\n",
              "      <td>0.0</td>\n",
              "      <td>0.000000</td>\n",
              "      <td>0.000000</td>\n",
              "      <td>0.000000</td>\n",
              "      <td>0.000000</td>\n",
              "      <td>1.171160</td>\n",
              "      <td>1.171160</td>\n",
              "      <td>16.944106</td>\n",
              "      <td>16.944106</td>\n",
              "    </tr>\n",
              "    <tr>\n",
              "      <th>9</th>\n",
              "      <td>0.599988</td>\n",
              "      <td>0.499992</td>\n",
              "      <td>0.333322</td>\n",
              "      <td>0.249994</td>\n",
              "      <td>0.444440</td>\n",
              "      <td>0.444440</td>\n",
              "      <td>0</td>\n",
              "      <td>0</td>\n",
              "      <td>0</td>\n",
              "      <td>9.0</td>\n",
              "      <td>50</td>\n",
              "      <td>62</td>\n",
              "      <td>56</td>\n",
              "      <td>100</td>\n",
              "      <td>55</td>\n",
              "      <td>65</td>\n",
              "      <td>44</td>\n",
              "      <td>0.208333</td>\n",
              "      <td>4.897002</td>\n",
              "      <td>0.721900</td>\n",
              "      <td>0.241410</td>\n",
              "      <td>9.754137</td>\n",
              "      <td>1.0</td>\n",
              "      <td>153.969825</td>\n",
              "      <td>0.694852</td>\n",
              "      <td>0.316839</td>\n",
              "      <td>0.407277</td>\n",
              "      <td>-0.367810</td>\n",
              "      <td>-0.379719</td>\n",
              "      <td>2.199797</td>\n",
              "      <td>7.115269</td>\n",
              "    </tr>\n",
              "    <tr>\n",
              "      <th>10</th>\n",
              "      <td>0.000000</td>\n",
              "      <td>0.000000</td>\n",
              "      <td>0.333322</td>\n",
              "      <td>0.111110</td>\n",
              "      <td>0.111110</td>\n",
              "      <td>0.050000</td>\n",
              "      <td>0</td>\n",
              "      <td>0</td>\n",
              "      <td>11</td>\n",
              "      <td>14.5</td>\n",
              "      <td>20</td>\n",
              "      <td>86</td>\n",
              "      <td>38</td>\n",
              "      <td>100</td>\n",
              "      <td>39</td>\n",
              "      <td>33</td>\n",
              "      <td>35</td>\n",
              "      <td>0.071428</td>\n",
              "      <td>7.951078</td>\n",
              "      <td>1.196872</td>\n",
              "      <td>0.603041</td>\n",
              "      <td>15.129666</td>\n",
              "      <td>1.0</td>\n",
              "      <td>215.033835</td>\n",
              "      <td>1.098217</td>\n",
              "      <td>0.495137</td>\n",
              "      <td>0.894629</td>\n",
              "      <td>-0.915995</td>\n",
              "      <td>0.295783</td>\n",
              "      <td>15.512651</td>\n",
              "      <td>17.836604</td>\n",
              "    </tr>\n",
              "    <tr>\n",
              "      <th>11</th>\n",
              "      <td>0.999950</td>\n",
              "      <td>0.499988</td>\n",
              "      <td>0.599988</td>\n",
              "      <td>0.499992</td>\n",
              "      <td>0.624992</td>\n",
              "      <td>0.555549</td>\n",
              "      <td>1</td>\n",
              "      <td>1</td>\n",
              "      <td>1</td>\n",
              "      <td>8.5</td>\n",
              "      <td>76</td>\n",
              "      <td>77</td>\n",
              "      <td>73</td>\n",
              "      <td>100</td>\n",
              "      <td>70</td>\n",
              "      <td>81</td>\n",
              "      <td>76</td>\n",
              "      <td>0.540539</td>\n",
              "      <td>3.209862</td>\n",
              "      <td>0.545208</td>\n",
              "      <td>0.126290</td>\n",
              "      <td>6.712573</td>\n",
              "      <td>1.0</td>\n",
              "      <td>127.046791</td>\n",
              "      <td>0.502573</td>\n",
              "      <td>0.243118</td>\n",
              "      <td>0.289134</td>\n",
              "      <td>0.184950</td>\n",
              "      <td>-1.018026</td>\n",
              "      <td>16.592367</td>\n",
              "      <td>9.093634</td>\n",
              "    </tr>\n",
              "  </tbody>\n",
              "</table>\n",
              "</div>"
            ],
            "text/plain": [
              "     cwc_min   cwc_max   csc_min  ...   q2_skew    q1_kurt    q2_kurt\n",
              "0   0.999980  0.833319  0.999983  ...  2.455419  25.021148  26.141845\n",
              "1   0.799984  0.499994  0.599988  ... -0.916361   1.543840   8.592215\n",
              "2   0.599988  0.599988  0.399992  ... -0.135832  11.994413   9.117429\n",
              "3   0.000000  0.000000  0.249994  ...  2.689361  17.295620  30.819242\n",
              "4   0.499988  0.222220  0.666644  ...  0.408724   8.666970   9.695792\n",
              "5   0.599988  0.499992  0.899991  ... -0.848560   7.657380   3.520004\n",
              "6   0.000000  0.000000  0.000000  ...  0.587522   0.347224  28.210168\n",
              "7   0.499975  0.499975  0.599988  ...  1.105783   8.640427   8.392096\n",
              "8   0.999950  0.999950  0.999975  ...  1.171160  16.944106  16.944106\n",
              "9   0.599988  0.499992  0.333322  ... -0.379719   2.199797   7.115269\n",
              "10  0.000000  0.000000  0.333322  ...  0.295783  15.512651  17.836604\n",
              "11  0.999950  0.499988  0.599988  ... -1.018026  16.592367   9.093634\n",
              "\n",
              "[12 rows x 31 columns]"
            ]
          },
          "metadata": {
            "tags": []
          },
          "execution_count": 18
        }
      ]
    },
    {
      "cell_type": "code",
      "metadata": {
        "id": "V5lysPrMM9kn"
      },
      "source": [
        "def get_weight(count, eps=10000, min_count=2):\n",
        "    if count < min_count:\n",
        "        return 0\n",
        "    else:\n",
        "        return 1 / (count + eps)\n",
        "\n",
        "def tfidf_word_match_share_stops(row, stops=None, weights=None):\n",
        "    q1words = {}\n",
        "    q2words = {}\n",
        "    for word in row[4]:\n",
        "        if word not in stops:\n",
        "            q1words[word] = 1\n",
        "    for word in row[5]:\n",
        "        if word not in stops:\n",
        "            q2words[word] = 1\n",
        "    if len(q1words) == 0 or len(q2words) == 0:\n",
        "        # The computer-generated chaff includes a few questions that are nothing but stopwords\n",
        "        return 0\n",
        "    \n",
        "    shared_weights = [weights.get(w, 0) for w in q1words.keys() if w in q2words] + [weights.get(w, 0) for w in q2words.keys() if w in q1words]\n",
        "    total_weights = [weights.get(w, 0) for w in q1words] + [weights.get(w, 0) for w in q2words]\n",
        "    \n",
        "    R = np.sum(shared_weights) / np.sum(total_weights)\n",
        "    return R\n",
        "\n",
        "def tfidf_word_match_share(row, weights=None):\n",
        "    q1words = {}\n",
        "    q2words = {}\n",
        "    \n",
        "    for word in row[4]:\n",
        "        q1words[word] = 1\n",
        "    for word in row[5]:\n",
        "        q2words[word] = 1\n",
        "    if len(q1words) == 0 or len(q2words) == 0:\n",
        "        # The computer-generated chaff includes a few questions that are nothing but stopwords\n",
        "        return 0\n",
        "    \n",
        "    shared_weights = [weights.get(w, 0) for w in q1words.keys() if w in q2words] + [weights.get(w, 0) for w in q2words.keys() if w in q1words]\n",
        "    total_weights = [weights.get(w, 0) for w in q1words] + [weights.get(w, 0) for w in q2words]\n",
        "    \n",
        "    R = np.sum(shared_weights) / np.sum(total_weights)\n",
        "    return R\n",
        "\n",
        "\n",
        "train_qs = pd.Series(train_df['question1'].tolist() + train_df['question2'].tolist())\n",
        "words = [x for y in train_qs for x in y]\n",
        "counts = Counter(words)\n",
        "weights = {word: get_weight(count) for word, count in counts.items()}\n",
        "stops = set(stopwords.words(\"english\"))\n",
        "f = functools.partial(tfidf_word_match_share, weights=weights)\n",
        "train_feat['tfidf_wm'] = train_df.apply(f, axis=1, raw=True) #2\n",
        "\n",
        "f = functools.partial(tfidf_word_match_share_stops, stops=stops, weights=weights)\n",
        "train_feat['tfidf_wm_stops'] = train_df.apply(f, axis=1, raw=True) #3"
      ],
      "execution_count": null,
      "outputs": []
    },
    {
      "cell_type": "code",
      "metadata": {
        "id": "T238_6kSOBKc"
      },
      "source": [
        "tfidf = TfidfVectorizer(stop_words='english', ngram_range=(1, 1))\n",
        "tfidf_txt = pd.Series(train_df['question1'].tolist() + train_df['question2'].tolist()).astype(str)\n",
        "tfidf.fit_transform(tfidf_txt)\n",
        "\n",
        "train_feat['z_tfidf_sum1'] = train_df.question1.map(lambda x: np.sum(tfidf.transform([str(x)]).data))\n",
        "train_feat['z_tfidf_sum2'] = train_df.question2.map(lambda x: np.sum(tfidf.transform([str(x)]).data))\n",
        "train_feat['z_tfidf_mean1'] = train_df.question1.map(lambda x: np.mean(tfidf.transform([str(x)]).data))\n",
        "train_feat['z_tfidf_mean2'] = train_df.question2.map(lambda x: np.mean(tfidf.transform([str(x)]).data))\n",
        "train_feat['z_tfidf_len1'] = train_df.question1.map(lambda x: len(tfidf.transform([str(x)]).data))\n",
        "train_feat['z_tfidf_len2'] = train_df.question2.map(lambda x: len(tfidf.transform([str(x)]).data))"
      ],
      "execution_count": null,
      "outputs": []
    },
    {
      "cell_type": "code",
      "metadata": {
        "id": "wSWdhuLIOfwy"
      },
      "source": [
        "train_feat.head()"
      ],
      "execution_count": null,
      "outputs": []
    },
    {
      "cell_type": "code",
      "metadata": {
        "id": "a-LHgdv3Ih-v"
      },
      "source": [
        "def generate_embedding_matrix(word_index, word2vec, embedding_dim):\n",
        "    # generate embedding matrix from word vectors\n",
        "    nb_words = len(word_index) + 1        \n",
        "    embedding_matrix = np.zeros((nb_words, embedding_dim))\n",
        "    for word, i in word_index.items():\n",
        "        if word in word2vec.vocab:\n",
        "            embedding_matrix[i] = word2vec.word_vec(word)   \n",
        "    return embedding_matrix"
      ],
      "execution_count": 14,
      "outputs": []
    },
    {
      "cell_type": "code",
      "metadata": {
        "id": "Vt_TJvY61AVq"
      },
      "source": [
        "def makeData(train_df,train_feat):\n",
        "  question1 = train_df.question1.astype(str)\n",
        "  question2 = train_df.question2.astype(str)\n",
        "  tokenizer = Tokenizer(filters=\"\")\n",
        "  tokenizer.fit_on_texts( question1 + question2)\n",
        "  word_index = tokenizer.word_index\n",
        "  q1_data = pad_sequences(tokenizer.texts_to_sequences(question1), maxlen=MAX_SEQUENCE_LENGTH)\n",
        "  q2_data = pad_sequences(tokenizer.texts_to_sequences(question2), maxlen=MAX_SEQUENCE_LENGTH)\n",
        "  labels = np.array(train_df.is_duplicate)\n",
        "\n",
        "  msk = np.random.rand(len(question1)) < 0.9\n",
        "  q1_data_train = q1_data[msk]\n",
        "  q2_data_train = q2_data[msk]\n",
        "  labels_train = labels[msk]\n",
        "  feat_train = train_feat[msk]\n",
        "  val_msk = np.random.rand(len(q1_data_train)) < 0.8\n",
        "\n",
        "  q1_data_val = q1_data_train[~val_msk]\n",
        "  q2_data_val = q2_data_train[~val_msk]\n",
        "  labels_val = labels_train[~val_msk]\n",
        "  feat_val = feat_train[~val_msk]\n",
        "\n",
        "  q1_data_train = q1_data_train[val_msk]\n",
        "  q2_data_train = q2_data_train[val_msk]\n",
        "  labels_train = labels_train[val_msk]\n",
        "  feat_train = feat_train[val_msk]\n",
        "\n",
        "\n",
        "\n",
        "  q1_data_test = q1_data[~msk]\n",
        "  q2_data_test = q2_data[~msk]\n",
        "  labels_test = labels[~msk]\n",
        "  feat_test = train_feat[~msk]\n",
        "  return word_index, q1_data_train, q2_data_train,feat_train, labels_train,  q1_data_val, q2_data_val, feat_val, labels_val, q1_data_test, q2_data_test, feat_test, labels_test"
      ],
      "execution_count": 15,
      "outputs": []
    },
    {
      "cell_type": "code",
      "metadata": {
        "id": "S7OQLWVq5sA0"
      },
      "source": [
        " word_index, q1_data_train, q2_data_train,feat_train, labels_train,  q1_data_val, q2_data_val, feat_val, labels_val, q1_data_test, q2_data_test, feat_test, labels_test = makeData(train_df,train_feat)"
      ],
      "execution_count": 19,
      "outputs": []
    },
    {
      "cell_type": "code",
      "metadata": {
        "id": "4ot2ARfcwmRP"
      },
      "source": [
        "embeddingMatrix = generate_embedding_matrix(word_index,w2v,EMBEDDING_DIM)"
      ],
      "execution_count": 24,
      "outputs": []
    },
    {
      "cell_type": "code",
      "metadata": {
        "id": "oUI1Zh-a-W57"
      },
      "source": [
        "def lstm_Model():\n",
        "  nb_words = len(word_index) + 1\n",
        "  embedding_layer = Embedding(nb_words,\n",
        "                                EMBEDDING_DIM,\n",
        "                                weights=[embeddingMatrix],\n",
        "                                input_length=MAX_SEQUENCE_LENGTH,\n",
        "                                trainable=False)\n",
        "  lstm_layer = LSTM(200, recurrent_dropout=0.2,dropout = 0.2)\n",
        "  sequence_1_input = Input(shape=(MAX_SEQUENCE_LENGTH,), dtype=\"int32\")\n",
        "  embedded_sequences_1 = embedding_layer(sequence_1_input)\n",
        "  x1 = lstm_layer(embedded_sequences_1)\n",
        "  \n",
        "\n",
        "  sequence_2_input = Input(shape=(MAX_SEQUENCE_LENGTH,), dtype=\"int32\")\n",
        "  embedded_sequences_2 = embedding_layer(sequence_2_input)\n",
        "  y1 = lstm_layer(embedded_sequences_2)\n",
        "  \n",
        "\n",
        "  features_input = Input(shape=(feat_train.shape[1],), dtype=\"float32\")\n",
        "  features_dense = Dense(150, activation=\"relu\")(features_input)\n",
        "  features_dense = Dropout(0.25)(features_dense)\n",
        "  #features_dense = BatchNormalization()(features_dense)\n",
        "  features_dense = Dense(300, activation=\"relu\")(features_dense)\n",
        "  features_dense = Dropout(0.2)(features_dense)\n",
        "\n",
        "\n",
        "  addition = add([x1, y1])\n",
        "  minus_y1 = Lambda(lambda x: -x)(y1)\n",
        "  merged = add([x1, minus_y1])\n",
        "  merged = multiply([merged, merged])\n",
        "  merged = concatenate([merged, addition])\n",
        "  merged = Dropout(0.3)(merged)\n",
        "\n",
        "  merged = concatenate([merged, features_dense])\n",
        "  #merged = BatchNormalization()(merged)\n",
        "  #merged = GaussianNoise(0.1)(merged)\n",
        "\n",
        "  merged = Dense(300, activation=\"relu\")(merged)\n",
        "  merged = Dropout(0.25)(merged)\n",
        "  merged = BatchNormalization()(merged)\n",
        "  merged = Dense(100, activation=\"relu\")(merged)\n",
        "  merged = Dropout(0.25)(merged)\n",
        "  merged = BatchNormalization()(merged)\n",
        "  merged = Dense(100, activation=\"relu\")(merged)\n",
        "  merged = Dropout(0.25)(merged)\n",
        "  merged = Dense(50, activation=\"relu\")(merged)\n",
        "  merged = Dropout(0.25)(merged)\n",
        "\n",
        "\n",
        "  out = Dense(1, activation=\"sigmoid\")(merged)\n",
        "\n",
        "  model = Model(inputs=[sequence_1_input, sequence_2_input, features_input], outputs=out)\n",
        "  model.compile(loss=\"binary_crossentropy\", optimizer = keras.optimizers.Nadam(learning_rate= 0.0003),metrics = ['accuracy'])\n",
        "\n",
        "  return model\n",
        "    \n",
        "early_stopping = EarlyStopping(monitor=\"val_loss\", patience=5)\n",
        "best_model_path = \"best_model\"  + \".h5\"\n",
        "model_checkpoint = ModelCheckpoint(best_model_path, save_best_only=True, save_weights_only=True)\n",
        "variable_gradient = ReduceLROnPlateau(monitor='val_accuracy', patience=2, factor=0.5, min_lr=0.00001)"
      ],
      "execution_count": 4,
      "outputs": []
    },
    {
      "cell_type": "code",
      "metadata": {
        "colab": {
          "base_uri": "https://localhost:8080/"
        },
        "id": "6ZIt2M8ZKbll",
        "outputId": "c8e0a9cf-6e58-44a7-f958-a1c01300a00c"
      },
      "source": [
        "\n",
        "\n",
        "new_model = lstm_Model()\n",
        "class_weight = {0: 1.309028344, 1: 0.472001959}\n",
        "class_weight = {0: 0.792667958149676, 1: 1.3542103535370453}\n",
        "LSTM_model = lstm_Model()\n",
        "hist = LSTM_model.fit([q1_data_train, q2_data_train, feat_train], labels_train,\n",
        "                     validation_data=([q1_data_val, q2_data_val, feat_val], labels_val),\n",
        "                     epochs=15, batch_size=BATCH_SIZE, shuffle=True,class_weight = class_weight,\n",
        "                     callbacks=[early_stopping, model_checkpoint,variable_gradient], verbose=1)"
      ],
      "execution_count": null,
      "outputs": [
        {
          "output_type": "stream",
          "text": [
            "WARNING:tensorflow:Layer lstm_3 will not use cuDNN kernel since it doesn't meet the cuDNN kernel criteria. It will use generic GPU kernel as fallback when running on GPU\n",
            "WARNING:tensorflow:Layer lstm_4 will not use cuDNN kernel since it doesn't meet the cuDNN kernel criteria. It will use generic GPU kernel as fallback when running on GPU\n",
            "Epoch 1/15\n",
            "285/285 [==============================] - 65s 208ms/step - loss: 0.6068 - accuracy: 0.6340 - val_loss: 0.4802 - val_accuracy: 0.7390\n",
            "Epoch 2/15\n",
            "285/285 [==============================] - 60s 210ms/step - loss: 0.4914 - accuracy: 0.7255 - val_loss: 0.4738 - val_accuracy: 0.7309\n",
            "Epoch 3/15\n",
            "285/285 [==============================] - 59s 207ms/step - loss: 0.4600 - accuracy: 0.7503 - val_loss: 0.4260 - val_accuracy: 0.7804\n",
            "Epoch 4/15\n",
            "285/285 [==============================] - 59s 209ms/step - loss: 0.4392 - accuracy: 0.7660 - val_loss: 0.4360 - val_accuracy: 0.7674\n",
            "Epoch 5/15\n",
            "285/285 [==============================] - 59s 207ms/step - loss: 0.4220 - accuracy: 0.7793 - val_loss: 0.4025 - val_accuracy: 0.7966\n",
            "Epoch 6/15\n",
            "285/285 [==============================] - 60s 212ms/step - loss: 0.4087 - accuracy: 0.7893 - val_loss: 0.3867 - val_accuracy: 0.8115\n",
            "Epoch 7/15\n",
            "285/285 [==============================] - 60s 209ms/step - loss: 0.3985 - accuracy: 0.7982 - val_loss: 0.3873 - val_accuracy: 0.8062\n",
            "Epoch 8/15\n",
            "285/285 [==============================] - 61s 213ms/step - loss: 0.3880 - accuracy: 0.8052 - val_loss: 0.3881 - val_accuracy: 0.8076\n",
            "Epoch 9/15\n",
            "285/285 [==============================] - 61s 214ms/step - loss: 0.3796 - accuracy: 0.8097 - val_loss: 0.3825 - val_accuracy: 0.8103\n",
            "Epoch 10/15\n",
            "285/285 [==============================] - 60s 212ms/step - loss: 0.3750 - accuracy: 0.8134 - val_loss: 0.3643 - val_accuracy: 0.8208\n",
            "Epoch 11/15\n",
            "285/285 [==============================] - 60s 212ms/step - loss: 0.3724 - accuracy: 0.8159 - val_loss: 0.3642 - val_accuracy: 0.8234\n",
            "Epoch 12/15\n",
            "285/285 [==============================] - 60s 212ms/step - loss: 0.3655 - accuracy: 0.8195 - val_loss: 0.3748 - val_accuracy: 0.8163\n",
            "Epoch 13/15\n",
            "285/285 [==============================] - 60s 212ms/step - loss: 0.3631 - accuracy: 0.8211 - val_loss: 0.3648 - val_accuracy: 0.8218\n",
            "Epoch 14/15\n",
            "285/285 [==============================] - 60s 212ms/step - loss: 0.3578 - accuracy: 0.8244 - val_loss: 0.3710 - val_accuracy: 0.8170\n",
            "Epoch 15/15\n",
            "285/285 [==============================] - 60s 212ms/step - loss: 0.3567 - accuracy: 0.8256 - val_loss: 0.3638 - val_accuracy: 0.8220\n"
          ],
          "name": "stdout"
        }
      ]
    },
    {
      "cell_type": "code",
      "metadata": {
        "colab": {
          "base_uri": "https://localhost:8080/"
        },
        "id": "_dhi4vrHRQmN",
        "outputId": "c187c2cd-5c62-4c0a-ed4b-07bdfc935a6f"
      },
      "source": [
        "LSTM_model.evaluate([q1_data_test,q2_data_test,feat_test], labels_test, batch_size=BATCH_SIZE)"
      ],
      "execution_count": null,
      "outputs": [
        {
          "output_type": "stream",
          "text": [
            "40/40 [==============================] - 1s 33ms/step - loss: 0.3702 - accuracy: 0.8171\n"
          ],
          "name": "stdout"
        },
        {
          "output_type": "execute_result",
          "data": {
            "text/plain": [
              "[0.3701944053173065, 0.8171167373657227]"
            ]
          },
          "metadata": {
            "tags": []
          },
          "execution_count": 23
        }
      ]
    },
    {
      "cell_type": "markdown",
      "metadata": {
        "id": "w2k6kAsgo9RQ"
      },
      "source": [
        "**Filter Data and glove**\n",
        "\n",
        "[0.36621272563934326, 0.8230683207511902]\n",
        "\n",
        "[0.3709457516670227, 0.8191161751747131]\n",
        "\n",
        "**Filter Data and word2vec**\n",
        "\n",
        "[0.36660221219062805, 0.8261858820915222]\n",
        "\n",
        "**Stem data and word2vec**\n",
        "\n",
        "[0.3999842405319214, 0.7983471155166626]\n",
        "\n",
        "**stem data and glove**\n",
        "\n",
        "[0.6587316989898682, 0.6933504939079285]\n",
        "\n"
      ]
    },
    {
      "cell_type": "code",
      "metadata": {
        "id": "OMuU3PVoVHdD"
      },
      "source": [
        "def bilstm_Model():\n",
        "  nb_words = len(word_index) + 1\n",
        "  embedding_layer = Embedding(nb_words,\n",
        "                                EMBEDDING_DIM,\n",
        "                                weights=[embeddingMatrix],\n",
        "                                input_length=MAX_SEQUENCE_LENGTH,\n",
        "                                trainable=False)\n",
        "  lstm_layer = Bidirectional(LSTM(300, recurrent_dropout=0.2,dropout = 0.2))\n",
        "\n",
        "  sequence_1_input = Input(shape=(MAX_SEQUENCE_LENGTH,), dtype=\"int32\")\n",
        "  embedded_sequences_1 = embedding_layer(sequence_1_input)\n",
        "  x1 = lstm_layer(embedded_sequences_1)\n",
        "\n",
        "  sequence_2_input = Input(shape=(MAX_SEQUENCE_LENGTH,), dtype=\"int32\")\n",
        "  embedded_sequences_2 = embedding_layer(sequence_2_input)\n",
        "  y1 = lstm_layer(embedded_sequences_2)\n",
        "\n",
        "  features_input = Input(shape=(feat_train.shape[1],), dtype=\"float32\")\n",
        "  features_dense = Dense(150, activation=\"relu\")(features_input)\n",
        "  features_dense = Dropout(0.25)(features_dense)\n",
        "  #eatures_dense = BatchNormalization()(features_dense)\n",
        "  features_dense = Dense(300, activation=\"relu\")(features_dense)\n",
        "  features_dense = Dropout(0.2)(features_dense)\n",
        "\n",
        "\n",
        "  addition = add([x1, y1])\n",
        "  minus_y1 = Lambda(lambda x: -x)(y1)\n",
        "  merged = add([x1, minus_y1])\n",
        "  merged = multiply([merged, merged])\n",
        "  merged = concatenate([merged, addition])\n",
        "  merged = Dropout(0.3)(merged)\n",
        "\n",
        "  merged = concatenate([merged, features_dense])\n",
        "  #merged = BatchNormalization()(merged)\n",
        "  #merged = GaussianNoise(0.1)(merged)\n",
        "\n",
        "  merged = Dense(300, activation=\"relu\")(merged)\n",
        "  merged = Dropout(0.25)(merged)\n",
        "  merged = BatchNormalization()(merged)\n",
        "  merged = Dense(100, activation=\"relu\")(merged)\n",
        "  merged = Dropout(0.25)(merged)\n",
        "  merged = BatchNormalization()(merged)\n",
        "  merged = Dense(100, activation=\"relu\")(merged)\n",
        "  merged = Dropout(0.25)(merged)\n",
        "\n",
        "  out = Dense(1, activation=\"sigmoid\")(merged)\n",
        "\n",
        "  model = Model(inputs=[sequence_1_input, sequence_2_input, features_input], outputs=out)\n",
        "  model.compile(loss=\"binary_crossentropy\", optimizer = keras.optimizers.Nadam(learning_rate= 0.0003),metrics = ['accuracy'])\n",
        "\n",
        "  return model\n",
        "    \n",
        "early_stopping = EarlyStopping(monitor=\"val_loss\", patience=5)\n",
        "best_model_path = \"bi best_model\"  + \".h5\"\n",
        "model_checkpoint = ModelCheckpoint(best_model_path, save_best_only=True, save_weights_only=True)\n",
        "variable_gradient = ReduceLROnPlateau(monitor='val_accuracy', patience=2, factor=0.5, min_lr=0.00001)"
      ],
      "execution_count": 5,
      "outputs": []
    },
    {
      "cell_type": "code",
      "metadata": {
        "colab": {
          "base_uri": "https://localhost:8080/"
        },
        "id": "QeW0uPL0VXI2",
        "outputId": "43ecc429-2af0-4717-c570-cd0e8f63cea4"
      },
      "source": [
        "class_weight = {0: 0.792667958149676, 1: 1.3542103535370453}\n",
        "biLSTM_model = bilstm_Model()\n",
        "bi_hist = biLSTM_model.fit([q1_data_train, q2_data_train, feat_train], labels_train,\n",
        "                     validation_data=([q1_data_val, q2_data_val, feat_val], labels_val),\n",
        "                     epochs=20, batch_size=BATCH_SIZE, shuffle=True,class_weight = class_weight,\n",
        "                     callbacks=[early_stopping, model_checkpoint,variable_gradient], verbose=1)"
      ],
      "execution_count": null,
      "outputs": [
        {
          "output_type": "stream",
          "text": [
            "WARNING:tensorflow:Layer lstm_5 will not use cuDNN kernel since it doesn't meet the cuDNN kernel criteria. It will use generic GPU kernel as fallback when running on GPU\n",
            "WARNING:tensorflow:Layer lstm_5 will not use cuDNN kernel since it doesn't meet the cuDNN kernel criteria. It will use generic GPU kernel as fallback when running on GPU\n",
            "WARNING:tensorflow:Layer lstm_5 will not use cuDNN kernel since it doesn't meet the cuDNN kernel criteria. It will use generic GPU kernel as fallback when running on GPU\n",
            "Epoch 1/20\n",
            "285/285 [==============================] - 137s 439ms/step - loss: 0.5942 - accuracy: 0.6542 - val_loss: 0.4584 - val_accuracy: 0.7522\n",
            "Epoch 2/20\n",
            "285/285 [==============================] - 123s 433ms/step - loss: 0.4701 - accuracy: 0.7455 - val_loss: 0.4397 - val_accuracy: 0.7634\n",
            "Epoch 3/20\n",
            "285/285 [==============================] - 123s 433ms/step - loss: 0.4390 - accuracy: 0.7671 - val_loss: 0.4400 - val_accuracy: 0.7675\n",
            "Epoch 4/20\n",
            "285/285 [==============================] - 124s 436ms/step - loss: 0.4180 - accuracy: 0.7830 - val_loss: 0.4123 - val_accuracy: 0.7897\n",
            "Epoch 5/20\n",
            "285/285 [==============================] - 124s 435ms/step - loss: 0.4037 - accuracy: 0.7934 - val_loss: 0.4292 - val_accuracy: 0.7809\n",
            "Epoch 6/20\n",
            "285/285 [==============================] - 124s 437ms/step - loss: 0.3869 - accuracy: 0.8041 - val_loss: 0.3706 - val_accuracy: 0.8197\n",
            "Epoch 7/20\n",
            "285/285 [==============================] - 125s 439ms/step - loss: 0.3751 - accuracy: 0.8144 - val_loss: 0.3608 - val_accuracy: 0.8258\n",
            "Epoch 8/20\n",
            "285/285 [==============================] - 125s 440ms/step - loss: 0.3635 - accuracy: 0.8205 - val_loss: 0.3962 - val_accuracy: 0.8044\n",
            "Epoch 9/20\n",
            "285/285 [==============================] - 124s 436ms/step - loss: 0.3537 - accuracy: 0.8275 - val_loss: 0.3491 - val_accuracy: 0.8329\n",
            "Epoch 10/20\n",
            "285/285 [==============================] - 125s 440ms/step - loss: 0.3450 - accuracy: 0.8325 - val_loss: 0.3416 - val_accuracy: 0.8390\n",
            "Epoch 11/20\n",
            "285/285 [==============================] - 125s 440ms/step - loss: 0.3350 - accuracy: 0.8382 - val_loss: 0.3974 - val_accuracy: 0.8084\n",
            "Epoch 12/20\n",
            "285/285 [==============================] - 123s 433ms/step - loss: 0.3274 - accuracy: 0.8429 - val_loss: 0.3839 - val_accuracy: 0.8140\n",
            "Epoch 13/20\n",
            "285/285 [==============================] - 124s 436ms/step - loss: 0.3152 - accuracy: 0.8492 - val_loss: 0.3391 - val_accuracy: 0.8428\n",
            "Epoch 14/20\n",
            "285/285 [==============================] - 125s 440ms/step - loss: 0.3091 - accuracy: 0.8542 - val_loss: 0.3342 - val_accuracy: 0.8432\n",
            "Epoch 15/20\n",
            "285/285 [==============================] - 125s 439ms/step - loss: 0.3046 - accuracy: 0.8558 - val_loss: 0.3352 - val_accuracy: 0.8426\n",
            "Epoch 16/20\n",
            "285/285 [==============================] - 124s 435ms/step - loss: 0.3000 - accuracy: 0.8593 - val_loss: 0.3337 - val_accuracy: 0.8442\n",
            "Epoch 17/20\n",
            "285/285 [==============================] - 125s 438ms/step - loss: 0.2960 - accuracy: 0.8608 - val_loss: 0.3328 - val_accuracy: 0.8451\n",
            "Epoch 18/20\n",
            "285/285 [==============================] - 124s 436ms/step - loss: 0.2921 - accuracy: 0.8629 - val_loss: 0.3271 - val_accuracy: 0.8499\n",
            "Epoch 19/20\n",
            "285/285 [==============================] - 125s 438ms/step - loss: 0.2876 - accuracy: 0.8656 - val_loss: 0.3331 - val_accuracy: 0.8452\n",
            "Epoch 20/20\n",
            "285/285 [==============================] - 123s 433ms/step - loss: 0.2854 - accuracy: 0.8673 - val_loss: 0.3404 - val_accuracy: 0.8443\n"
          ],
          "name": "stdout"
        }
      ]
    },
    {
      "cell_type": "code",
      "metadata": {
        "colab": {
          "base_uri": "https://localhost:8080/"
        },
        "id": "X_E9bsZ0Vdgj",
        "outputId": "adffe78c-4a5e-420a-aa76-9ad2f33524f3"
      },
      "source": [
        "biLSTM_model.evaluate([q1_data_test,q2_data_test,feat_test], labels_test, batch_size=BATCH_SIZE)"
      ],
      "execution_count": null,
      "outputs": [
        {
          "output_type": "stream",
          "text": [
            "40/40 [==============================] - 3s 65ms/step - loss: 0.3480 - accuracy: 0.8404\n"
          ],
          "name": "stdout"
        },
        {
          "output_type": "execute_result",
          "data": {
            "text/plain": [
              "[0.3479742109775543, 0.8403991460800171]"
            ]
          },
          "metadata": {
            "tags": []
          },
          "execution_count": 26
        }
      ]
    },
    {
      "cell_type": "markdown",
      "metadata": {
        "id": "obNCYo-6swSX"
      },
      "source": [
        "**Filter data and Glove**\n",
        "\n",
        "[0.3561573326587677, 0.8351366519927979]\n",
        "\n",
        "**Filter data and word2vec**\n",
        "\n",
        "[0.3683305084705353, 0.8210417032241821]\n",
        "\n",
        "**stem data and word2vec**\n",
        "\n",
        "[0.37319692969322205, 0.8188329339027405]\n",
        "\n",
        "**Stem data and glove**\n",
        "\n",
        "[0.3908419907093048, 0.8115970492362976]"
      ]
    },
    {
      "cell_type": "code",
      "metadata": {
        "id": "TXgJE78vcFCY"
      },
      "source": [
        "def timeLSTM():\n",
        "  nb_words = len(word_index) + 1\n",
        "  num_filters = 20\n",
        "  kernel_size = 50\n",
        "  embedding_layer = Embedding(nb_words,\n",
        "                                EMBEDDING_DIM,\n",
        "                                weights=[embeddingMatrix],\n",
        "                                input_length=MAX_SEQUENCE_LENGTH,\n",
        "                                trainable=False)\n",
        "  lstm_layer = LSTM(275, recurrent_dropout=0.2)\n",
        "\n",
        "  nonTrain_embedding_layer = Embedding(nb_words, EMBEDDING_DIM, input_length=MAX_SEQUENCE_LENGTH)\n",
        "\n",
        "  sequence_1_input = Input(shape=(MAX_SEQUENCE_LENGTH,), dtype=\"int32\")\n",
        "  embedded_sequences_1 = embedding_layer(sequence_1_input)\n",
        "  x1 = TimeDistributed(Dense(EMBEDDING_DIM, activation='relu'))(embedded_sequences_1)\n",
        "  x1 = Lambda(lambda x: K.sum(x, axis=1), output_shape=(300,))(x1)\n",
        "\n",
        "  sequence_2_input = Input(shape=(MAX_SEQUENCE_LENGTH,), dtype=\"int32\")\n",
        "  embedded_sequences_2 = embedding_layer(sequence_2_input)\n",
        "  y1 = TimeDistributed(Dense(EMBEDDING_DIM, activation='relu'))(embedded_sequences_2)\n",
        "  y1 = Lambda(lambda x: K.sum(x, axis=1), output_shape=(300,))(y1)\n",
        "\n",
        "  sequence_3_input = Input(shape=(MAX_SEQUENCE_LENGTH,), dtype=\"int32\")\n",
        "  embedded_sequences_3 = nonTrain_embedding_layer(sequence_3_input)\n",
        "  x2 = lstm_layer(embedded_sequences_3)\n",
        "\n",
        "  sequence_4_input = Input(shape=(MAX_SEQUENCE_LENGTH,), dtype=\"int32\")\n",
        "  embedded_sequences_4 = nonTrain_embedding_layer(sequence_4_input)\n",
        "  y2 = lstm_layer(embedded_sequences_4)\n",
        "\n",
        "\n",
        "  features_input = Input(shape=(feat_train.shape[1],), dtype=\"float32\")\n",
        "  features_dense = Dense(300, activation=\"relu\")(features_input)\n",
        "  features_dense = Dropout(0.2)(features_dense)\n",
        "  #features_dense = BatchNormalization()(features_dense)\n",
        "  features_dense = Dense(300, activation=\"relu\")(features_dense)\n",
        "  features_dense = Dropout(0.2)(features_dense)\n",
        "\n",
        "  merged = concatenate([x1,y1, x2, y2, features_input])\n",
        "  #merged = BatchNormalization()(merged)\n",
        "  merged = GaussianNoise(0.1)(merged)\n",
        "  merged = Dense(150,activation=\"relu\")(merged)\n",
        "  #merged = PReLU()(merged)\n",
        "  merged = Dropout(0.25)(merged)\n",
        "  merged = BatchNormalization()(merged)\n",
        "  merged = Dense(150,activation=\"relu\")(merged)\n",
        "  #merged = PReLU()(merged)\n",
        "  merged = Dropout(0.25)(merged)\n",
        "  merged = BatchNormalization()(merged)\n",
        "\n",
        "\n",
        "\n",
        "  out = Dense(1, activation=\"sigmoid\")(merged)\n",
        "\n",
        "  model = Model(inputs=[sequence_1_input, sequence_2_input, sequence_3_input, sequence_4_input, features_input], outputs=out)\n",
        "  model.compile(loss=\"binary_crossentropy\", optimizer = keras.optimizers.Nadam(learning_rate= 0.0003),metrics = ['accuracy'])\n",
        "\n",
        "\n",
        "  return model\n",
        "\n",
        "early_stopping = EarlyStopping(monitor=\"val_loss\", patience=5)\n",
        "best_model_path = \"time best_model\"  + \".h5\"\n",
        "model_checkpoint = ModelCheckpoint(best_model_path, save_best_only=True, save_weights_only=True)\n",
        "variable_gradient = ReduceLROnPlateau(monitor='val_accuracy', patience=2, factor=0.5, min_lr=0.00001)"
      ],
      "execution_count": 6,
      "outputs": []
    },
    {
      "cell_type": "code",
      "metadata": {
        "colab": {
          "base_uri": "https://localhost:8080/"
        },
        "id": "n9nmXmVTdoPD",
        "outputId": "dc0fc62b-0fd8-4d35-cba7-c8955c750fee"
      },
      "source": [
        "timeLSTM_model = timeLSTM()\n",
        "class_weight = {0: 0.792667958149676, 1: 1.3542103535370453}\n",
        "time_hist = timeLSTM_model.fit([q1_data_train, q2_data_train, q1_data_train, q2_data_train,feat_train], labels_train,\n",
        "                     validation_data=([q1_data_val, q2_data_val, q1_data_val, q2_data_val,feat_val], labels_val),\n",
        "                     epochs=60, batch_size=BATCH_SIZE, shuffle=True,class_weight = class_weight,\n",
        "                     callbacks=[early_stopping, model_checkpoint,variable_gradient], verbose=1)"
      ],
      "execution_count": null,
      "outputs": [
        {
          "output_type": "stream",
          "text": [
            "WARNING:tensorflow:Layer lstm_6 will not use cuDNN kernel since it doesn't meet the cuDNN kernel criteria. It will use generic GPU kernel as fallback when running on GPU\n",
            "Epoch 1/60\n",
            "285/285 [==============================] - 121s 403ms/step - loss: 0.5752 - accuracy: 0.6843 - val_loss: 0.4014 - val_accuracy: 0.7994\n",
            "Epoch 2/60\n",
            "285/285 [==============================] - 113s 397ms/step - loss: 0.4075 - accuracy: 0.7951 - val_loss: 0.3915 - val_accuracy: 0.8084\n",
            "Epoch 3/60\n",
            "285/285 [==============================] - 113s 397ms/step - loss: 0.3702 - accuracy: 0.8177 - val_loss: 0.3712 - val_accuracy: 0.8209\n",
            "Epoch 4/60\n",
            "285/285 [==============================] - 113s 396ms/step - loss: 0.3424 - accuracy: 0.8335 - val_loss: 0.3941 - val_accuracy: 0.8106\n",
            "Epoch 5/60\n",
            "285/285 [==============================] - 113s 395ms/step - loss: 0.3190 - accuracy: 0.8486 - val_loss: 0.4337 - val_accuracy: 0.7892\n",
            "Epoch 6/60\n",
            "285/285 [==============================] - 112s 395ms/step - loss: 0.2980 - accuracy: 0.8601 - val_loss: 0.3753 - val_accuracy: 0.8214\n",
            "Epoch 7/60\n",
            "285/285 [==============================] - 113s 396ms/step - loss: 0.2819 - accuracy: 0.8691 - val_loss: 0.3738 - val_accuracy: 0.8304\n",
            "Epoch 8/60\n",
            "285/285 [==============================] - 113s 395ms/step - loss: 0.2729 - accuracy: 0.8729 - val_loss: 0.3847 - val_accuracy: 0.8308\n"
          ],
          "name": "stdout"
        }
      ]
    },
    {
      "cell_type": "code",
      "metadata": {
        "colab": {
          "base_uri": "https://localhost:8080/"
        },
        "id": "4qIXPAYivLDl",
        "outputId": "12fbb0ef-aaef-464e-e2ea-3751b77ee79d"
      },
      "source": [
        "timeLSTM_model.evaluate([q1_data_test,q2_data_test,q1_data_test,q2_data_test,feat_test], labels_test, batch_size=BATCH_SIZE)"
      ],
      "execution_count": null,
      "outputs": [
        {
          "output_type": "stream",
          "text": [
            "40/40 [==============================] - 2s 47ms/step - loss: 0.3959 - accuracy: 0.8251\n"
          ],
          "name": "stdout"
        },
        {
          "output_type": "execute_result",
          "data": {
            "text/plain": [
              "[0.3958740830421448, 0.8251092433929443]"
            ]
          },
          "metadata": {
            "tags": []
          },
          "execution_count": 29
        }
      ]
    },
    {
      "cell_type": "markdown",
      "metadata": {
        "id": "3QAUWvg3sG6w"
      },
      "source": [
        "**Filter data and glove**\n",
        "\n",
        "[0.4059089720249176, 0.8201038241386414]\n",
        "\n",
        "**Filter Data and word2vec**\n",
        "\n",
        "[0.41816848516464233, 0.8201760649681091]\n",
        "\n",
        "**stem data and word2vec**\n",
        "\n",
        "[0.40084773302078247, 0.8173553943634033]\n",
        "\n",
        "**Stem data and glove**\n",
        "\n",
        "[0.45026397705078125, 0.813007116317749]"
      ]
    },
    {
      "cell_type": "code",
      "metadata": {
        "id": "U0L1-69G6aW-"
      },
      "source": [
        "def bitimeLSTM():\n",
        "  nb_words = len(word_index) + 1\n",
        "  num_filters = 20\n",
        "  kernel_size = 50\n",
        "  embedding_layer = Embedding(nb_words,\n",
        "                                EMBEDDING_DIM,\n",
        "                                weights=[embeddingMatrix],\n",
        "                                input_length=MAX_SEQUENCE_LENGTH,\n",
        "                                trainable=False)\n",
        "  lstm_layer = Bidirectional(LSTM(275, recurrent_dropout=0.2))\n",
        "\n",
        "  nonTrain_embedding_layer = Embedding(nb_words, EMBEDDING_DIM, input_length=MAX_SEQUENCE_LENGTH)\n",
        "\n",
        "  sequence_1_input = Input(shape=(MAX_SEQUENCE_LENGTH,), dtype=\"int32\")\n",
        "  embedded_sequences_1 = embedding_layer(sequence_1_input)\n",
        "  x1 = TimeDistributed(Dense(EMBEDDING_DIM, activation='relu'))(embedded_sequences_1)\n",
        "  x1 = Lambda(lambda x: K.sum(x, axis=1), output_shape=(300,))(x1)\n",
        "\n",
        "  sequence_2_input = Input(shape=(MAX_SEQUENCE_LENGTH,), dtype=\"int32\")\n",
        "  embedded_sequences_2 = embedding_layer(sequence_2_input)\n",
        "  y1 = TimeDistributed(Dense(EMBEDDING_DIM, activation='relu'))(embedded_sequences_2)\n",
        "  y1 = Lambda(lambda x: K.sum(x, axis=1), output_shape=(300,))(y1)\n",
        "\n",
        "  sequence_3_input = Input(shape=(MAX_SEQUENCE_LENGTH,), dtype=\"int32\")\n",
        "  embedded_sequences_3 = nonTrain_embedding_layer(sequence_3_input)\n",
        "  x2 = lstm_layer(embedded_sequences_3)\n",
        "\n",
        "  sequence_4_input = Input(shape=(MAX_SEQUENCE_LENGTH,), dtype=\"int32\")\n",
        "  embedded_sequences_4 = nonTrain_embedding_layer(sequence_4_input)\n",
        "  y2 = lstm_layer(embedded_sequences_4)\n",
        "\n",
        "\n",
        "  features_input = Input(shape=(feat_train.shape[1],), dtype=\"float32\")\n",
        "  features_dense = Dense(150, activation=\"relu\")(features_input)\n",
        "  features_dense = Dropout(0.2)(features_dense)\n",
        "  #features_dense = BatchNormalization()(features_dense)\n",
        "  features_dense = Dense(300, activation=\"relu\")(features_dense)\n",
        "  features_dense = Dropout(0.2)(features_dense)\n",
        "\n",
        "  merged = concatenate([x1,y1, x2, y2, features_input])\n",
        "  merged = BatchNormalization()(merged)\n",
        "  merged = GaussianNoise(0.1)(merged)\n",
        "  merged = Dense(350,activation=\"relu\")(merged)\n",
        "  #merged = PReLU()(merged)\n",
        "  merged = Dropout(0.25)(merged)\n",
        "\n",
        "\n",
        "  out = Dense(1, activation=\"sigmoid\")(merged)\n",
        "\n",
        "  model = Model(inputs=[sequence_1_input, sequence_2_input, sequence_3_input, sequence_4_input, features_input], outputs=out)\n",
        "  model.compile(loss=\"binary_crossentropy\", optimizer = keras.optimizers.Nadam(learning_rate= 0.0003),metrics = ['accuracy'])\n",
        "\n",
        "\n",
        "  return model\n",
        "\n",
        "early_stopping = EarlyStopping(monitor=\"val_loss\", patience=5)\n",
        "best_model_path = \"bi_time best_model\"  + \".h5\"\n",
        "model_checkpoint = ModelCheckpoint(best_model_path, save_best_only=True, save_weights_only=True)\n",
        "variable_gradient = ReduceLROnPlateau(monitor='val_accuracy', patience=2, factor=0.5, min_lr=0.00001)"
      ],
      "execution_count": 7,
      "outputs": []
    },
    {
      "cell_type": "code",
      "metadata": {
        "colab": {
          "base_uri": "https://localhost:8080/"
        },
        "id": "KL10bwUF6ia5",
        "outputId": "07753074-76d6-4e25-eed1-d25fb0c93cdd"
      },
      "source": [
        "bitimeLSTM_model = bitimeLSTM()\n",
        "class_weight = {0: 1.309028344, 1: 0.472001959}\n",
        "class_weight = {0: 0.792667958149676, 1: 1.3542103535370453}\n",
        "bitime_hist = bitimeLSTM_model.fit([q1_data_train, q2_data_train, q1_data_train, q2_data_train,feat_train], labels_train,\n",
        "                     validation_data=([q1_data_val, q2_data_val, q1_data_val, q2_data_val,feat_val], labels_val),\n",
        "                     epochs=60, batch_size=BATCH_SIZE, shuffle=True,\n",
        "                     callbacks=[early_stopping, model_checkpoint,variable_gradient], verbose=1)"
      ],
      "execution_count": null,
      "outputs": [
        {
          "output_type": "stream",
          "text": [
            "WARNING:tensorflow:Layer lstm_7 will not use cuDNN kernel since it doesn't meet the cuDNN kernel criteria. It will use generic GPU kernel as fallback when running on GPU\n",
            "WARNING:tensorflow:Layer lstm_7 will not use cuDNN kernel since it doesn't meet the cuDNN kernel criteria. It will use generic GPU kernel as fallback when running on GPU\n",
            "WARNING:tensorflow:Layer lstm_7 will not use cuDNN kernel since it doesn't meet the cuDNN kernel criteria. It will use generic GPU kernel as fallback when running on GPU\n",
            "Epoch 1/60\n",
            "285/285 [==============================] - 178s 590ms/step - loss: 0.4901 - accuracy: 0.7461 - val_loss: 0.4291 - val_accuracy: 0.7840\n",
            "Epoch 2/60\n",
            "285/285 [==============================] - 166s 582ms/step - loss: 0.3481 - accuracy: 0.8374 - val_loss: 0.3703 - val_accuracy: 0.8240\n",
            "Epoch 3/60\n",
            "285/285 [==============================] - 167s 587ms/step - loss: 0.2957 - accuracy: 0.8653 - val_loss: 0.3816 - val_accuracy: 0.8250\n",
            "Epoch 4/60\n",
            "285/285 [==============================] - 166s 583ms/step - loss: 0.2493 - accuracy: 0.8905 - val_loss: 0.3818 - val_accuracy: 0.8302\n",
            "Epoch 5/60\n",
            "285/285 [==============================] - 167s 585ms/step - loss: 0.2103 - accuracy: 0.9095 - val_loss: 0.4234 - val_accuracy: 0.8272\n",
            "Epoch 6/60\n",
            "285/285 [==============================] - 165s 580ms/step - loss: 0.1795 - accuracy: 0.9247 - val_loss: 0.4387 - val_accuracy: 0.8357\n",
            "Epoch 7/60\n",
            "285/285 [==============================] - 166s 584ms/step - loss: 0.1521 - accuracy: 0.9371 - val_loss: 0.4648 - val_accuracy: 0.8384\n"
          ],
          "name": "stdout"
        }
      ]
    },
    {
      "cell_type": "code",
      "metadata": {
        "colab": {
          "base_uri": "https://localhost:8080/"
        },
        "id": "Yu4RPa2Q0-NG",
        "outputId": "e0ecc70a-bac0-4e7d-c253-418a889a2f1a"
      },
      "source": [
        "bitimeLSTM_model.evaluate([q1_data_test,q2_data_test,q1_data_test,q2_data_test,feat_test], labels_test, batch_size=BATCH_SIZE)"
      ],
      "execution_count": null,
      "outputs": [
        {
          "output_type": "stream",
          "text": [
            "40/40 [==============================] - 3s 72ms/step - loss: 0.4737 - accuracy: 0.8351\n"
          ],
          "name": "stdout"
        },
        {
          "output_type": "execute_result",
          "data": {
            "text/plain": [
              "[0.4736797511577606, 0.8351122140884399]"
            ]
          },
          "metadata": {
            "tags": []
          },
          "execution_count": 32
        }
      ]
    },
    {
      "cell_type": "markdown",
      "metadata": {
        "id": "Dvesj0zIsNCJ"
      },
      "source": [
        "**Filter data and glove**\n",
        "\n",
        "[0.5042445063591003, 0.8374450206756592]\n",
        "\n",
        "**Filter data and word2vec**\n",
        "\n",
        "[0.46028727293014526, 0.8365979194641113]\n",
        "\n",
        "**stem data and word2vec**\n",
        "\n",
        "[0.5004165768623352, 0.8201102018356323]\n",
        "\n",
        "**Stem data and glove**\n",
        "\n",
        "[0.5011259317398071, 0.8296061754226685]"
      ]
    },
    {
      "cell_type": "code",
      "metadata": {
        "colab": {
          "base_uri": "https://localhost:8080/"
        },
        "id": "FiSXdTdlYZQ1",
        "outputId": "b10900a2-096b-4226-af07-985b1ae3dc59"
      },
      "source": [
        "import numpy as np\n",
        "import tensorflow as tf\n",
        "from tensorflow.keras.layers import *\n",
        "from tensorflow.keras.models import *\n",
        "from tensorflow.keras import backend as K\n",
        "class attention(Layer):\n",
        "    \n",
        "    def __init__(self, return_sequences=True):\n",
        "        self.return_sequences = return_sequences\n",
        "        super(attention,self).__init__()\n",
        "        \n",
        "    def build(self, input_shape):\n",
        "        \n",
        "        self.W=self.add_weight(name=\"att_weight\", shape=(input_shape[-1],1),\n",
        "                               initializer=\"normal\")\n",
        "        self.b=self.add_weight(name=\"att_bias\", shape=(input_shape[1],1),\n",
        "                               initializer=\"zeros\")\n",
        "        \n",
        "        super(attention,self).build(input_shape)\n",
        "        \n",
        "    def call(self, x):\n",
        "        \n",
        "        e = K.tanh(K.dot(x,self.W)+self.b)\n",
        "        a = K.softmax(e, axis=1)\n",
        "        output = x*a\n",
        "        \n",
        "        if self.return_sequences:\n",
        "            return output\n",
        "        \n",
        "        return K.sum(output, axis=1)\n",
        "attention(return_sequences=False)"
      ],
      "execution_count": 26,
      "outputs": [
        {
          "output_type": "execute_result",
          "data": {
            "text/plain": [
              "<__main__.attention at 0x7f1540285b38>"
            ]
          },
          "metadata": {
            "tags": []
          },
          "execution_count": 26
        }
      ]
    },
    {
      "cell_type": "code",
      "metadata": {
        "id": "dAnC_O699CWy"
      },
      "source": [
        " def lstm_att_Model():\n",
        "    num_lstm = 270\n",
        "    num_dense = 300\n",
        "    rate_drop_lstm = 0.15\n",
        "    rate_drop_dense = 0.15\n",
        "    nb_words = len(word_index) + 1\n",
        "    embedding_layer = Embedding(nb_words,\n",
        "        EMBEDDING_DIM,\n",
        "        weights=[embeddingMatrix],\n",
        "        input_length=MAX_SEQUENCE_LENGTH,\n",
        "        trainable=False)\n",
        "    lstm_layer = LSTM(num_lstm, dropout=rate_drop_lstm, recurrent_dropout=rate_drop_lstm,return_sequences=True)\n",
        "    Att= attention(return_sequences=False)\n",
        "    sequence_1_input = Input(shape=(MAX_SEQUENCE_LENGTH,), dtype='int32')\n",
        "    embedded_sequences_1 = embedding_layer(sequence_1_input)\n",
        "    x1 = lstm_layer(embedded_sequences_1)\n",
        "    x1 = Att(x1)\n",
        "\n",
        "    sequence_2_input = Input(shape=(MAX_SEQUENCE_LENGTH,), dtype='int32')\n",
        "    embedded_sequences_2 = embedding_layer(sequence_2_input)\n",
        "    y1 = lstm_layer(embedded_sequences_2)\n",
        "    y1 = Att(y1)\n",
        "\n",
        "    features_input = Input(shape=(feat_train.shape[1],), dtype=\"float32\")\n",
        "    features_dense = Dense(150, activation=\"relu\")(features_input)\n",
        "    features_dense = Dropout(0.25)(features_dense)\n",
        "    #features_dense = BatchNormalization()(features_dense)\n",
        "    features_dense = Dense(300, activation=\"relu\")(features_dense)\n",
        "    features_dense = Dropout(0.25)(features_dense)    \n",
        "    \n",
        "    merged = concatenate([x1, y1,features_dense])\n",
        "    merged = Dense(300, activation=\"relu\")(merged)\n",
        "    merged = Dropout(0.25)(merged)\n",
        "    merged = BatchNormalization()(merged)\n",
        "    merged = Dense(100, activation=\"relu\")(merged)\n",
        "    merged = Dropout(0.25)(merged)\n",
        "    merged = BatchNormalization()(merged)\n",
        "    merged = Dense(100, activation=\"relu\")(merged)\n",
        "    merged = Dropout(0.25)(merged)\n",
        "    merged = Dense(100, activation=\"relu\")(merged)\n",
        "    merged = Dropout(0.25)(merged)\n",
        "\n",
        "    preds = Dense(1, activation='sigmoid')(merged)\n",
        "\n",
        "    model = Model(inputs=[sequence_1_input, sequence_2_input, features_input], outputs=preds)\n",
        "    model.compile(loss=\"binary_crossentropy\", optimizer = keras.optimizers.Nadam(learning_rate= 0.0003),metrics = ['accuracy'])\n",
        "\n",
        "    return model\n",
        "    \n",
        "early_stopping = EarlyStopping(monitor=\"val_loss\", patience=5)\n",
        "best_model_path = \"best_att_model\"  + \".h5\"\n",
        "model_checkpoint = ModelCheckpoint(best_model_path, save_best_only=True, save_weights_only=True)\n",
        "variable_gradient = ReduceLROnPlateau(monitor='val_accuracy', patience=2, factor=0.5, min_lr=0.00001)"
      ],
      "execution_count": 8,
      "outputs": []
    },
    {
      "cell_type": "code",
      "metadata": {
        "colab": {
          "base_uri": "https://localhost:8080/"
        },
        "id": "dkZAXLTP9tEx",
        "outputId": "c1656dac-595c-402a-96ff-6404c237b99b"
      },
      "source": [
        "new_model = lstm_att_Model()\n",
        "#class_weight = {0: 1.309028344, 1: 0.472001959}\n",
        "class_weight = {0: 0.792667958149676, 1: 1.3542103535370453}\n",
        "newModel_hist = new_model.fit([q1_data_train, q2_data_train,feat_train], labels_train,\n",
        "                     validation_data=([q1_data_val, q2_data_val,feat_val], labels_val),\n",
        "                     epochs=30, batch_size=BATCH_SIZE, shuffle=True,class_weight = class_weight,\n",
        "                     callbacks=[early_stopping, model_checkpoint,variable_gradient], verbose=1)"
      ],
      "execution_count": null,
      "outputs": [
        {
          "output_type": "stream",
          "text": [
            "WARNING:tensorflow:Layer lstm_8 will not use cuDNN kernel since it doesn't meet the cuDNN kernel criteria. It will use generic GPU kernel as fallback when running on GPU\n",
            "Epoch 1/30\n",
            "285/285 [==============================] - 71s 225ms/step - loss: 0.5812 - accuracy: 0.6551 - val_loss: 0.4795 - val_accuracy: 0.7289\n",
            "Epoch 2/30\n",
            "285/285 [==============================] - 63s 222ms/step - loss: 0.4722 - accuracy: 0.7395 - val_loss: 0.4320 - val_accuracy: 0.7700\n",
            "Epoch 3/30\n",
            "285/285 [==============================] - 63s 222ms/step - loss: 0.4427 - accuracy: 0.7643 - val_loss: 0.4172 - val_accuracy: 0.7822\n",
            "Epoch 4/30\n",
            "285/285 [==============================] - 63s 222ms/step - loss: 0.4258 - accuracy: 0.7768 - val_loss: 0.4040 - val_accuracy: 0.7991\n",
            "Epoch 5/30\n",
            "285/285 [==============================] - 63s 222ms/step - loss: 0.4112 - accuracy: 0.7878 - val_loss: 0.4003 - val_accuracy: 0.7973\n",
            "Epoch 6/30\n",
            "285/285 [==============================] - 63s 222ms/step - loss: 0.3995 - accuracy: 0.7962 - val_loss: 0.4001 - val_accuracy: 0.7994\n",
            "Epoch 7/30\n",
            "285/285 [==============================] - 63s 222ms/step - loss: 0.3903 - accuracy: 0.8040 - val_loss: 0.3805 - val_accuracy: 0.8118\n",
            "Epoch 8/30\n",
            "285/285 [==============================] - 63s 222ms/step - loss: 0.3821 - accuracy: 0.8081 - val_loss: 0.3990 - val_accuracy: 0.7994\n",
            "Epoch 9/30\n",
            "285/285 [==============================] - 63s 221ms/step - loss: 0.3727 - accuracy: 0.8141 - val_loss: 0.3616 - val_accuracy: 0.8277\n",
            "Epoch 10/30\n",
            "285/285 [==============================] - 63s 221ms/step - loss: 0.3620 - accuracy: 0.8223 - val_loss: 0.3733 - val_accuracy: 0.8159\n",
            "Epoch 11/30\n",
            "285/285 [==============================] - 64s 223ms/step - loss: 0.3599 - accuracy: 0.8234 - val_loss: 0.3606 - val_accuracy: 0.8258\n",
            "Epoch 12/30\n",
            "285/285 [==============================] - 63s 221ms/step - loss: 0.3466 - accuracy: 0.8311 - val_loss: 0.3690 - val_accuracy: 0.8193\n",
            "Epoch 13/30\n",
            "285/285 [==============================] - 63s 220ms/step - loss: 0.3397 - accuracy: 0.8346 - val_loss: 0.3698 - val_accuracy: 0.8207\n",
            "Epoch 14/30\n",
            "285/285 [==============================] - 63s 222ms/step - loss: 0.3364 - accuracy: 0.8367 - val_loss: 0.3559 - val_accuracy: 0.8283\n",
            "Epoch 15/30\n",
            "285/285 [==============================] - 63s 220ms/step - loss: 0.3309 - accuracy: 0.8404 - val_loss: 0.3451 - val_accuracy: 0.8371\n",
            "Epoch 16/30\n",
            "285/285 [==============================] - 63s 221ms/step - loss: 0.3282 - accuracy: 0.8416 - val_loss: 0.3443 - val_accuracy: 0.8373\n",
            "Epoch 17/30\n",
            "285/285 [==============================] - 63s 222ms/step - loss: 0.3260 - accuracy: 0.8433 - val_loss: 0.3581 - val_accuracy: 0.8264\n",
            "Epoch 18/30\n",
            "285/285 [==============================] - 63s 222ms/step - loss: 0.3246 - accuracy: 0.8434 - val_loss: 0.3484 - val_accuracy: 0.8332\n",
            "Epoch 19/30\n",
            "285/285 [==============================] - 64s 224ms/step - loss: 0.3206 - accuracy: 0.8465 - val_loss: 0.3500 - val_accuracy: 0.8314\n",
            "Epoch 20/30\n",
            "285/285 [==============================] - 64s 223ms/step - loss: 0.3196 - accuracy: 0.8463 - val_loss: 0.3511 - val_accuracy: 0.8319\n",
            "Epoch 21/30\n",
            "285/285 [==============================] - 63s 220ms/step - loss: 0.3171 - accuracy: 0.8473 - val_loss: 0.3444 - val_accuracy: 0.8366\n"
          ],
          "name": "stdout"
        }
      ]
    },
    {
      "cell_type": "code",
      "metadata": {
        "colab": {
          "base_uri": "https://localhost:8080/"
        },
        "id": "DrbL3PV_cQLo",
        "outputId": "c168bfc2-a20a-466c-d30b-836db0d73672"
      },
      "source": [
        "new_model.evaluate([q1_data_test,q2_data_test,feat_test], labels_test, batch_size=BATCH_SIZE)"
      ],
      "execution_count": null,
      "outputs": [
        {
          "output_type": "stream",
          "text": [
            "40/40 [==============================] - 2s 39ms/step - loss: 0.3518 - accuracy: 0.8321\n"
          ],
          "name": "stdout"
        },
        {
          "output_type": "execute_result",
          "data": {
            "text/plain": [
              "[0.3518003523349762, 0.8320840001106262]"
            ]
          },
          "metadata": {
            "tags": []
          },
          "execution_count": 36
        }
      ]
    },
    {
      "cell_type": "markdown",
      "metadata": {
        "id": "N4hUzVLHZZQQ"
      },
      "source": [
        "**Filter Data and glove**\n",
        "\n",
        "[0.3611038625240326, 0.8257186412811279]\n",
        "\n",
        "**Filter Data and word2vec**\n",
        "\n",
        "[0.3767017126083374, 0.8159717321395874]\n",
        "\n",
        "**stem data and word2vec**\n",
        "\n",
        "[0.3820566236972809, 0.8106185793876648]\n",
        "\n",
        "**stem data and glove**\n",
        "\n",
        "[0.36629751324653625, 0.8204531669616699]\n"
      ]
    },
    {
      "cell_type": "code",
      "metadata": {
        "id": "3mJUixE7wbUF"
      },
      "source": [
        " def bilstm_att_Model():\n",
        "    num_lstm = 270\n",
        "    num_dense = 300\n",
        "    rate_drop_lstm = 0.15\n",
        "    rate_drop_dense = 0.15\n",
        "    nb_words = len(word_index) + 1\n",
        "    embedding_layer = Embedding(nb_words,\n",
        "        EMBEDDING_DIM,\n",
        "        weights=[embeddingMatrix],\n",
        "        input_length=MAX_SEQUENCE_LENGTH,\n",
        "        trainable=False)\n",
        "    lstm_layer = Bidirectional(LSTM(num_lstm, dropout=rate_drop_lstm, recurrent_dropout=rate_drop_lstm,return_sequences=True))\n",
        "    Att= attention(return_sequences=False)\n",
        "    sequence_1_input = Input(shape=(MAX_SEQUENCE_LENGTH,), dtype='int32')\n",
        "    embedded_sequences_1 = embedding_layer(sequence_1_input)\n",
        "    x1 = lstm_layer(embedded_sequences_1)\n",
        "    x1 = Att(x1)\n",
        "\n",
        "    sequence_2_input = Input(shape=(MAX_SEQUENCE_LENGTH,), dtype='int32')\n",
        "    embedded_sequences_2 = embedding_layer(sequence_2_input)\n",
        "    y1 = lstm_layer(embedded_sequences_2)\n",
        "    y1 = Att(y1)\n",
        "\n",
        "    features_input = Input(shape=(feat_train.shape[1],), dtype=\"float32\")\n",
        "    features_dense = Dense(150, activation=\"relu\")(features_input)\n",
        "    features_dense = Dropout(0.25)(features_dense)\n",
        "    #features_dense = BatchNormalization()(features_dense)\n",
        "    features_dense = Dense(300, activation=\"relu\")(features_dense)\n",
        "    features_dense = Dropout(0.25)(features_dense)    \n",
        "    \n",
        "    \n",
        "    merged = concatenate([x1, y1,features_dense])\n",
        "    merged = Dense(300, activation=\"relu\")(merged)\n",
        "    merged = Dropout(0.25)(merged)\n",
        "    merged = BatchNormalization()(merged)\n",
        "    merged = Dense(100, activation=\"relu\")(merged)\n",
        "    merged = Dropout(0.25)(merged)\n",
        "    merged = BatchNormalization()(merged)\n",
        "    merged = Dense(100, activation=\"relu\")(merged)\n",
        "    merged = Dropout(0.25)(merged)\n",
        "    merged = Dense(100, activation=\"relu\")(merged)\n",
        "    merged = Dropout(0.25)(merged)\n",
        "\n",
        "    preds = Dense(1, activation='sigmoid')(merged)\n",
        "\n",
        "    model = Model(inputs=[sequence_1_input, sequence_2_input, features_input], outputs=preds)\n",
        "    model.compile(loss=\"binary_crossentropy\", optimizer = keras.optimizers.Nadam(learning_rate= 0.0003),metrics = ['accuracy'])\n",
        "\n",
        "    return model\n",
        "    \n",
        "early_stopping = EarlyStopping(monitor=\"val_loss\", patience=5)\n",
        "best_model_path = \"best_bi_att_model\"  + \".h5\"\n",
        "model_checkpoint = ModelCheckpoint(best_model_path, save_best_only=True, save_weights_only=True)\n",
        "variable_gradient = ReduceLROnPlateau(monitor='val_accuracy', patience=2, factor=0.5, min_lr=0.00001)"
      ],
      "execution_count": 9,
      "outputs": []
    },
    {
      "cell_type": "code",
      "metadata": {
        "id": "rAXhXqrYwfFP",
        "colab": {
          "base_uri": "https://localhost:8080/"
        },
        "outputId": "bac21f1d-c051-4264-9db5-bf845edabf8b"
      },
      "source": [
        "newbi_model = bilstm_att_Model()\n",
        "#class_weight = {0: 1.309028344, 1: 0.472001959}\n",
        "class_weight = {0: 0.792667958149676, 1: 1.3542103535370453}\n",
        "newModelbi_hist = newbi_model.fit([q1_data_train, q2_data_train,feat_train], labels_train,\n",
        "                     validation_data=([q1_data_val, q2_data_val,feat_val], labels_val),\n",
        "                     epochs=30, batch_size=BATCH_SIZE, shuffle=True,class_weight = class_weight,\n",
        "                     callbacks=[early_stopping, model_checkpoint,variable_gradient], verbose=1)"
      ],
      "execution_count": null,
      "outputs": [
        {
          "output_type": "stream",
          "text": [
            "WARNING:tensorflow:Layer lstm_9 will not use cuDNN kernel since it doesn't meet the cuDNN kernel criteria. It will use generic GPU kernel as fallback when running on GPU\n",
            "WARNING:tensorflow:Layer lstm_9 will not use cuDNN kernel since it doesn't meet the cuDNN kernel criteria. It will use generic GPU kernel as fallback when running on GPU\n",
            "WARNING:tensorflow:Layer lstm_9 will not use cuDNN kernel since it doesn't meet the cuDNN kernel criteria. It will use generic GPU kernel as fallback when running on GPU\n",
            "Epoch 1/30\n",
            "285/285 [==============================] - 138s 445ms/step - loss: 0.6055 - accuracy: 0.6410 - val_loss: 0.4860 - val_accuracy: 0.7313\n",
            "Epoch 2/30\n",
            "285/285 [==============================] - 125s 439ms/step - loss: 0.4726 - accuracy: 0.7453 - val_loss: 0.4568 - val_accuracy: 0.7584\n",
            "Epoch 3/30\n",
            "285/285 [==============================] - 125s 439ms/step - loss: 0.4381 - accuracy: 0.7688 - val_loss: 0.4084 - val_accuracy: 0.7923\n",
            "Epoch 4/30\n",
            "285/285 [==============================] - 126s 444ms/step - loss: 0.4192 - accuracy: 0.7815 - val_loss: 0.3968 - val_accuracy: 0.8001\n",
            "Epoch 5/30\n",
            "285/285 [==============================] - 128s 450ms/step - loss: 0.4044 - accuracy: 0.7915 - val_loss: 0.3951 - val_accuracy: 0.7989\n",
            "Epoch 6/30\n",
            "285/285 [==============================] - 125s 438ms/step - loss: 0.3927 - accuracy: 0.7998 - val_loss: 0.3992 - val_accuracy: 0.7989\n",
            "Epoch 7/30\n",
            "285/285 [==============================] - 126s 443ms/step - loss: 0.3796 - accuracy: 0.8084 - val_loss: 0.3701 - val_accuracy: 0.8186\n",
            "Epoch 8/30\n",
            "285/285 [==============================] - 126s 441ms/step - loss: 0.3729 - accuracy: 0.8146 - val_loss: 0.3748 - val_accuracy: 0.8145\n",
            "Epoch 9/30\n",
            "285/285 [==============================] - 125s 438ms/step - loss: 0.3675 - accuracy: 0.8168 - val_loss: 0.3792 - val_accuracy: 0.8068\n",
            "Epoch 10/30\n",
            "285/285 [==============================] - 125s 439ms/step - loss: 0.3596 - accuracy: 0.8216 - val_loss: 0.3653 - val_accuracy: 0.8200\n",
            "Epoch 11/30\n",
            "285/285 [==============================] - 125s 438ms/step - loss: 0.3575 - accuracy: 0.8236 - val_loss: 0.3724 - val_accuracy: 0.8139\n",
            "Epoch 12/30\n",
            "285/285 [==============================] - 125s 438ms/step - loss: 0.3526 - accuracy: 0.8267 - val_loss: 0.3706 - val_accuracy: 0.8153\n",
            "Epoch 13/30\n",
            "285/285 [==============================] - 124s 437ms/step - loss: 0.3500 - accuracy: 0.8267 - val_loss: 0.3613 - val_accuracy: 0.8230\n",
            "Epoch 14/30\n",
            "285/285 [==============================] - 125s 439ms/step - loss: 0.3494 - accuracy: 0.8290 - val_loss: 0.3592 - val_accuracy: 0.8248\n",
            "Epoch 15/30\n",
            "285/285 [==============================] - 125s 440ms/step - loss: 0.3483 - accuracy: 0.8294 - val_loss: 0.3690 - val_accuracy: 0.8166\n",
            "Epoch 16/30\n",
            "285/285 [==============================] - 127s 445ms/step - loss: 0.3462 - accuracy: 0.8311 - val_loss: 0.3649 - val_accuracy: 0.8196\n",
            "Epoch 17/30\n",
            "285/285 [==============================] - 125s 438ms/step - loss: 0.3414 - accuracy: 0.8329 - val_loss: 0.3580 - val_accuracy: 0.8254\n",
            "Epoch 18/30\n",
            "285/285 [==============================] - 124s 437ms/step - loss: 0.3434 - accuracy: 0.8324 - val_loss: 0.3602 - val_accuracy: 0.8235\n",
            "Epoch 19/30\n",
            "285/285 [==============================] - 124s 435ms/step - loss: 0.3425 - accuracy: 0.8333 - val_loss: 0.3563 - val_accuracy: 0.8260\n",
            "Epoch 20/30\n",
            "285/285 [==============================] - 126s 442ms/step - loss: 0.3426 - accuracy: 0.8325 - val_loss: 0.3595 - val_accuracy: 0.8243\n",
            "Epoch 21/30\n",
            "285/285 [==============================] - 125s 438ms/step - loss: 0.3405 - accuracy: 0.8332 - val_loss: 0.3653 - val_accuracy: 0.8195\n",
            "Epoch 22/30\n",
            "285/285 [==============================] - 124s 435ms/step - loss: 0.3407 - accuracy: 0.8341 - val_loss: 0.3588 - val_accuracy: 0.8245\n",
            "Epoch 23/30\n",
            "285/285 [==============================] - 125s 439ms/step - loss: 0.3400 - accuracy: 0.8347 - val_loss: 0.3559 - val_accuracy: 0.8267\n",
            "Epoch 24/30\n",
            "285/285 [==============================] - 125s 439ms/step - loss: 0.3422 - accuracy: 0.8336 - val_loss: 0.3569 - val_accuracy: 0.8257\n",
            "Epoch 25/30\n",
            "285/285 [==============================] - 125s 439ms/step - loss: 0.3391 - accuracy: 0.8356 - val_loss: 0.3552 - val_accuracy: 0.8269\n",
            "Epoch 26/30\n",
            "285/285 [==============================] - 126s 441ms/step - loss: 0.3375 - accuracy: 0.8358 - val_loss: 0.3581 - val_accuracy: 0.8240\n",
            "Epoch 27/30\n",
            "285/285 [==============================] - 124s 436ms/step - loss: 0.3371 - accuracy: 0.8362 - val_loss: 0.3570 - val_accuracy: 0.8253\n",
            "Epoch 28/30\n",
            "285/285 [==============================] - 124s 437ms/step - loss: 0.3378 - accuracy: 0.8366 - val_loss: 0.3592 - val_accuracy: 0.8235\n",
            "Epoch 29/30\n",
            "285/285 [==============================] - 127s 447ms/step - loss: 0.3383 - accuracy: 0.8364 - val_loss: 0.3570 - val_accuracy: 0.8256\n",
            "Epoch 30/30\n",
            "285/285 [==============================] - 127s 446ms/step - loss: 0.3386 - accuracy: 0.8350 - val_loss: 0.3582 - val_accuracy: 0.8245\n"
          ],
          "name": "stdout"
        }
      ]
    },
    {
      "cell_type": "code",
      "metadata": {
        "id": "ohRyttap4Kjc",
        "colab": {
          "base_uri": "https://localhost:8080/"
        },
        "outputId": "306a102a-226b-45cb-981c-62c06c3d0d07"
      },
      "source": [
        "newbi_model.evaluate([q1_data_test,q2_data_test,feat_test], labels_test, batch_size=BATCH_SIZE)"
      ],
      "execution_count": null,
      "outputs": [
        {
          "output_type": "stream",
          "text": [
            "40/40 [==============================] - 3s 68ms/step - loss: 0.3637 - accuracy: 0.8200\n"
          ],
          "name": "stdout"
        },
        {
          "output_type": "execute_result",
          "data": {
            "text/plain": [
              "[0.3636777997016907, 0.820020854473114]"
            ]
          },
          "metadata": {
            "tags": []
          },
          "execution_count": 39
        }
      ]
    },
    {
      "cell_type": "markdown",
      "metadata": {
        "id": "WZNnQh6b2V-f"
      },
      "source": [
        "**Filter data and glove**\n",
        "\n",
        "[0.3455556333065033, 0.8333706259727478]\n",
        "\n",
        "**Filter data and word2vec**\n",
        "\n",
        "[0.35581594705581665, 0.8284117579460144]\n",
        "\n",
        "**stem data and word2vec**\n",
        "\n",
        "[0.3719103932380676, 0.8173303008079529]\n",
        "\n",
        "**stem data and glove**\n",
        "\n",
        "[0.360617458820343, 0.8248070478439331]"
      ]
    },
    {
      "cell_type": "code",
      "metadata": {
        "colab": {
          "base_uri": "https://localhost:8080/"
        },
        "id": "sA7i15fb_41k",
        "outputId": "93742cdf-bcb3-4595-e5d7-27b4dbac652a"
      },
      "source": [
        "lstm = lstm_Model()\n",
        "bilstm = bilstm_Model()\n",
        "timelstm = timeLSTM()\n",
        "timebilstm = bitimeLSTM()\n",
        "attlstm = lstm_att_Model()\n",
        "attbilstm = bilstm_att_Model()"
      ],
      "execution_count": 27,
      "outputs": [
        {
          "output_type": "stream",
          "text": [
            "WARNING:tensorflow:Layer lstm_5 will not use cuDNN kernel since it doesn't meet the cuDNN kernel criteria. It will use generic GPU kernel as fallback when running on GPU\n",
            "WARNING:tensorflow:Layer lstm_6 will not use cuDNN kernel since it doesn't meet the cuDNN kernel criteria. It will use generic GPU kernel as fallback when running on GPU\n",
            "WARNING:tensorflow:Layer lstm_6 will not use cuDNN kernel since it doesn't meet the cuDNN kernel criteria. It will use generic GPU kernel as fallback when running on GPU\n",
            "WARNING:tensorflow:Layer lstm_6 will not use cuDNN kernel since it doesn't meet the cuDNN kernel criteria. It will use generic GPU kernel as fallback when running on GPU\n",
            "WARNING:tensorflow:Layer lstm_7 will not use cuDNN kernel since it doesn't meet the cuDNN kernel criteria. It will use generic GPU kernel as fallback when running on GPU\n",
            "WARNING:tensorflow:Layer lstm_8 will not use cuDNN kernel since it doesn't meet the cuDNN kernel criteria. It will use generic GPU kernel as fallback when running on GPU\n",
            "WARNING:tensorflow:Layer lstm_8 will not use cuDNN kernel since it doesn't meet the cuDNN kernel criteria. It will use generic GPU kernel as fallback when running on GPU\n",
            "WARNING:tensorflow:Layer lstm_8 will not use cuDNN kernel since it doesn't meet the cuDNN kernel criteria. It will use generic GPU kernel as fallback when running on GPU\n",
            "WARNING:tensorflow:Layer lstm_9 will not use cuDNN kernel since it doesn't meet the cuDNN kernel criteria. It will use generic GPU kernel as fallback when running on GPU\n",
            "WARNING:tensorflow:Layer lstm_10 will not use cuDNN kernel since it doesn't meet the cuDNN kernel criteria. It will use generic GPU kernel as fallback when running on GPU\n",
            "WARNING:tensorflow:Layer lstm_10 will not use cuDNN kernel since it doesn't meet the cuDNN kernel criteria. It will use generic GPU kernel as fallback when running on GPU\n",
            "WARNING:tensorflow:Layer lstm_10 will not use cuDNN kernel since it doesn't meet the cuDNN kernel criteria. It will use generic GPU kernel as fallback when running on GPU\n"
          ],
          "name": "stdout"
        }
      ]
    },
    {
      "cell_type": "code",
      "metadata": {
        "colab": {
          "base_uri": "https://localhost:8080/",
          "height": 1000
        },
        "id": "QM7pyf6NAOev",
        "outputId": "eff59276-0418-4b18-d15a-fe65c01ba9bc"
      },
      "source": [
        "tf.keras.utils.plot_model(lstm, to_file=\"lstm.png\", show_shapes=True,dpi=50)"
      ],
      "execution_count": 39,
      "outputs": [
        {
          "output_type": "execute_result",
          "data": {
            "image/png": "[encoded data removed]",
            "text/plain": [
              "<IPython.core.display.Image object>"
            ]
          },
          "metadata": {
            "tags": []
          },
          "execution_count": 39
        }
      ]
    }
  ]
}