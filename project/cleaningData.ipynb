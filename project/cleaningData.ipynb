{
  "nbformat": 4,
  "nbformat_minor": 0,
  "metadata": {
    "colab": {
      "name": "cleaningData.ipynb",
      "provenance": [],
      "collapsed_sections": [],
      "machine_shape": "hm",
      "authorship_tag": "ABX9TyNTx/4Tt3ga6IyDp0kStgTu",
      "include_colab_link": true
    },
    "kernelspec": {
      "name": "python3",
      "display_name": "Python 3"
    }
  },
  "cells": [
    {
      "cell_type": "markdown",
      "metadata": {
        "id": "view-in-github",
        "colab_type": "text"
      },
      "source": [
        "<a href=\"https://colab.research.google.com/github/Noufal21/text-mining/blob/master/project/cleaningData.ipynb\" target=\"_parent\"><img src=\"https://colab.research.google.com/assets/colab-badge.svg\" alt=\"Open In Colab\"/></a>"
      ]
    },
    {
      "cell_type": "code",
      "metadata": {
        "colab": {
          "base_uri": "https://localhost:8080/"
        },
        "id": "hr5T5rJpI-NY",
        "outputId": "0bec0fc8-fc2b-476a-f7bf-73e80d80284d"
      },
      "source": [
        "from zipfile import ZipFile\n",
        "file_name = \"/content/train.csv.zip\"\n",
        "\n",
        "with ZipFile(file_name,'r') as zip:\n",
        "  zip.extractall()\n",
        "  print(\"done\")"
      ],
      "execution_count": null,
      "outputs": [
        {
          "output_type": "stream",
          "text": [
            "done\n"
          ],
          "name": "stdout"
        }
      ]
    },
    {
      "cell_type": "code",
      "metadata": {
        "id": "l_zvIxz5PeJq"
      },
      "source": [
        "import re\n",
        "import pandas as pd\n",
        "import numpy as np\n",
        "import matplotlib.pyplot as plt\n",
        "import seaborn\n",
        "import spacy\n",
        "from spacy.lang.en.stop_words import STOP_WORDS\n",
        "from spacy.attrs import ORTH, LEMMA, NORM, TAG\n",
        "from spacy.language import Language\n",
        "from spacy.tokens import Doc\n",
        "from spacy.symbols import IS_CURRENCY\n",
        "from nltk.stem import SnowballStemmer"
      ],
      "execution_count": null,
      "outputs": []
    },
    {
      "cell_type": "code",
      "metadata": {
        "id": "YC582-guTJVO"
      },
      "source": [
        "nlp = spacy.load(\"en\", disable=['parser', 'tagger', 'ner'])\n",
        "\n",
        "# reference https://github.com/slaps-lab/bibliotheca/blob/master/text/expand_contractions_with_spacy.ipynb\n",
        "def expand_contractions(text: str) -> str:\n",
        "    \n",
        "    ## https://en.wikipedia.org/wiki/Wikipedia:List_of_English_contractions\n",
        "    \n",
        "    flags = re.IGNORECASE | re.MULTILINE\n",
        "    \n",
        "    text = re.sub(r'`', \"'\", text, flags = flags)\n",
        "    \n",
        "    ## starts / ends with '\n",
        "    text = re.sub(\n",
        "        r\"(\\s|^)'(aight|cause)(\\s|$)\",\n",
        "        '\\g<1>\\g<2>\\g<3>',\n",
        "        text, flags = flags\n",
        "    )\n",
        "    \n",
        "    text = re.sub(\n",
        "        r\"(\\s|^)'t(was|is)(\\s|$)\", r'\\g<1>it \\g<2>\\g<3>',\n",
        "        text,\n",
        "        flags = flags\n",
        "    )\n",
        "    \n",
        "    text = re.sub(\n",
        "        r\"(\\s|^)ol'(\\s|$)\",\n",
        "        '\\g<1>old\\g<2>',\n",
        "        text, flags = flags\n",
        "    )\n",
        "    \n",
        "    ## expand words without '\n",
        "    text = re.sub(r\"\\b(aight)\\b\", 'alright', text, flags = flags)\n",
        "    text = re.sub(r'\\bcause\\b', 'because', text, flags = flags)\n",
        "    text = re.sub(r'\\b(finna|gonna)\\b', 'going to', text, flags = flags)\n",
        "    text = re.sub(r'\\bgimme\\b', 'give me', text, flags = flags)\n",
        "    text = re.sub(r\"\\bgive'n\\b\", 'given', text, flags = flags)\n",
        "    text = re.sub(r\"\\bhowdy\\b\", 'how do you do', text, flags = flags)\n",
        "    text = re.sub(r\"\\bgotta\\b\", 'got to', text, flags = flags)\n",
        "    text = re.sub(r\"\\binnit\\b\", 'is it not', text, flags = flags)\n",
        "    text = re.sub(r\"\\b(can)(not)\\b\", r'\\g<1> \\g<2>', text, flags = flags)\n",
        "    text = re.sub(r\"\\bwanna\\b\", 'want to', text, flags = flags)\n",
        "    text = re.sub(r\"\\bmethinks\\b\", 'me thinks', text, flags = flags)\n",
        "    \n",
        "    ## one offs,\n",
        "    text = re.sub(r\"\\bo'er\\b\", r'over', text, flags = flags)\n",
        "    text = re.sub(r\"\\bne'er\\b\", r'never', text, flags = flags)\n",
        "    text = re.sub(r\"\\bo'?clock\\b\", 'of the clock', text, flags = flags)\n",
        "    text = re.sub(r\"\\bma'am\\b\", 'madam', text, flags = flags)\n",
        "    text = re.sub(r\"\\bgiv'n\\b\", 'given', text, flags = flags)\n",
        "    text = re.sub(r\"\\be'er\\b\", 'ever', text, flags = flags)\n",
        "    text = re.sub(r\"\\bd'ye\\b\", 'do you', text, flags = flags)\n",
        "    text = re.sub(r\"\\be'er\\b\", 'ever', text, flags = flags)\n",
        "    text = re.sub(r\"\\bd'ye\\b\", 'do you', text, flags = flags)\n",
        "    text = re.sub(r\"\\bg'?day\\b\", 'good day', text, flags = flags)\n",
        "    text = re.sub(r\"\\b(ain|amn)'?t\\b\", 'am not', text, flags = flags)\n",
        "    text = re.sub(r\"\\b(are|can)'?t\\b\", r'\\g<1> not', text, flags = flags)\n",
        "    text = re.sub(r\"\\b(let)'?s\\b\", r'\\g<1> us', text, flags = flags)\n",
        "    \n",
        "    ## major expansions involving smaller,\n",
        "    text = re.sub(r\"\\by'all'dn't've'd\\b\", 'you all would not have had', text, flags = flags)\n",
        "    text = re.sub(r\"\\by'all're\\b\", 'you all are', text, flags = flags)\n",
        "    text = re.sub(r\"\\by'all'd've\\b\", 'you all would have', text, flags = flags)\n",
        "    text = re.sub(r\"(\\s)y'all(\\s)\", r'\\g<1>you all\\g<2>', text, flags = flags)\n",
        "    \n",
        "    ## minor,\n",
        "    text = re.sub(r\"\\b(won)'?t\\b\", 'will not', text, flags = flags)\n",
        "    text = re.sub(r\"\\bhe'd\\b\", 'he had', text, flags = flags)\n",
        "\n",
        "    ## major,\n",
        "    text = re.sub(r\"\\b(I|we|who)'?d'?ve\\b\", r'\\g<1> would have', text, flags = flags)\n",
        "    text = re.sub(r\"\\b(could|would|must|should|would)n'?t'?ve\\b\", r'\\g<1> not have', text, flags = flags)\n",
        "    text = re.sub(r\"\\b(he)'?dn'?t'?ve'?d\\b\", r'\\g<1> would not have had', text, flags = flags)\n",
        "    text = re.sub(r\"\\b(daren|daresn|dasn)'?t\", 'dare not', text, flags = flags)\n",
        "    text = re.sub(r\"\\b(he|how|i|it|she|that|there|these|they|we|what|where|which|who|you)'?ll\\b\", r'\\g<1> will', text, flags = flags)\n",
        "    text = re.sub(r\"\\b(he|how|i|it|she|that|there|these|they|we|what|where|which|who|you)’?ll\\b\", r'\\g<1> will', text, flags = flags)\n",
        "    text = re.sub(r\"\\b(everybody|everyone|he|how|it|she|somebody|someone|something|that|there|this|what|when|where|which|who|why)'?s\\b\", r'\\g<1> is', text, flags = flags)\n",
        "    text = re.sub(r\"\\b(I)'?m'a\\b\", r'\\g<1> am about to', text, flags = flags)\n",
        "    text = re.sub(r\"\\b(I)'?m'o\\b\", r'\\g<1> am going to', text, flags = flags)\n",
        "    text = re.sub(r\"\\b(I)'?m\\b\", r'\\g<1> am', text, flags = flags)\n",
        "    text = re.sub(r\"\\bshan't\\b\", 'shall not', text, flags = flags)\n",
        "    text = re.sub(r\"\\b(are|could|did|does|do|go|had|has|have|is|may|might|must|need|ought|shall|should|was|were|would)n'?t\\b\", r'\\g<1> not', text, flags = flags)\n",
        "    text = re.sub(r\"\\b(are|could|did|does|do|go|had|has|have|is|may|might|must|need|ought|shall|should|was|were|would)n’?t\\b\", r'\\g<1> not', text, flags = flags)\n",
        "    text = re.sub(r\"\\b(could|had|he|i|may|might|must|should|these|they|those|to|we|what|where|which|who|would|you)'?ve\\b\", r'\\g<1> have', text, flags = flags)\n",
        "    text = re.sub(r\"\\b(how|so|that|there|these|they|those|we|what|where|which|who|why|you)'?re\\b\", r'\\g<1> are', text, flags = flags)\n",
        "    text = re.sub(r\"\\b(I|it|she|that|there|they|we|which|you)'?d\\b\", r'\\g<1> had', text, flags = flags)\n",
        "    text = re.sub(r\"\\b(how|what|where|who|why)'?d\\b\", r'\\g<1> did', text, flags = flags)\n",
        "    text = re.sub(r\"\\b(could|would|must|should|would)not\\b\", r'\\g<1> not', text, flags = flags)\n",
        "    text = re.sub(r\"\\b(are|could|did|does|do|go|had|has|have|is|may|might|must|need|ought|shall|should|was|were|would)not\\b\", r'\\g<1> not', text, flags = flags)\n",
        "    \n",
        "    ## countries\n",
        "    text = re.sub(r\"\\bu.k\\b\", 'United Kingdom', text, flags = flags)\n",
        "    text = re.sub(r\"\\busa\\b\", 'United State', text, flags = flags)\n",
        "    ## currency\n",
        "    text = re.sub(r\"\\$\", 'USD', text, flags = flags)\n",
        "    text = re.sub(r\"\\£\", 'Pound', text, flags = flags)\n",
        "    text = re.sub(r\"\\₹\", 'INR', text, flags = flags)\n",
        "    text = re.sub(r\"\\bbn\\b\", 'billion', text, flags = flags)\n",
        "\n",
        "    # weights\n",
        "    text = re.sub(r\"\\bkg\\b\", 'kilograms', text, flags = flags)\n",
        "    \n",
        "    text = re.sub(r\"\\%\", 'percentage', text, flags = flags)\n",
        "    text = re.sub(r\"\\@\", 'at sign', text, flags = flags)\n",
        "\n",
        "    #others\n",
        "    \n",
        "    text = re.sub(r\"\\bpokémonpokémon\\b\", 'pokemon', text, flags = flags)\n",
        "    text = re.sub(r\"\\bpokémons\\b\", 'pokemon', text, flags = flags)\n",
        "    text = re.sub(r\"\\bpokécoins\\b\", 'pokecoins', text, flags = flags)\n",
        "    text = re.sub(r\"\\bpokémon\\b\", 'pokemon', text, flags = flags)\n",
        "    text = re.sub(r\"\\bpoké\\b\", 'pokemon', text, flags = flags)\n",
        "    text = re.sub(r\"\\b'?s\\b\", 'is', text, flags = flags)\n",
        "    text = re.sub(r\"\\bbeyoncé\\b\", 'beyonce', text, flags = flags)\n",
        "    text = re.sub(r\"\\bCompany‬‪Delhi‬\\b\", 'company‬‪ delhi‬', text, flags = flags)\n",
        "    text = re.sub(r\"\\bméxico‬\\b\", 'mexico', text, flags = flags)\n",
        "    text = re.sub(r\"\\bcan´?t\\b\", 'can not', text, flags = flags)\n",
        "    text = re.sub(r\"\\bcountry－japan\\b\", 'company‬‪ japan', text, flags = flags)\n",
        "    text = re.sub(r\"\\bnestlé\\b\", 'nestle', text, flags = flags)\n",
        "    text = re.sub(r\"\\bmontréal\\b\", 'montreal', text, flags = flags)\n",
        "    text = re.sub(r\"\\bfiancé\\b\", 'fiance', text, flags = flags)\n",
        "    text = re.sub(r\"\\bréally\\b\", 'really', text, flags = flags)\n",
        "    text = re.sub(r\"\\bzürich\\b\", 'zurich', text, flags = flags)\n",
        "    text = re.sub(r\"\\brésumé\\b\", 'resume', text, flags = flags)\n",
        "    text = re.sub(r\"\\bresumé\\b\", 'resume', text, flags = flags)\n",
        "    text = re.sub(r\"\\bdöner\\b\", 'doner', text, flags = flags)\n",
        "    text = re.sub(r\"\\bwhàt\\b\", 'what', text, flags = flags)\n",
        "    text = re.sub(r\"\\bdéjà\\b\", 'deja', text, flags = flags)\n",
        "    text = re.sub(r\"\\bsánchez\\b\", 'sanchez', text, flags = flags)\n",
        "    text = re.sub(r\"\\bcliché\\b\", 'cliche', text, flags = flags)\n",
        "    text = re.sub(r\"\\bcliché\\b\", 'cliche', text, flags = flags)\n",
        "    text = re.sub(r\"\\bsãotomépríncipe\\b\", 'Sao Tome Principe', text, flags = flags)\n",
        "\n",
        "    text = re.sub(r\"\\bn’tn’t\\b\", 'not not', text, flags = flags)\n",
        "    text = re.sub(r\"\\bn'tn't\\b\", 'not not', text, flags = flags)\n",
        "\n",
        "    text = re.sub(r\"\\bcan’t\\b\", 'can not', text, flags = flags)\n",
        "    text = re.sub(r\"\\bcan't\\b\", 'can not', text, flags = flags)\n",
        "\n",
        "\n",
        "    text = re.sub(r\"\\bresolutions’2017\\b\", 'resolutions 2017', text, flags = flags)\n",
        "    text = re.sub(r\"\\b‎INR1000‎INR500\\b\", '‎inr1000‎ inr500', text, flags = flags)\n",
        "    text = re.sub(r\"\\b(what|it|year|trump|master|clinton|modi|who|people|world|hoffman|girl|earth|someone|mcdonald|india|person|mother|he|asperger|one|government|layman|planet|today|everyone|hitler|else|women|president|driver|husband|there|sister|newton|writer|apple|other)’is\\b\", r'\\g<1> is', text, flags = flags)\n",
        "    text = re.sub(r\"\\b(what|it|year|trump|master|clinton|modi|who|people|world|hoffman|girl|earth|someone|mcdonald|india|person|mother|he|asperger|one|government|layman|planet|today|everyone|hitler|else|women|president|driver|husband|there|sister|newton|writer|apple|other)'is\\b\", r'\\g<1> is', text, flags = flags)\n",
        "    \n",
        "    text = re.sub(r\"\\b’re\\b\", 'are', text, flags = flags)\n",
        "    text = re.sub(r\"\\b're\\b\", 'are', text, flags = flags)\n",
        "\n",
        "    text = re.sub(r\"\\b’ve\\b\", 'have', text, flags = flags)\n",
        "    text = re.sub(r\"\\b've\\b\", 'have', text, flags = flags)\n",
        "\n",
        "\n",
        "\n",
        "    text = re.sub(r\"\\b’m\\b\", 'am', text, flags = flags)\n",
        "    text = re.sub(r\"\\b'm\\b\", 'am', text, flags = flags)\n",
        "    text = re.sub(r\"\\bn’?t\\b\", 'not', text, flags = flags)\n",
        "    text = re.sub(r\"\\bn'?t\\b\", 'not', text, flags = flags)    \n",
        "\n",
        "    \n",
        "    stemmer = SnowballStemmer('english')\n",
        "    stemmed_words = [stemmer.stem(word) for word in text.split()]\n",
        "    text = \" \".join(stemmed_words)\n",
        "    return text\n",
        "\n",
        "class ExpandContractionsComponent(object):\n",
        "    name = \"expand_contractions\"\n",
        "\n",
        "    nlp: Language\n",
        "\n",
        "    def __init__(self, nlp: Language):\n",
        "        self.nlp = nlp\n",
        "\n",
        "    def __call__(self, doc: Doc) -> Doc:\n",
        "        text = doc.text\n",
        "        return self.nlp.make_doc(expand_contractions(text))\n",
        "nlp.add_pipe(\n",
        "    ExpandContractionsComponent(nlp),\n",
        ")"
      ],
      "execution_count": null,
      "outputs": []
    },
    {
      "cell_type": "code",
      "metadata": {
        "colab": {
          "base_uri": "https://localhost:8080/",
          "height": 204
        },
        "id": "zFXTy_x2P71Z",
        "outputId": "c9d47184-8365-48b3-dc67-a48cd5715268"
      },
      "source": [
        "train_df = pd.read_csv(\"/content/train.csv\")\n",
        "train_df.head()"
      ],
      "execution_count": null,
      "outputs": [
        {
          "output_type": "execute_result",
          "data": {
            "text/html": [
              "<div>\n",
              "<style scoped>\n",
              "    .dataframe tbody tr th:only-of-type {\n",
              "        vertical-align: middle;\n",
              "    }\n",
              "\n",
              "    .dataframe tbody tr th {\n",
              "        vertical-align: top;\n",
              "    }\n",
              "\n",
              "    .dataframe thead th {\n",
              "        text-align: right;\n",
              "    }\n",
              "</style>\n",
              "<table border=\"1\" class=\"dataframe\">\n",
              "  <thead>\n",
              "    <tr style=\"text-align: right;\">\n",
              "      <th></th>\n",
              "      <th>id</th>\n",
              "      <th>qid1</th>\n",
              "      <th>qid2</th>\n",
              "      <th>question1</th>\n",
              "      <th>question2</th>\n",
              "      <th>is_duplicate</th>\n",
              "    </tr>\n",
              "  </thead>\n",
              "  <tbody>\n",
              "    <tr>\n",
              "      <th>0</th>\n",
              "      <td>0</td>\n",
              "      <td>1</td>\n",
              "      <td>2</td>\n",
              "      <td>What is the step by step guide to invest in sh...</td>\n",
              "      <td>What is the step by step guide to invest in sh...</td>\n",
              "      <td>0</td>\n",
              "    </tr>\n",
              "    <tr>\n",
              "      <th>1</th>\n",
              "      <td>1</td>\n",
              "      <td>3</td>\n",
              "      <td>4</td>\n",
              "      <td>What is the story of Kohinoor (Koh-i-Noor) Dia...</td>\n",
              "      <td>What would happen if the Indian government sto...</td>\n",
              "      <td>0</td>\n",
              "    </tr>\n",
              "    <tr>\n",
              "      <th>2</th>\n",
              "      <td>2</td>\n",
              "      <td>5</td>\n",
              "      <td>6</td>\n",
              "      <td>How can I increase the speed of my internet co...</td>\n",
              "      <td>How can Internet speed be increased by hacking...</td>\n",
              "      <td>0</td>\n",
              "    </tr>\n",
              "    <tr>\n",
              "      <th>3</th>\n",
              "      <td>3</td>\n",
              "      <td>7</td>\n",
              "      <td>8</td>\n",
              "      <td>Why am I mentally very lonely? How can I solve...</td>\n",
              "      <td>Find the remainder when [math]23^{24}[/math] i...</td>\n",
              "      <td>0</td>\n",
              "    </tr>\n",
              "    <tr>\n",
              "      <th>4</th>\n",
              "      <td>4</td>\n",
              "      <td>9</td>\n",
              "      <td>10</td>\n",
              "      <td>Which one dissolve in water quikly sugar, salt...</td>\n",
              "      <td>Which fish would survive in salt water?</td>\n",
              "      <td>0</td>\n",
              "    </tr>\n",
              "  </tbody>\n",
              "</table>\n",
              "</div>"
            ],
            "text/plain": [
              "   id  qid1  ...                                          question2 is_duplicate\n",
              "0   0     1  ...  What is the step by step guide to invest in sh...            0\n",
              "1   1     3  ...  What would happen if the Indian government sto...            0\n",
              "2   2     5  ...  How can Internet speed be increased by hacking...            0\n",
              "3   3     7  ...  Find the remainder when [math]23^{24}[/math] i...            0\n",
              "4   4     9  ...            Which fish would survive in salt water?            0\n",
              "\n",
              "[5 rows x 6 columns]"
            ]
          },
          "metadata": {
            "tags": []
          },
          "execution_count": 4
        }
      ]
    },
    {
      "cell_type": "code",
      "metadata": {
        "colab": {
          "base_uri": "https://localhost:8080/",
          "height": 279
        },
        "id": "WJ0PVC3oQEFk",
        "outputId": "a292b95e-e5b5-4540-cd00-b7ff25d53771"
      },
      "source": [
        "train_df.is_duplicate.value_counts().plot(kind=\"bar\")"
      ],
      "execution_count": null,
      "outputs": [
        {
          "output_type": "execute_result",
          "data": {
            "text/plain": [
              "<matplotlib.axes._subplots.AxesSubplot at 0x7f3cd3dd7fd0>"
            ]
          },
          "metadata": {
            "tags": []
          },
          "execution_count": 5
        },
        {
          "output_type": "display_data",
          "data": {
            "image/png": "[encoded data removed]",
            "text/plain": [
              "<Figure size 432x288 with 1 Axes>"
            ]
          },
          "metadata": {
            "tags": [],
            "needs_background": "light"
          }
        }
      ]
    },
    {
      "cell_type": "code",
      "metadata": {
        "colab": {
          "base_uri": "https://localhost:8080/"
        },
        "id": "VR2aQsH6QbYh",
        "outputId": "dd37b14a-b8b9-4ed3-a5e4-aac821caaf48"
      },
      "source": [
        "train_df.is_duplicate.value_counts()/train_df.is_duplicate.value_counts().sum()\n"
      ],
      "execution_count": null,
      "outputs": [
        {
          "output_type": "execute_result",
          "data": {
            "text/plain": [
              "0    0.630802\n",
              "1    0.369198\n",
              "Name: is_duplicate, dtype: float64"
            ]
          },
          "metadata": {
            "tags": []
          },
          "execution_count": 6
        }
      ]
    },
    {
      "cell_type": "code",
      "metadata": {
        "colab": {
          "base_uri": "https://localhost:8080/"
        },
        "id": "WtLQdfnriFZS",
        "outputId": "4a2f092f-ce3a-413a-ffad-a1870a9ced32"
      },
      "source": [
        "train_df.isna().sum()"
      ],
      "execution_count": null,
      "outputs": [
        {
          "output_type": "execute_result",
          "data": {
            "text/plain": [
              "id              0\n",
              "qid1            0\n",
              "qid2            0\n",
              "question1       1\n",
              "question2       2\n",
              "is_duplicate    0\n",
              "dtype: int64"
            ]
          },
          "metadata": {
            "tags": []
          },
          "execution_count": 7
        }
      ]
    },
    {
      "cell_type": "code",
      "metadata": {
        "colab": {
          "base_uri": "https://localhost:8080/"
        },
        "id": "F1EXUvG6seSS",
        "outputId": "039e2ec7-1ee4-4999-ff92-5af322b1a361"
      },
      "source": [
        "noNa_df = train_df.dropna()\n",
        "print(noNa_df.isna().sum())\n",
        "print(\"length of train_df befor removeing NA {} or after {}.\".format(len(train_df),len(noNa_df)))"
      ],
      "execution_count": null,
      "outputs": [
        {
          "output_type": "stream",
          "text": [
            "id              0\n",
            "qid1            0\n",
            "qid2            0\n",
            "question1       0\n",
            "question2       0\n",
            "is_duplicate    0\n",
            "dtype: int64\n",
            "length of train_df befor removeing NA 404290 or after 404287.\n"
          ],
          "name": "stdout"
        }
      ]
    },
    {
      "cell_type": "code",
      "metadata": {
        "id": "dYrvvyHgvq1j"
      },
      "source": [
        "def preprocess(text):\n",
        "    # TODO: Replace the next line with your own code.\n",
        "    doc = nlp(text)\n",
        "    token_words = []\n",
        "    token_words = [token.norm_ for token in doc if not token.is_space and not token.is_punct and token.is_ascii ]\n",
        "    #ascii = [token.text for token in doc if not token.is_ascii ]\n",
        "    return token_words\n",
        "\n"
      ],
      "execution_count": null,
      "outputs": []
    },
    {
      "cell_type": "code",
      "metadata": {
        "id": "cYNod4dtvs-p"
      },
      "source": [
        "print(noNa_df.question1[253423])\n",
        "\" \".join(preprocess(noNa_df.question1[253423]))\n",
        "d = noNa_df.question1.apply(lambda x: \"\".join(preprocess(x)))\n"
      ],
      "execution_count": null,
      "outputs": []
    },
    {
      "cell_type": "code",
      "metadata": {
        "id": "Qi04EyjUwOS5"
      },
      "source": [
        "d.loc[~d.isin([''])].to_csv(\"tt.csv\",index=True)\n"
      ],
      "execution_count": null,
      "outputs": []
    },
    {
      "cell_type": "code",
      "metadata": {
        "id": "NJNZOoY0_pvf"
      },
      "source": [
        "d.value_counts().to_csv(\"t.csv\")"
      ],
      "execution_count": null,
      "outputs": []
    },
    {
      "cell_type": "code",
      "metadata": {
        "colab": {
          "base_uri": "https://localhost:8080/",
          "height": 204
        },
        "id": "RpM9gDp14E4l",
        "outputId": "56d9f13e-ba59-45e5-a3bb-d8d53637eddf"
      },
      "source": [
        "columns = [\"id\",\"qid1\",\"qid2\",\"question1\",\"question2\",\"is_duplicate\"]\n",
        "index = range(len(noNa_df))\n",
        "filter_df = pd.DataFrame( columns=columns)\n",
        "filter_df[\"qid1\"] = pd.to_numeric(noNa_df[\"qid1\"])\n",
        "filter_df[\"id\"] = pd.to_numeric(noNa_df[\"id\"])\n",
        "filter_df[\"qid2\"] = pd.to_numeric(noNa_df[\"qid2\"])\n",
        "filter_df[\"is_duplicate\"] = pd.to_numeric(noNa_df[\"is_duplicate\"])\n",
        "filter_df[\"question1\"] = noNa_df.question1.apply(lambda x: \" \".join(preprocess(x)))\n",
        "filter_df[\"question2\"] = noNa_df.question2.apply(lambda x: \" \".join(preprocess(x)))\n",
        "filter_df.head()"
      ],
      "execution_count": null,
      "outputs": [
        {
          "output_type": "execute_result",
          "data": {
            "text/html": [
              "<div>\n",
              "<style scoped>\n",
              "    .dataframe tbody tr th:only-of-type {\n",
              "        vertical-align: middle;\n",
              "    }\n",
              "\n",
              "    .dataframe tbody tr th {\n",
              "        vertical-align: top;\n",
              "    }\n",
              "\n",
              "    .dataframe thead th {\n",
              "        text-align: right;\n",
              "    }\n",
              "</style>\n",
              "<table border=\"1\" class=\"dataframe\">\n",
              "  <thead>\n",
              "    <tr style=\"text-align: right;\">\n",
              "      <th></th>\n",
              "      <th>id</th>\n",
              "      <th>qid1</th>\n",
              "      <th>qid2</th>\n",
              "      <th>question1</th>\n",
              "      <th>question2</th>\n",
              "      <th>is_duplicate</th>\n",
              "    </tr>\n",
              "  </thead>\n",
              "  <tbody>\n",
              "    <tr>\n",
              "      <th>0</th>\n",
              "      <td>0</td>\n",
              "      <td>1</td>\n",
              "      <td>2</td>\n",
              "      <td>what is the step by step guid to invest in sha...</td>\n",
              "      <td>what is the step by step guid to invest in sha...</td>\n",
              "      <td>0</td>\n",
              "    </tr>\n",
              "    <tr>\n",
              "      <th>1</th>\n",
              "      <td>1</td>\n",
              "      <td>3</td>\n",
              "      <td>4</td>\n",
              "      <td>what is the stori of kohinoor koh i noor diamond</td>\n",
              "      <td>what would happen if the indian govern stole t...</td>\n",
              "      <td>0</td>\n",
              "    </tr>\n",
              "    <tr>\n",
              "      <th>2</th>\n",
              "      <td>2</td>\n",
              "      <td>5</td>\n",
              "      <td>6</td>\n",
              "      <td>how can i increas the speed of my internet con...</td>\n",
              "      <td>how can internet speed be increas by hack thro...</td>\n",
              "      <td>0</td>\n",
              "    </tr>\n",
              "    <tr>\n",
              "      <th>3</th>\n",
              "      <td>3</td>\n",
              "      <td>7</td>\n",
              "      <td>8</td>\n",
              "      <td>whi am i mental veri lonely how can i solv it</td>\n",
              "      <td>find the remaind when math]23^{24}[/math is di...</td>\n",
              "      <td>0</td>\n",
              "    </tr>\n",
              "    <tr>\n",
              "      <th>4</th>\n",
              "      <td>4</td>\n",
              "      <td>9</td>\n",
              "      <td>10</td>\n",
              "      <td>which one dissolv in water quik sugar salt met...</td>\n",
              "      <td>which fish would surviv in salt water</td>\n",
              "      <td>0</td>\n",
              "    </tr>\n",
              "  </tbody>\n",
              "</table>\n",
              "</div>"
            ],
            "text/plain": [
              "   id  qid1  ...                                          question2 is_duplicate\n",
              "0   0     1  ...  what is the step by step guid to invest in sha...            0\n",
              "1   1     3  ...  what would happen if the indian govern stole t...            0\n",
              "2   2     5  ...  how can internet speed be increas by hack thro...            0\n",
              "3   3     7  ...  find the remaind when math]23^{24}[/math is di...            0\n",
              "4   4     9  ...              which fish would surviv in salt water            0\n",
              "\n",
              "[5 rows x 6 columns]"
            ]
          },
          "metadata": {
            "tags": []
          },
          "execution_count": 12
        }
      ]
    },
    {
      "cell_type": "code",
      "metadata": {
        "id": "la2qEyjuYb-E",
        "colab": {
          "base_uri": "https://localhost:8080/",
          "height": 421
        },
        "outputId": "4a23f9d0-3cd9-46b5-8de5-ab870a05b030"
      },
      "source": [
        "filter_df.head(12)\n"
      ],
      "execution_count": null,
      "outputs": [
        {
          "output_type": "execute_result",
          "data": {
            "text/html": [
              "<div>\n",
              "<style scoped>\n",
              "    .dataframe tbody tr th:only-of-type {\n",
              "        vertical-align: middle;\n",
              "    }\n",
              "\n",
              "    .dataframe tbody tr th {\n",
              "        vertical-align: top;\n",
              "    }\n",
              "\n",
              "    .dataframe thead th {\n",
              "        text-align: right;\n",
              "    }\n",
              "</style>\n",
              "<table border=\"1\" class=\"dataframe\">\n",
              "  <thead>\n",
              "    <tr style=\"text-align: right;\">\n",
              "      <th></th>\n",
              "      <th>id</th>\n",
              "      <th>qid1</th>\n",
              "      <th>qid2</th>\n",
              "      <th>question1</th>\n",
              "      <th>question2</th>\n",
              "      <th>is_duplicate</th>\n",
              "    </tr>\n",
              "  </thead>\n",
              "  <tbody>\n",
              "    <tr>\n",
              "      <th>0</th>\n",
              "      <td>0</td>\n",
              "      <td>1</td>\n",
              "      <td>2</td>\n",
              "      <td>what is the step by step guid to invest in sha...</td>\n",
              "      <td>what is the step by step guid to invest in sha...</td>\n",
              "      <td>0</td>\n",
              "    </tr>\n",
              "    <tr>\n",
              "      <th>1</th>\n",
              "      <td>1</td>\n",
              "      <td>3</td>\n",
              "      <td>4</td>\n",
              "      <td>what is the stori of kohinoor koh i noor diamond</td>\n",
              "      <td>what would happen if the indian govern stole t...</td>\n",
              "      <td>0</td>\n",
              "    </tr>\n",
              "    <tr>\n",
              "      <th>2</th>\n",
              "      <td>2</td>\n",
              "      <td>5</td>\n",
              "      <td>6</td>\n",
              "      <td>how can i increas the speed of my internet con...</td>\n",
              "      <td>how can internet speed be increas by hack thro...</td>\n",
              "      <td>0</td>\n",
              "    </tr>\n",
              "    <tr>\n",
              "      <th>3</th>\n",
              "      <td>3</td>\n",
              "      <td>7</td>\n",
              "      <td>8</td>\n",
              "      <td>whi am i mental veri lonely how can i solv it</td>\n",
              "      <td>find the remaind when math]23^{24}[/math is di...</td>\n",
              "      <td>0</td>\n",
              "    </tr>\n",
              "    <tr>\n",
              "      <th>4</th>\n",
              "      <td>4</td>\n",
              "      <td>9</td>\n",
              "      <td>10</td>\n",
              "      <td>which one dissolv in water quik sugar salt met...</td>\n",
              "      <td>which fish would surviv in salt water</td>\n",
              "      <td>0</td>\n",
              "    </tr>\n",
              "    <tr>\n",
              "      <th>5</th>\n",
              "      <td>5</td>\n",
              "      <td>11</td>\n",
              "      <td>12</td>\n",
              "      <td>astrology i am a capricorn sun cap moon and ca...</td>\n",
              "      <td>i am a tripl capricorn sun moon and ascend in ...</td>\n",
              "      <td>1</td>\n",
              "    </tr>\n",
              "    <tr>\n",
              "      <th>6</th>\n",
              "      <td>6</td>\n",
              "      <td>13</td>\n",
              "      <td>14</td>\n",
              "      <td>should i buy tiago</td>\n",
              "      <td>what keep childern activ and far from phone an...</td>\n",
              "      <td>0</td>\n",
              "    </tr>\n",
              "    <tr>\n",
              "      <th>7</th>\n",
              "      <td>7</td>\n",
              "      <td>15</td>\n",
              "      <td>16</td>\n",
              "      <td>how can i be a good geologist</td>\n",
              "      <td>what should i do to be a great geologist</td>\n",
              "      <td>1</td>\n",
              "    </tr>\n",
              "    <tr>\n",
              "      <th>8</th>\n",
              "      <td>8</td>\n",
              "      <td>17</td>\n",
              "      <td>18</td>\n",
              "      <td>when do you use instead of</td>\n",
              "      <td>when do you use instead of and</td>\n",
              "      <td>0</td>\n",
              "    </tr>\n",
              "    <tr>\n",
              "      <th>9</th>\n",
              "      <td>9</td>\n",
              "      <td>19</td>\n",
              "      <td>20</td>\n",
              "      <td>motorola company can i hack my charter motorol...</td>\n",
              "      <td>how do i hack motorola dcx3400 for free internet</td>\n",
              "      <td>0</td>\n",
              "    </tr>\n",
              "    <tr>\n",
              "      <th>10</th>\n",
              "      <td>10</td>\n",
              "      <td>21</td>\n",
              "      <td>22</td>\n",
              "      <td>method to find separ of slit use fresnel biprism</td>\n",
              "      <td>what are some of the thing technician can tell...</td>\n",
              "      <td>0</td>\n",
              "    </tr>\n",
              "    <tr>\n",
              "      <th>11</th>\n",
              "      <td>11</td>\n",
              "      <td>23</td>\n",
              "      <td>24</td>\n",
              "      <td>how do i read and find my youtub comments</td>\n",
              "      <td>how can i see all my youtub comments</td>\n",
              "      <td>1</td>\n",
              "    </tr>\n",
              "  </tbody>\n",
              "</table>\n",
              "</div>"
            ],
            "text/plain": [
              "    id  qid1  ...                                          question2 is_duplicate\n",
              "0    0     1  ...  what is the step by step guid to invest in sha...            0\n",
              "1    1     3  ...  what would happen if the indian govern stole t...            0\n",
              "2    2     5  ...  how can internet speed be increas by hack thro...            0\n",
              "3    3     7  ...  find the remaind when math]23^{24}[/math is di...            0\n",
              "4    4     9  ...              which fish would surviv in salt water            0\n",
              "5    5    11  ...  i am a tripl capricorn sun moon and ascend in ...            1\n",
              "6    6    13  ...  what keep childern activ and far from phone an...            0\n",
              "7    7    15  ...           what should i do to be a great geologist            1\n",
              "8    8    17  ...                     when do you use instead of and            0\n",
              "9    9    19  ...   how do i hack motorola dcx3400 for free internet            0\n",
              "10  10    21  ...  what are some of the thing technician can tell...            0\n",
              "11  11    23  ...               how can i see all my youtub comments            1\n",
              "\n",
              "[12 rows x 6 columns]"
            ]
          },
          "metadata": {
            "tags": []
          },
          "execution_count": 13
        }
      ]
    },
    {
      "cell_type": "code",
      "metadata": {
        "id": "3cGMjSkUr_Vv"
      },
      "source": [
        "filter_df.to_csv(\"filter_train_stem_ASCII.csv\")"
      ],
      "execution_count": null,
      "outputs": []
    },
    {
      "cell_type": "code",
      "metadata": {
        "colab": {
          "base_uri": "https://localhost:8080/"
        },
        "id": "79IpBSwxr_Zs",
        "outputId": "b7a30104-f839-4428-fd22-599567cd7b01"
      },
      "source": [
        "from zipfile import ZipFile\n",
        "file_name = \"/content/filter_train.csv.zip\"\n",
        "\n",
        "with ZipFile(file_name,'r') as zip:\n",
        "  zip.extractall()\n",
        "  print(\"done\")"
      ],
      "execution_count": null,
      "outputs": [
        {
          "output_type": "stream",
          "text": [
            "done\n"
          ],
          "name": "stdout"
        }
      ]
    },
    {
      "cell_type": "code",
      "metadata": {
        "id": "y3U7auMD5h-L"
      },
      "source": [
        "train_data = pd.read_csv(\"/content/filter_train.csv\")\n"
      ],
      "execution_count": null,
      "outputs": []
    },
    {
      "cell_type": "code",
      "metadata": {
        "colab": {
          "base_uri": "https://localhost:8080/",
          "height": 204
        },
        "id": "KtaBdBi85s_B",
        "outputId": "b88e28d0-2b93-46ce-adb3-9d00d144b85d"
      },
      "source": [
        "train_data.head()"
      ],
      "execution_count": null,
      "outputs": [
        {
          "output_type": "execute_result",
          "data": {
            "text/html": [
              "<div>\n",
              "<style scoped>\n",
              "    .dataframe tbody tr th:only-of-type {\n",
              "        vertical-align: middle;\n",
              "    }\n",
              "\n",
              "    .dataframe tbody tr th {\n",
              "        vertical-align: top;\n",
              "    }\n",
              "\n",
              "    .dataframe thead th {\n",
              "        text-align: right;\n",
              "    }\n",
              "</style>\n",
              "<table border=\"1\" class=\"dataframe\">\n",
              "  <thead>\n",
              "    <tr style=\"text-align: right;\">\n",
              "      <th></th>\n",
              "      <th>id</th>\n",
              "      <th>qid1</th>\n",
              "      <th>qid2</th>\n",
              "      <th>question1</th>\n",
              "      <th>question2</th>\n",
              "      <th>is_duplicate</th>\n",
              "      <th>0</th>\n",
              "    </tr>\n",
              "  </thead>\n",
              "  <tbody>\n",
              "    <tr>\n",
              "      <th>0</th>\n",
              "      <td>404289</td>\n",
              "      <td>537932</td>\n",
              "      <td>537933</td>\n",
              "      <td>what is like to have sex with cousin</td>\n",
              "      <td>what is it like to have sex with your cousin</td>\n",
              "      <td>0</td>\n",
              "      <td>1</td>\n",
              "    </tr>\n",
              "    <tr>\n",
              "      <th>1</th>\n",
              "      <td>134755</td>\n",
              "      <td>215318</td>\n",
              "      <td>215319</td>\n",
              "      <td>should i start on android or ios for a mobile app</td>\n",
              "      <td>what us startups have started with a mobile ap...</td>\n",
              "      <td>0</td>\n",
              "      <td>1</td>\n",
              "    </tr>\n",
              "    <tr>\n",
              "      <th>2</th>\n",
              "      <td>134757</td>\n",
              "      <td>215321</td>\n",
              "      <td>215322</td>\n",
              "      <td>where is delhi india</td>\n",
              "      <td>where is in delhi india</td>\n",
              "      <td>1</td>\n",
              "      <td>1</td>\n",
              "    </tr>\n",
              "    <tr>\n",
              "      <th>3</th>\n",
              "      <td>134758</td>\n",
              "      <td>215323</td>\n",
              "      <td>215324</td>\n",
              "      <td>which after market exhaust is best for bajaj a...</td>\n",
              "      <td>i feel useless because despite of being a coll...</td>\n",
              "      <td>0</td>\n",
              "      <td>1</td>\n",
              "    </tr>\n",
              "    <tr>\n",
              "      <th>4</th>\n",
              "      <td>134759</td>\n",
              "      <td>215325</td>\n",
              "      <td>215326</td>\n",
              "      <td>would large quantities of dry ice be helpful i...</td>\n",
              "      <td>how can forest fires have a positive effect</td>\n",
              "      <td>0</td>\n",
              "      <td>1</td>\n",
              "    </tr>\n",
              "  </tbody>\n",
              "</table>\n",
              "</div>"
            ],
            "text/plain": [
              "       id    qid1  ...  is_duplicate  0\n",
              "0  404289  537932  ...             0  1\n",
              "1  134755  215318  ...             0  1\n",
              "2  134757  215321  ...             1  1\n",
              "3  134758  215323  ...             0  1\n",
              "4  134759  215325  ...             0  1\n",
              "\n",
              "[5 rows x 7 columns]"
            ]
          },
          "metadata": {
            "tags": []
          },
          "execution_count": 8
        }
      ]
    },
    {
      "cell_type": "code",
      "metadata": {
        "colab": {
          "base_uri": "https://localhost:8080/"
        },
        "id": "H6u-k-195u6o",
        "outputId": "d153989a-d779-4285-ee75-b9674deae124"
      },
      "source": [
        "maxlen_Question1 = np.max(train_data.question1.astype(str).map(len))\n",
        "maxlen_Question2 = np.max(train_data.question2.astype(str).map(len))\n",
        "print(\"max len of question in question 1 {}\".format(maxlen_Question1))\n",
        "print(\"max len of question in question 2 {}\".format(maxlen_Question2))"
      ],
      "execution_count": null,
      "outputs": [
        {
          "output_type": "stream",
          "text": [
            "max len of question in question 1 603\n",
            "max len of question in question 2 1142\n"
          ],
          "name": "stdout"
        }
      ]
    },
    {
      "cell_type": "code",
      "metadata": {
        "id": "SkKxgJnD48Ok"
      },
      "source": [
        ""
      ],
      "execution_count": null,
      "outputs": []
    },
    {
      "cell_type": "code",
      "metadata": {
        "colab": {
          "base_uri": "https://localhost:8080/",
          "height": 52
        },
        "id": "6w9gH0Xx48YV",
        "outputId": "2cedc925-5435-45ee-ad75-1c771e11aeab"
      },
      "source": [
        "str1 = \"IS Taiwan a Good place to Live\"\n",
        "print(str1)\n",
        "\" \".join(preprocess(str1))"
      ],
      "execution_count": null,
      "outputs": [
        {
          "output_type": "stream",
          "text": [
            "IS Taiwan a Good place to Live\n"
          ],
          "name": "stdout"
        },
        {
          "output_type": "execute_result",
          "data": {
            "application/vnd.google.colaboratory.intrinsic+json": {
              "type": "string"
            },
            "text/plain": [
              "'is taiwan a good place to live'"
            ]
          },
          "metadata": {
            "tags": []
          },
          "execution_count": 26
        }
      ]
    }
  ]
}