{
  "nbformat": 4,
  "nbformat_minor": 0,
  "metadata": {
    "kernelspec": {
      "display_name": "Python 3",
      "language": "python",
      "name": "python3"
    },
    "language_info": {
      "codemirror_mode": {
        "name": "ipython",
        "version": 3
      },
      "file_extension": ".py",
      "mimetype": "text/x-python",
      "name": "python",
      "nbconvert_exporter": "python",
      "pygments_lexer": "ipython3",
      "version": "3.7.6"
    },
    "colab": {
      "name": "TM-L0.ipynb",
      "provenance": [],
      "toc_visible": true
    }
  },
  "cells": [
    {
      "cell_type": "markdown",
      "metadata": {
        "id": "hYmHz6rm7M8U"
      },
      "source": [
        "# Text Mining: Course introduction"
      ]
    },
    {
      "cell_type": "markdown",
      "metadata": {
        "id": "I2tgEbQq7M8V"
      },
      "source": [
        "This course uses [Jupyter notebooks](http://jupyter.org/) for the lab assignments. Notebooks let you write and execute Python code in a web browser, and they make it very easy to mix code and text.\n",
        "\n",
        "The purpose of this particular notebook is to give you a glimpse of what is to come."
      ]
    },
    {
      "cell_type": "markdown",
      "metadata": {
        "id": "eSslKZCd7M8W"
      },
      "source": [
        "## Load some data"
      ]
    },
    {
      "cell_type": "markdown",
      "metadata": {
        "id": "EKv0LWno7M8X"
      },
      "source": [
        "Load a data set of movie reviews."
      ]
    },
    {
      "cell_type": "code",
      "metadata": {
        "id": "w0fKmtE_8OYC",
        "outputId": "a97a6542-2f86-40cd-c094-65191b6a5964",
        "colab": {
          "base_uri": "https://localhost:8080/"
        }
      },
      "source": [
        "!npx degit https://github.com/Noufal21/text-mining --force"
      ],
      "execution_count": 4,
      "outputs": [
        {
          "output_type": "stream",
          "text": [
            "\u001b[K\u001b[?25hnpx: installed 1 in 1.038s\n",
            "\u001b[36m> destination directory is not empty. Using --force, continuing\u001b[39m\n",
            "\u001b[36m> cloned \u001b[1mNoufal21/text-mining\u001b[22m#\u001b[1mmaster\u001b[22m\u001b[39m\n"
          ],
          "name": "stdout"
        }
      ]
    },
    {
      "cell_type": "code",
      "metadata": {
        "id": "htb7xgUt_Tb4",
        "outputId": "3630602a-a7b9-4c77-9c64-e45a8f127f84",
        "colab": {
          "base_uri": "https://localhost:8080/"
        }
      },
      "source": [
        "!pip install pyLDAvis"
      ],
      "execution_count": 34,
      "outputs": [
        {
          "output_type": "stream",
          "text": [
            "Collecting pyLDAvis\n",
            "\u001b[?25l  Downloading https://files.pythonhosted.org/packages/a5/3a/af82e070a8a96e13217c8f362f9a73e82d61ac8fff3a2561946a97f96266/pyLDAvis-2.1.2.tar.gz (1.6MB)\n",
            "\u001b[K     |████████████████████████████████| 1.6MB 2.5MB/s \n",
            "\u001b[?25hRequirement already satisfied: wheel>=0.23.0 in /usr/local/lib/python3.6/dist-packages (from pyLDAvis) (0.35.1)\n",
            "Requirement already satisfied: numpy>=1.9.2 in /usr/local/lib/python3.6/dist-packages (from pyLDAvis) (1.18.5)\n",
            "Requirement already satisfied: scipy>=0.18.0 in /usr/local/lib/python3.6/dist-packages (from pyLDAvis) (1.4.1)\n",
            "Requirement already satisfied: pandas>=0.17.0 in /usr/local/lib/python3.6/dist-packages (from pyLDAvis) (1.1.4)\n",
            "Requirement already satisfied: joblib>=0.8.4 in /usr/local/lib/python3.6/dist-packages (from pyLDAvis) (0.17.0)\n",
            "Requirement already satisfied: jinja2>=2.7.2 in /usr/local/lib/python3.6/dist-packages (from pyLDAvis) (2.11.2)\n",
            "Requirement already satisfied: numexpr in /usr/local/lib/python3.6/dist-packages (from pyLDAvis) (2.7.1)\n",
            "Requirement already satisfied: pytest in /usr/local/lib/python3.6/dist-packages (from pyLDAvis) (3.6.4)\n",
            "Requirement already satisfied: future in /usr/local/lib/python3.6/dist-packages (from pyLDAvis) (0.16.0)\n",
            "Collecting funcy\n",
            "  Downloading https://files.pythonhosted.org/packages/66/89/479de0afbbfb98d1c4b887936808764627300208bb771fcd823403645a36/funcy-1.15-py2.py3-none-any.whl\n",
            "Requirement already satisfied: pytz>=2017.2 in /usr/local/lib/python3.6/dist-packages (from pandas>=0.17.0->pyLDAvis) (2018.9)\n",
            "Requirement already satisfied: python-dateutil>=2.7.3 in /usr/local/lib/python3.6/dist-packages (from pandas>=0.17.0->pyLDAvis) (2.8.1)\n",
            "Requirement already satisfied: MarkupSafe>=0.23 in /usr/local/lib/python3.6/dist-packages (from jinja2>=2.7.2->pyLDAvis) (1.1.1)\n",
            "Requirement already satisfied: pluggy<0.8,>=0.5 in /usr/local/lib/python3.6/dist-packages (from pytest->pyLDAvis) (0.7.1)\n",
            "Requirement already satisfied: setuptools in /usr/local/lib/python3.6/dist-packages (from pytest->pyLDAvis) (50.3.2)\n",
            "Requirement already satisfied: attrs>=17.4.0 in /usr/local/lib/python3.6/dist-packages (from pytest->pyLDAvis) (20.2.0)\n",
            "Requirement already satisfied: more-itertools>=4.0.0 in /usr/local/lib/python3.6/dist-packages (from pytest->pyLDAvis) (8.6.0)\n",
            "Requirement already satisfied: py>=1.5.0 in /usr/local/lib/python3.6/dist-packages (from pytest->pyLDAvis) (1.9.0)\n",
            "Requirement already satisfied: atomicwrites>=1.0 in /usr/local/lib/python3.6/dist-packages (from pytest->pyLDAvis) (1.4.0)\n",
            "Requirement already satisfied: six>=1.10.0 in /usr/local/lib/python3.6/dist-packages (from pytest->pyLDAvis) (1.15.0)\n",
            "Building wheels for collected packages: pyLDAvis\n",
            "  Building wheel for pyLDAvis (setup.py) ... \u001b[?25l\u001b[?25hdone\n",
            "  Created wheel for pyLDAvis: filename=pyLDAvis-2.1.2-py2.py3-none-any.whl size=97712 sha256=1cde84e9bb2778da9d4946d714fe8f980c145a6454ba904e594d745443b6ffff\n",
            "  Stored in directory: /root/.cache/pip/wheels/98/71/24/513a99e58bb6b8465bae4d2d5e9dba8f0bef8179e3051ac414\n",
            "Successfully built pyLDAvis\n",
            "Installing collected packages: funcy, pyLDAvis\n",
            "Successfully installed funcy-1.15 pyLDAvis-2.1.2\n"
          ],
          "name": "stdout"
        }
      ]
    },
    {
      "cell_type": "code",
      "metadata": {
        "id": "JuSnpuZT7M8X"
      },
      "source": [
        "import bz2\n",
        "import pandas as pd\n",
        "\n",
        "with bz2.open('/content/l0/sst-train.json.bz2', 't') as source:\n",
        "    df = pd.read_json(source)"
      ],
      "execution_count": 6,
      "outputs": []
    },
    {
      "cell_type": "markdown",
      "metadata": {
        "id": "Lls4BSPN7M8b"
      },
      "source": [
        "Print the number of reviews."
      ]
    },
    {
      "cell_type": "code",
      "metadata": {
        "id": "ryrv0Sck7M8c",
        "outputId": "09da03dc-da1f-45d8-bf41-3def6785b747",
        "colab": {
          "base_uri": "https://localhost:8080/"
        }
      },
      "source": [
        "len(df)"
      ],
      "execution_count": 7,
      "outputs": [
        {
          "output_type": "execute_result",
          "data": {
            "text/plain": [
              "6920"
            ]
          },
          "metadata": {
            "tags": []
          },
          "execution_count": 7
        }
      ]
    },
    {
      "cell_type": "markdown",
      "metadata": {
        "id": "rWyF9NFI7M8f"
      },
      "source": [
        "Show the first few reviews."
      ]
    },
    {
      "cell_type": "code",
      "metadata": {
        "id": "U6sja42b7M8g",
        "outputId": "ada4892e-71e6-46c6-9e42-9e0c1d3a84d6",
        "colab": {
          "base_uri": "https://localhost:8080/",
          "height": 204
        }
      },
      "source": [
        "df.head()"
      ],
      "execution_count": 8,
      "outputs": [
        {
          "output_type": "execute_result",
          "data": {
            "text/html": [
              "<div>\n",
              "<style scoped>\n",
              "    .dataframe tbody tr th:only-of-type {\n",
              "        vertical-align: middle;\n",
              "    }\n",
              "\n",
              "    .dataframe tbody tr th {\n",
              "        vertical-align: top;\n",
              "    }\n",
              "\n",
              "    .dataframe thead th {\n",
              "        text-align: right;\n",
              "    }\n",
              "</style>\n",
              "<table border=\"1\" class=\"dataframe\">\n",
              "  <thead>\n",
              "    <tr style=\"text-align: right;\">\n",
              "      <th></th>\n",
              "      <th>text</th>\n",
              "      <th>polarity</th>\n",
              "    </tr>\n",
              "  </thead>\n",
              "  <tbody>\n",
              "    <tr>\n",
              "      <th>0</th>\n",
              "      <td>The Rock is destined to be the 21st Century 's...</td>\n",
              "      <td>1</td>\n",
              "    </tr>\n",
              "    <tr>\n",
              "      <th>1</th>\n",
              "      <td>The gorgeously elaborate continuation of `` Th...</td>\n",
              "      <td>1</td>\n",
              "    </tr>\n",
              "    <tr>\n",
              "      <th>2</th>\n",
              "      <td>Singer/composer Bryan Adams contributes a slew...</td>\n",
              "      <td>1</td>\n",
              "    </tr>\n",
              "    <tr>\n",
              "      <th>3</th>\n",
              "      <td>Yet the act is still charming here .</td>\n",
              "      <td>1</td>\n",
              "    </tr>\n",
              "    <tr>\n",
              "      <th>4</th>\n",
              "      <td>Whether or not you 're enlightened by any of D...</td>\n",
              "      <td>1</td>\n",
              "    </tr>\n",
              "  </tbody>\n",
              "</table>\n",
              "</div>"
            ],
            "text/plain": [
              "                                                text  polarity\n",
              "0  The Rock is destined to be the 21st Century 's...         1\n",
              "1  The gorgeously elaborate continuation of `` Th...         1\n",
              "2  Singer/composer Bryan Adams contributes a slew...         1\n",
              "3               Yet the act is still charming here .         1\n",
              "4  Whether or not you 're enlightened by any of D...         1"
            ]
          },
          "metadata": {
            "tags": []
          },
          "execution_count": 8
        }
      ]
    },
    {
      "cell_type": "markdown",
      "metadata": {
        "id": "APl0gfmZ7M8j"
      },
      "source": [
        "Define a helper function that splits a text into tokens at whitespace and removes any non-alphabetic tokens."
      ]
    },
    {
      "cell_type": "code",
      "metadata": {
        "id": "350M8qTJ7M8k"
      },
      "source": [
        "def tokens(text):\n",
        "    return [t.lower() for t in text.split() if t.isalpha()]"
      ],
      "execution_count": 9,
      "outputs": []
    },
    {
      "cell_type": "markdown",
      "metadata": {
        "id": "YTqoCjrh7M8m"
      },
      "source": [
        "## Exploration 1: Basic statistics"
      ]
    },
    {
      "cell_type": "markdown",
      "metadata": {
        "id": "-yzl_Tol7M8m"
      },
      "source": [
        "Load the `Counter` class, which is useful for statistics."
      ]
    },
    {
      "cell_type": "code",
      "metadata": {
        "id": "69Kwep0g7M8n"
      },
      "source": [
        "from collections import Counter"
      ],
      "execution_count": 10,
      "outputs": []
    },
    {
      "cell_type": "markdown",
      "metadata": {
        "id": "xSjpkpYt7M8p"
      },
      "source": [
        "Count how many occurrences of each token (word) the data contains."
      ]
    },
    {
      "cell_type": "code",
      "metadata": {
        "id": "3O_gVnMs7M8q"
      },
      "source": [
        "counter = Counter()\n",
        "for text in df['text']:\n",
        "    counter.update(tokens(text))"
      ],
      "execution_count": 11,
      "outputs": []
    },
    {
      "cell_type": "markdown",
      "metadata": {
        "id": "YVCZwN2I7M8t"
      },
      "source": [
        "Print the total number of tokens."
      ]
    },
    {
      "cell_type": "code",
      "metadata": {
        "id": "CI-_BYrK7M8t",
        "outputId": "3904c4d6-4156-4de4-ad1d-0abc62a39187",
        "colab": {
          "base_uri": "https://localhost:8080/"
        }
      },
      "source": [
        "print(len(counter))"
      ],
      "execution_count": 12,
      "outputs": [
        {
          "output_type": "stream",
          "text": [
            "13241\n"
          ],
          "name": "stdout"
        }
      ]
    },
    {
      "cell_type": "markdown",
      "metadata": {
        "id": "n-H2WGYM7M8v"
      },
      "source": [
        "The token *movie* occurs quite often:"
      ]
    },
    {
      "cell_type": "code",
      "metadata": {
        "id": "QVpNMxib7M8w",
        "outputId": "ce402393-d4ee-495f-c6be-2a7c08310ebf",
        "colab": {
          "base_uri": "https://localhost:8080/"
        }
      },
      "source": [
        "print(counter['movie'])"
      ],
      "execution_count": 13,
      "outputs": [
        {
          "output_type": "stream",
          "text": [
            "808\n"
          ],
          "name": "stdout"
        }
      ]
    },
    {
      "cell_type": "markdown",
      "metadata": {
        "id": "f6kkgQJA7M8y"
      },
      "source": [
        "Print the 10 most common words."
      ]
    },
    {
      "cell_type": "code",
      "metadata": {
        "id": "ch0mvfZj7M80",
        "outputId": "a8abca43-9397-4024-ac41-56781b0c7ca2",
        "colab": {
          "base_uri": "https://localhost:8080/"
        }
      },
      "source": [
        "counter.most_common(10)"
      ],
      "execution_count": 14,
      "outputs": [
        {
          "output_type": "execute_result",
          "data": {
            "text/plain": [
              "[('the', 5954),\n",
              " ('a', 4361),\n",
              " ('and', 3831),\n",
              " ('of', 3631),\n",
              " ('to', 2438),\n",
              " ('is', 2096),\n",
              " ('it', 1949),\n",
              " ('that', 1612),\n",
              " ('in', 1556),\n",
              " ('as', 1074)]"
            ]
          },
          "metadata": {
            "tags": []
          },
          "execution_count": 14
        }
      ]
    },
    {
      "cell_type": "markdown",
      "metadata": {
        "id": "yF12NWor7M83"
      },
      "source": [
        "Plot the number of occurrences of the 100 most common words."
      ]
    },
    {
      "cell_type": "code",
      "metadata": {
        "id": "7WtD8HRd7M83",
        "outputId": "d7f8530f-5902-4cac-bb35-73407cbf31a7",
        "colab": {
          "base_uri": "https://localhost:8080/",
          "height": 265
        }
      },
      "source": [
        "%matplotlib inline\n",
        "import matplotlib.pyplot as plt\n",
        "\n",
        "labels, values = zip(*counter.most_common(100))\n",
        "plt.bar(range(len(labels)), values)\n",
        "plt.show()"
      ],
      "execution_count": 15,
      "outputs": [
        {
          "output_type": "display_data",
          "data": {
            "image/png": "[encoded data removed]",
            "text/plain": [
              "<Figure size 432x288 with 1 Axes>"
            ]
          },
          "metadata": {
            "tags": [],
            "needs_background": "light"
          }
        }
      ]
    },
    {
      "cell_type": "markdown",
      "metadata": {
        "id": "BhIPqVmL7M85"
      },
      "source": [
        "## Exploration 2: Information extraction"
      ]
    },
    {
      "cell_type": "markdown",
      "metadata": {
        "id": "ASa2uFtn7M86"
      },
      "source": [
        "Load spaCy."
      ]
    },
    {
      "cell_type": "code",
      "metadata": {
        "id": "6FUM0n_e7M86"
      },
      "source": [
        "import spacy"
      ],
      "execution_count": 16,
      "outputs": []
    },
    {
      "cell_type": "markdown",
      "metadata": {
        "id": "g6f-fTw37M89"
      },
      "source": [
        "Load the English language model."
      ]
    },
    {
      "cell_type": "code",
      "metadata": {
        "id": "rAyvdby77M89"
      },
      "source": [
        "nlp = spacy.load('en_core_web_sm')"
      ],
      "execution_count": 17,
      "outputs": []
    },
    {
      "cell_type": "markdown",
      "metadata": {
        "id": "opA1rBnt7M9A"
      },
      "source": [
        "Define a short text."
      ]
    },
    {
      "cell_type": "code",
      "metadata": {
        "id": "dpNruFTT7M9B"
      },
      "source": [
        "text = u'Apple Corp. buys Alphabet Inc. for $1 billion'"
      ],
      "execution_count": 18,
      "outputs": []
    },
    {
      "cell_type": "markdown",
      "metadata": {
        "id": "WRF_POez7M9D"
      },
      "source": [
        "Process the text using the default pipeline."
      ]
    },
    {
      "cell_type": "code",
      "metadata": {
        "id": "ahIHonuY7M9D",
        "outputId": "cfef4268-679d-4b1f-f933-ec9744764d03",
        "colab": {
          "base_uri": "https://localhost:8080/"
        }
      },
      "source": [
        "doc = nlp(text)\n",
        "doc"
      ],
      "execution_count": 20,
      "outputs": [
        {
          "output_type": "execute_result",
          "data": {
            "text/plain": [
              "Apple Corp. buys Alphabet Inc. for $1 billion"
            ]
          },
          "metadata": {
            "tags": []
          },
          "execution_count": 20
        }
      ]
    },
    {
      "cell_type": "markdown",
      "metadata": {
        "id": "H0U8C4_g7M9G"
      },
      "source": [
        "Print the tokens together with their lemmas, part-of-speech tags, and stopword flags."
      ]
    },
    {
      "cell_type": "code",
      "metadata": {
        "id": "aXanPdw27M9G",
        "outputId": "de3f275e-ddad-49e1-f4ef-db710dd8c0a9",
        "colab": {
          "base_uri": "https://localhost:8080/"
        }
      },
      "source": [
        "for token in doc:\n",
        "    print(token.text, token.lemma_, token.pos_, token.is_stop)"
      ],
      "execution_count": 21,
      "outputs": [
        {
          "output_type": "stream",
          "text": [
            "Apple Apple PROPN False\n",
            "Corp. Corp. PROPN False\n",
            "buys buy VERB False\n",
            "Alphabet Alphabet PROPN False\n",
            "Inc. Inc. PROPN False\n",
            "for for ADP True\n",
            "$ $ SYM False\n",
            "1 1 NUM False\n",
            "billion billion NUM False\n"
          ],
          "name": "stdout"
        }
      ]
    },
    {
      "cell_type": "markdown",
      "metadata": {
        "id": "Bzg5ugx77M9I"
      },
      "source": [
        "Show the dependency parse."
      ]
    },
    {
      "cell_type": "code",
      "metadata": {
        "id": "XocfD3XO7M9I",
        "outputId": "5161aa9c-9f30-44a9-aefb-b424c81abbf2",
        "colab": {
          "base_uri": "https://localhost:8080/",
          "height": 323
        }
      },
      "source": [
        "from spacy import displacy\n",
        "\n",
        "displacy.render(doc, style='dep', options={'distance': 110}, jupyter=True)"
      ],
      "execution_count": 22,
      "outputs": [
        {
          "output_type": "display_data",
          "data": {
            "text/html": [
              "<span class=\"tex2jax_ignore\"><svg xmlns=\"http://www.w3.org/2000/svg\" xmlns:xlink=\"http://www.w3.org/1999/xlink\" xml:lang=\"en\" id=\"26ae909dc2114214b1039c029d895fe8-0\" class=\"displacy\" width=\"1040\" height=\"302.0\" direction=\"ltr\" style=\"max-width: none; height: 302.0px; color: #000000; background: #ffffff; font-family: Arial; direction: ltr\">\n",
              "<text class=\"displacy-token\" fill=\"currentColor\" text-anchor=\"middle\" y=\"212.0\">\n",
              "    <tspan class=\"displacy-word\" fill=\"currentColor\" x=\"50\">Apple</tspan>\n",
              "    <tspan class=\"displacy-tag\" dy=\"2em\" fill=\"currentColor\" x=\"50\">PROPN</tspan>\n",
              "</text>\n",
              "\n",
              "<text class=\"displacy-token\" fill=\"currentColor\" text-anchor=\"middle\" y=\"212.0\">\n",
              "    <tspan class=\"displacy-word\" fill=\"currentColor\" x=\"160\">Corp.</tspan>\n",
              "    <tspan class=\"displacy-tag\" dy=\"2em\" fill=\"currentColor\" x=\"160\">PROPN</tspan>\n",
              "</text>\n",
              "\n",
              "<text class=\"displacy-token\" fill=\"currentColor\" text-anchor=\"middle\" y=\"212.0\">\n",
              "    <tspan class=\"displacy-word\" fill=\"currentColor\" x=\"270\">buys</tspan>\n",
              "    <tspan class=\"displacy-tag\" dy=\"2em\" fill=\"currentColor\" x=\"270\">VERB</tspan>\n",
              "</text>\n",
              "\n",
              "<text class=\"displacy-token\" fill=\"currentColor\" text-anchor=\"middle\" y=\"212.0\">\n",
              "    <tspan class=\"displacy-word\" fill=\"currentColor\" x=\"380\">Alphabet</tspan>\n",
              "    <tspan class=\"displacy-tag\" dy=\"2em\" fill=\"currentColor\" x=\"380\">PROPN</tspan>\n",
              "</text>\n",
              "\n",
              "<text class=\"displacy-token\" fill=\"currentColor\" text-anchor=\"middle\" y=\"212.0\">\n",
              "    <tspan class=\"displacy-word\" fill=\"currentColor\" x=\"490\">Inc.</tspan>\n",
              "    <tspan class=\"displacy-tag\" dy=\"2em\" fill=\"currentColor\" x=\"490\">PROPN</tspan>\n",
              "</text>\n",
              "\n",
              "<text class=\"displacy-token\" fill=\"currentColor\" text-anchor=\"middle\" y=\"212.0\">\n",
              "    <tspan class=\"displacy-word\" fill=\"currentColor\" x=\"600\">for</tspan>\n",
              "    <tspan class=\"displacy-tag\" dy=\"2em\" fill=\"currentColor\" x=\"600\">ADP</tspan>\n",
              "</text>\n",
              "\n",
              "<text class=\"displacy-token\" fill=\"currentColor\" text-anchor=\"middle\" y=\"212.0\">\n",
              "    <tspan class=\"displacy-word\" fill=\"currentColor\" x=\"710\">$</tspan>\n",
              "    <tspan class=\"displacy-tag\" dy=\"2em\" fill=\"currentColor\" x=\"710\">SYM</tspan>\n",
              "</text>\n",
              "\n",
              "<text class=\"displacy-token\" fill=\"currentColor\" text-anchor=\"middle\" y=\"212.0\">\n",
              "    <tspan class=\"displacy-word\" fill=\"currentColor\" x=\"820\">1</tspan>\n",
              "    <tspan class=\"displacy-tag\" dy=\"2em\" fill=\"currentColor\" x=\"820\">NUM</tspan>\n",
              "</text>\n",
              "\n",
              "<text class=\"displacy-token\" fill=\"currentColor\" text-anchor=\"middle\" y=\"212.0\">\n",
              "    <tspan class=\"displacy-word\" fill=\"currentColor\" x=\"930\">billion</tspan>\n",
              "    <tspan class=\"displacy-tag\" dy=\"2em\" fill=\"currentColor\" x=\"930\">NUM</tspan>\n",
              "</text>\n",
              "\n",
              "<g class=\"displacy-arrow\">\n",
              "    <path class=\"displacy-arc\" id=\"arrow-26ae909dc2114214b1039c029d895fe8-0-0\" stroke-width=\"2px\" d=\"M70,167.0 C70,112.0 150.0,112.0 150.0,167.0\" fill=\"none\" stroke=\"currentColor\"/>\n",
              "    <text dy=\"1.25em\" style=\"font-size: 0.8em; letter-spacing: 1px\">\n",
              "        <textPath xlink:href=\"#arrow-26ae909dc2114214b1039c029d895fe8-0-0\" class=\"displacy-label\" startOffset=\"50%\" side=\"left\" fill=\"currentColor\" text-anchor=\"middle\">compound</textPath>\n",
              "    </text>\n",
              "    <path class=\"displacy-arrowhead\" d=\"M70,169.0 L62,157.0 78,157.0\" fill=\"currentColor\"/>\n",
              "</g>\n",
              "\n",
              "<g class=\"displacy-arrow\">\n",
              "    <path class=\"displacy-arc\" id=\"arrow-26ae909dc2114214b1039c029d895fe8-0-1\" stroke-width=\"2px\" d=\"M180,167.0 C180,112.0 260.0,112.0 260.0,167.0\" fill=\"none\" stroke=\"currentColor\"/>\n",
              "    <text dy=\"1.25em\" style=\"font-size: 0.8em; letter-spacing: 1px\">\n",
              "        <textPath xlink:href=\"#arrow-26ae909dc2114214b1039c029d895fe8-0-1\" class=\"displacy-label\" startOffset=\"50%\" side=\"left\" fill=\"currentColor\" text-anchor=\"middle\">nsubj</textPath>\n",
              "    </text>\n",
              "    <path class=\"displacy-arrowhead\" d=\"M180,169.0 L172,157.0 188,157.0\" fill=\"currentColor\"/>\n",
              "</g>\n",
              "\n",
              "<g class=\"displacy-arrow\">\n",
              "    <path class=\"displacy-arc\" id=\"arrow-26ae909dc2114214b1039c029d895fe8-0-2\" stroke-width=\"2px\" d=\"M400,167.0 C400,112.0 480.0,112.0 480.0,167.0\" fill=\"none\" stroke=\"currentColor\"/>\n",
              "    <text dy=\"1.25em\" style=\"font-size: 0.8em; letter-spacing: 1px\">\n",
              "        <textPath xlink:href=\"#arrow-26ae909dc2114214b1039c029d895fe8-0-2\" class=\"displacy-label\" startOffset=\"50%\" side=\"left\" fill=\"currentColor\" text-anchor=\"middle\">compound</textPath>\n",
              "    </text>\n",
              "    <path class=\"displacy-arrowhead\" d=\"M400,169.0 L392,157.0 408,157.0\" fill=\"currentColor\"/>\n",
              "</g>\n",
              "\n",
              "<g class=\"displacy-arrow\">\n",
              "    <path class=\"displacy-arc\" id=\"arrow-26ae909dc2114214b1039c029d895fe8-0-3\" stroke-width=\"2px\" d=\"M290,167.0 C290,57.0 485.0,57.0 485.0,167.0\" fill=\"none\" stroke=\"currentColor\"/>\n",
              "    <text dy=\"1.25em\" style=\"font-size: 0.8em; letter-spacing: 1px\">\n",
              "        <textPath xlink:href=\"#arrow-26ae909dc2114214b1039c029d895fe8-0-3\" class=\"displacy-label\" startOffset=\"50%\" side=\"left\" fill=\"currentColor\" text-anchor=\"middle\">dobj</textPath>\n",
              "    </text>\n",
              "    <path class=\"displacy-arrowhead\" d=\"M485.0,169.0 L493.0,157.0 477.0,157.0\" fill=\"currentColor\"/>\n",
              "</g>\n",
              "\n",
              "<g class=\"displacy-arrow\">\n",
              "    <path class=\"displacy-arc\" id=\"arrow-26ae909dc2114214b1039c029d895fe8-0-4\" stroke-width=\"2px\" d=\"M290,167.0 C290,2.0 600.0,2.0 600.0,167.0\" fill=\"none\" stroke=\"currentColor\"/>\n",
              "    <text dy=\"1.25em\" style=\"font-size: 0.8em; letter-spacing: 1px\">\n",
              "        <textPath xlink:href=\"#arrow-26ae909dc2114214b1039c029d895fe8-0-4\" class=\"displacy-label\" startOffset=\"50%\" side=\"left\" fill=\"currentColor\" text-anchor=\"middle\">prep</textPath>\n",
              "    </text>\n",
              "    <path class=\"displacy-arrowhead\" d=\"M600.0,169.0 L608.0,157.0 592.0,157.0\" fill=\"currentColor\"/>\n",
              "</g>\n",
              "\n",
              "<g class=\"displacy-arrow\">\n",
              "    <path class=\"displacy-arc\" id=\"arrow-26ae909dc2114214b1039c029d895fe8-0-5\" stroke-width=\"2px\" d=\"M730,167.0 C730,57.0 925.0,57.0 925.0,167.0\" fill=\"none\" stroke=\"currentColor\"/>\n",
              "    <text dy=\"1.25em\" style=\"font-size: 0.8em; letter-spacing: 1px\">\n",
              "        <textPath xlink:href=\"#arrow-26ae909dc2114214b1039c029d895fe8-0-5\" class=\"displacy-label\" startOffset=\"50%\" side=\"left\" fill=\"currentColor\" text-anchor=\"middle\">quantmod</textPath>\n",
              "    </text>\n",
              "    <path class=\"displacy-arrowhead\" d=\"M730,169.0 L722,157.0 738,157.0\" fill=\"currentColor\"/>\n",
              "</g>\n",
              "\n",
              "<g class=\"displacy-arrow\">\n",
              "    <path class=\"displacy-arc\" id=\"arrow-26ae909dc2114214b1039c029d895fe8-0-6\" stroke-width=\"2px\" d=\"M840,167.0 C840,112.0 920.0,112.0 920.0,167.0\" fill=\"none\" stroke=\"currentColor\"/>\n",
              "    <text dy=\"1.25em\" style=\"font-size: 0.8em; letter-spacing: 1px\">\n",
              "        <textPath xlink:href=\"#arrow-26ae909dc2114214b1039c029d895fe8-0-6\" class=\"displacy-label\" startOffset=\"50%\" side=\"left\" fill=\"currentColor\" text-anchor=\"middle\">compound</textPath>\n",
              "    </text>\n",
              "    <path class=\"displacy-arrowhead\" d=\"M840,169.0 L832,157.0 848,157.0\" fill=\"currentColor\"/>\n",
              "</g>\n",
              "\n",
              "<g class=\"displacy-arrow\">\n",
              "    <path class=\"displacy-arc\" id=\"arrow-26ae909dc2114214b1039c029d895fe8-0-7\" stroke-width=\"2px\" d=\"M620,167.0 C620,2.0 930.0,2.0 930.0,167.0\" fill=\"none\" stroke=\"currentColor\"/>\n",
              "    <text dy=\"1.25em\" style=\"font-size: 0.8em; letter-spacing: 1px\">\n",
              "        <textPath xlink:href=\"#arrow-26ae909dc2114214b1039c029d895fe8-0-7\" class=\"displacy-label\" startOffset=\"50%\" side=\"left\" fill=\"currentColor\" text-anchor=\"middle\">pobj</textPath>\n",
              "    </text>\n",
              "    <path class=\"displacy-arrowhead\" d=\"M930.0,169.0 L938.0,157.0 922.0,157.0\" fill=\"currentColor\"/>\n",
              "</g>\n",
              "</svg></span>"
            ],
            "text/plain": [
              "<IPython.core.display.HTML object>"
            ]
          },
          "metadata": {
            "tags": []
          }
        }
      ]
    },
    {
      "cell_type": "markdown",
      "metadata": {
        "id": "HUB0eC_X7M9K"
      },
      "source": [
        "Show the named entities."
      ]
    },
    {
      "cell_type": "code",
      "metadata": {
        "id": "0xZmo7WN7M9L",
        "outputId": "135bc73c-730a-4c4b-8e15-3c2470f52b5c",
        "colab": {
          "base_uri": "https://localhost:8080/",
          "height": 52
        }
      },
      "source": [
        "from spacy import displacy\n",
        "\n",
        "displacy.render(doc, style='ent', jupyter=True)"
      ],
      "execution_count": 23,
      "outputs": [
        {
          "output_type": "display_data",
          "data": {
            "text/html": [
              "<span class=\"tex2jax_ignore\"><div class=\"entities\" style=\"line-height: 2.5; direction: ltr\">\n",
              "<mark class=\"entity\" style=\"background: #7aecec; padding: 0.45em 0.6em; margin: 0 0.25em; line-height: 1; border-radius: 0.35em;\">\n",
              "    Apple Corp.\n",
              "    <span style=\"font-size: 0.8em; font-weight: bold; line-height: 1; border-radius: 0.35em; text-transform: uppercase; vertical-align: middle; margin-left: 0.5rem\">ORG</span>\n",
              "</mark>\n",
              " buys \n",
              "<mark class=\"entity\" style=\"background: #7aecec; padding: 0.45em 0.6em; margin: 0 0.25em; line-height: 1; border-radius: 0.35em;\">\n",
              "    Alphabet Inc.\n",
              "    <span style=\"font-size: 0.8em; font-weight: bold; line-height: 1; border-radius: 0.35em; text-transform: uppercase; vertical-align: middle; margin-left: 0.5rem\">ORG</span>\n",
              "</mark>\n",
              " for \n",
              "<mark class=\"entity\" style=\"background: #e4e7d2; padding: 0.45em 0.6em; margin: 0 0.25em; line-height: 1; border-radius: 0.35em;\">\n",
              "    $1 billion\n",
              "    <span style=\"font-size: 0.8em; font-weight: bold; line-height: 1; border-radius: 0.35em; text-transform: uppercase; vertical-align: middle; margin-left: 0.5rem\">MONEY</span>\n",
              "</mark>\n",
              "</div></span>"
            ],
            "text/plain": [
              "<IPython.core.display.HTML object>"
            ]
          },
          "metadata": {
            "tags": []
          }
        }
      ]
    },
    {
      "cell_type": "markdown",
      "metadata": {
        "id": "nQBqMExK7M9N"
      },
      "source": [
        "The following function will find the root word of an entity."
      ]
    },
    {
      "cell_type": "code",
      "metadata": {
        "id": "iHp1yvUo7M9N"
      },
      "source": [
        "def root(ent):\n",
        "    for token in ent:\n",
        "        while not token.head is token and ent.start <= token.head.i and token.head.i < ent.end:\n",
        "            token = token.head\n",
        "        return token"
      ],
      "execution_count": 24,
      "outputs": []
    },
    {
      "cell_type": "markdown",
      "metadata": {
        "id": "GkgisUGI7M9Q"
      },
      "source": [
        "Extract semantic relations."
      ]
    },
    {
      "cell_type": "code",
      "metadata": {
        "id": "2UhM4iA77M9Q",
        "outputId": "32cbb002-f234-405a-dffd-bf657c61313a",
        "colab": {
          "base_uri": "https://localhost:8080/"
        }
      },
      "source": [
        "for ent1 in doc.ents:\n",
        "    root1 = root(ent1)\n",
        "    for ent2 in doc.ents:\n",
        "        root2 = root(ent2)\n",
        "        if root1.head == root2.head and root1.head.pos_ == 'VERB' and root1.dep_ == 'nsubj' and root2.dep_ == 'dobj':\n",
        "            print('[{}]-[{}]-[{}]'.format(ent1, root1.head.lemma_, ent2))"
      ],
      "execution_count": 25,
      "outputs": [
        {
          "output_type": "stream",
          "text": [
            "[Apple Corp.]-[buy]-[Alphabet Inc.]\n"
          ],
          "name": "stdout"
        }
      ]
    },
    {
      "cell_type": "markdown",
      "metadata": {
        "id": "r63L5sEl7M9S"
      },
      "source": [
        "## Exploration 3: Topic modelling"
      ]
    },
    {
      "cell_type": "markdown",
      "metadata": {
        "id": "LvWsxZCj7M9T"
      },
      "source": [
        "Import gensim."
      ]
    },
    {
      "cell_type": "code",
      "metadata": {
        "id": "zgKLrkEk7M9T"
      },
      "source": [
        "import gensim"
      ],
      "execution_count": null,
      "outputs": []
    },
    {
      "cell_type": "markdown",
      "metadata": {
        "id": "Yktm3BG_7M9W"
      },
      "source": [
        "Disable some warnings."
      ]
    },
    {
      "cell_type": "code",
      "metadata": {
        "id": "-LdAHlqz7M9X"
      },
      "source": [
        "import warnings\n",
        "\n",
        "warnings.filterwarnings('ignore', category=DeprecationWarning)\n",
        "warnings.filterwarnings('ignore', category=FutureWarning)"
      ],
      "execution_count": 42,
      "outputs": []
    },
    {
      "cell_type": "markdown",
      "metadata": {
        "id": "zCAOMT4B7M9Z"
      },
      "source": [
        "Build the vocabulary and show its size."
      ]
    },
    {
      "cell_type": "code",
      "metadata": {
        "id": "ZE-DVoUH7M9a",
        "outputId": "b697790e-bf70-489b-dfa9-7bbda8cf0e57",
        "colab": {
          "base_uri": "https://localhost:8080/"
        }
      },
      "source": [
        "dictionary = gensim.corpora.Dictionary(tokens(text) for text in df['text'])\n",
        "len(dictionary)"
      ],
      "execution_count": 28,
      "outputs": [
        {
          "output_type": "execute_result",
          "data": {
            "text/plain": [
              "13241"
            ]
          },
          "metadata": {
            "tags": []
          },
          "execution_count": 28
        }
      ]
    },
    {
      "cell_type": "markdown",
      "metadata": {
        "id": "rB-08kXd7M9c"
      },
      "source": [
        "Filter out stop words, as well as extremely frequent/infrequent words."
      ]
    },
    {
      "cell_type": "code",
      "metadata": {
        "id": "oX-Gxked7M9c",
        "outputId": "1ef8a161-ec61-46e6-f2f7-50fdbef541c6",
        "colab": {
          "base_uri": "https://localhost:8080/"
        }
      },
      "source": [
        "bad_ids = [i for t, i in dictionary.token2id.items() if nlp.vocab[t].is_stop]\n",
        "dictionary.filter_tokens(bad_ids=bad_ids)\n",
        "dictionary.filter_extremes()\n",
        "len(dictionary)"
      ],
      "execution_count": 29,
      "outputs": [
        {
          "output_type": "execute_result",
          "data": {
            "text/plain": [
              "2543"
            ]
          },
          "metadata": {
            "tags": []
          },
          "execution_count": 29
        }
      ]
    },
    {
      "cell_type": "markdown",
      "metadata": {
        "id": "6IAlpFEl7M9f"
      },
      "source": [
        "Create an iterator over the data (for efficiency)."
      ]
    },
    {
      "cell_type": "code",
      "metadata": {
        "id": "nwnQgWKW7M9f"
      },
      "source": [
        "class MyCorpus(object):\n",
        "    def __iter__(self):\n",
        "        for text in df['text']:\n",
        "            yield dictionary.doc2bow(tokens(text))"
      ],
      "execution_count": 30,
      "outputs": []
    },
    {
      "cell_type": "markdown",
      "metadata": {
        "id": "QcualmfC7M9i"
      },
      "source": [
        "Build the LDA model (takes a while)."
      ]
    },
    {
      "cell_type": "code",
      "metadata": {
        "id": "8pX8Il9w7M9j"
      },
      "source": [
        "lda = gensim.models.ldamodel.LdaModel(\n",
        "    corpus=MyCorpus(),\n",
        "    num_topics=8,\n",
        "    id2word=dictionary,\n",
        "    chunksize=5,\n",
        "    passes=10,\n",
        "    update_every=1,\n",
        "    alpha='auto',\n",
        ")"
      ],
      "execution_count": 43,
      "outputs": []
    },
    {
      "cell_type": "markdown",
      "metadata": {
        "id": "F-9HyTXO7M9k"
      },
      "source": [
        "Print the most common topics."
      ]
    },
    {
      "cell_type": "code",
      "metadata": {
        "id": "JRDh8OjV7M9l",
        "outputId": "e0fc054c-c426-42ae-980a-04922c61c818",
        "colab": {
          "base_uri": "https://localhost:8080/"
        }
      },
      "source": [
        "lda.print_topics(8)"
      ],
      "execution_count": 44,
      "outputs": [
        {
          "output_type": "execute_result",
          "data": {
            "text/plain": [
              "[(0,\n",
              "  '0.049*\"fun\" + 0.035*\"documentary\" + 0.023*\"good\" + 0.023*\"way\" + 0.017*\"real\" + 0.016*\"formula\" + 0.016*\"cinematic\" + 0.016*\"action\" + 0.016*\"fans\" + 0.015*\"great\"'),\n",
              " (1,\n",
              "  '0.096*\"film\" + 0.086*\"movie\" + 0.028*\"funny\" + 0.019*\"dull\" + 0.019*\"little\" + 0.012*\"makes\" + 0.012*\"bland\" + 0.011*\"surprises\" + 0.011*\"nice\" + 0.011*\"long\"'),\n",
              " (2,\n",
              "  '0.029*\"feels\" + 0.019*\"weird\" + 0.018*\"world\" + 0.018*\"movies\" + 0.017*\"hard\" + 0.015*\"picture\" + 0.014*\"major\" + 0.013*\"mystery\" + 0.013*\"moments\" + 0.012*\"love\"'),\n",
              " (3,\n",
              "  '0.041*\"director\" + 0.038*\"story\" + 0.031*\"awful\" + 0.030*\"compelling\" + 0.023*\"opportunity\" + 0.018*\"predictable\" + 0.018*\"words\" + 0.015*\"tale\" + 0.014*\"screen\" + 0.012*\"despite\"'),\n",
              " (4,\n",
              "  '0.042*\"characters\" + 0.035*\"seen\" + 0.033*\"fresh\" + 0.025*\"away\" + 0.017*\"fire\" + 0.016*\"come\" + 0.015*\"look\" + 0.014*\"depth\" + 0.012*\"things\" + 0.012*\"end\"'),\n",
              " (5,\n",
              "  '0.050*\"bad\" + 0.048*\"thriller\" + 0.034*\"drama\" + 0.029*\"plot\" + 0.022*\"time\" + 0.021*\"script\" + 0.017*\"experience\" + 0.015*\"case\" + 0.015*\"mind\" + 0.014*\"old\"'),\n",
              " (6,\n",
              "  '0.069*\"like\" + 0.024*\"character\" + 0.021*\"lot\" + 0.019*\"storytelling\" + 0.017*\"simple\" + 0.015*\"watching\" + 0.014*\"surprisingly\" + 0.012*\"play\" + 0.012*\"odd\" + 0.012*\"feel\"'),\n",
              " (7,\n",
              "  '0.100*\"comedy\" + 0.026*\"romantic\" + 0.024*\"true\" + 0.020*\"charm\" + 0.019*\"engaging\" + 0.017*\"sequel\" + 0.016*\"romance\" + 0.015*\"laughs\" + 0.015*\"family\" + 0.015*\"year\"')]"
            ]
          },
          "metadata": {
            "tags": []
          },
          "execution_count": 44
        }
      ]
    },
    {
      "cell_type": "markdown",
      "metadata": {
        "id": "iAIug2QC7M9o"
      },
      "source": [
        "Load the pyLDAvis library for data visualization."
      ]
    },
    {
      "cell_type": "code",
      "metadata": {
        "id": "397Ml2-G7M9p"
      },
      "source": [
        "import pyLDAvis.gensim\n",
        "\n",
        "pyLDAvis.enable_notebook()"
      ],
      "execution_count": 45,
      "outputs": []
    },
    {
      "cell_type": "markdown",
      "metadata": {
        "id": "hsr-B6847M9r"
      },
      "source": [
        "Visualize the LDA model."
      ]
    },
    {
      "cell_type": "code",
      "metadata": {
        "id": "OxjDx-u57M9r",
        "outputId": "68e34425-4c55-4dbb-d614-374f7ff7aef7",
        "colab": {
          "base_uri": "https://localhost:8080/",
          "height": 861
        }
      },
      "source": [
        "pyLDAvis.gensim.prepare(lda, list(MyCorpus()), dictionary, mds='tsne')"
      ],
      "execution_count": 46,
      "outputs": [
        {
          "output_type": "execute_result",
          "data": {
            "text/html": [
              "\n",
              "<link rel=\"stylesheet\" type=\"text/css\" href=\"https://cdn.rawgit.com/bmabey/pyLDAvis/files/ldavis.v1.0.0.css\">\n",
              "\n",
              "\n",
              "<div id=\"ldavis_el1841399591099530004236029339\"></div>\n",
              "<script type=\"text/javascript\">\n",
              "\n",
              "var ldavis_el1841399591099530004236029339_data = {\"mdsDat\": {\"x\": [-108.958251953125, 186.487060546875, 19.245832443237305, 170.65882873535156, -1.3864107131958008, -145.8000946044922, 64.83454132080078, -196.90603637695312], \"y\": [-208.9414825439453, -98.1032485961914, 160.85877990722656, 75.44507598876953, -35.043739318847656, 106.94461059570312, -221.8252716064453, -58.99091339111328], \"topics\": [1, 2, 3, 4, 5, 6, 7, 8], \"cluster\": [1, 1, 1, 1, 1, 1, 1, 1], \"Freq\": [19.34056648865196, 12.636086494594082, 12.551806037097272, 11.995515848175858, 11.49245173174852, 10.972401019281817, 10.82796532620317, 10.183207054247323]}, \"tinfo\": {\"Term\": [\"film\", \"movie\", \"comedy\", \"like\", \"bad\", \"fun\", \"thriller\", \"director\", \"characters\", \"story\", \"documentary\", \"drama\", \"funny\", \"seen\", \"fresh\", \"plot\", \"compelling\", \"feels\", \"awful\", \"good\", \"away\", \"romantic\", \"character\", \"way\", \"dull\", \"opportunity\", \"little\", \"time\", \"true\", \"script\", \"film\", \"movie\", \"funny\", \"dull\", \"little\", \"makes\", \"bland\", \"long\", \"lacks\", \"work\", \"life\", \"making\", \"nice\", \"young\", \"minutes\", \"satisfying\", \"decent\", \"scenes\", \"big\", \"smart\", \"place\", \"actors\", \"remake\", \"interesting\", \"viewer\", \"enjoyable\", \"moving\", \"light\", \"find\", \"sensitive\", \"surprises\", \"mess\", \"generic\", \"pretentious\", \"tedious\", \"bad\", \"thriller\", \"drama\", \"plot\", \"time\", \"script\", \"experience\", \"case\", \"mind\", \"old\", \"material\", \"heart\", \"visually\", \"series\", \"fairly\", \"sure\", \"filmmakers\", \"takes\", \"sit\", \"worth\", \"looking\", \"enjoy\", \"monster\", \"taken\", \"fascinating\", \"plays\", \"written\", \"attraction\", \"past\", \"twists\", \"girl\", \"political\", \"skill\", \"company\", \"years\", \"grant\", \"fun\", \"documentary\", \"good\", \"way\", \"real\", \"cinematic\", \"formula\", \"action\", \"fans\", \"great\", \"dialogue\", \"uneven\", \"thing\", \"premise\", \"silly\", \"kind\", \"needs\", \"stuff\", \"set\", \"men\", \"masterpiece\", \"women\", \"flick\", \"shot\", \"best\", \"ideas\", \"execution\", \"features\", \"acting\", \"classic\", \"definitely\", \"pleasure\", \"horrible\", \"director\", \"story\", \"compelling\", \"opportunity\", \"predictable\", \"words\", \"screen\", \"tale\", \"despite\", \"people\", \"humor\", \"performances\", \"lead\", \"sense\", \"effort\", \"period\", \"far\", \"book\", \"need\", \"painful\", \"exercise\", \"writer\", \"works\", \"half\", \"comes\", \"hell\", \"piece\", \"dry\", \"care\", \"opera\", \"awful\", \"hold\", \"pretentious\", \"lame\", \"terrible\", \"tedious\", \"like\", \"character\", \"lot\", \"storytelling\", \"watching\", \"surprisingly\", \"simple\", \"play\", \"feel\", \"odd\", \"cinema\", \"fact\", \"sort\", \"hollywood\", \"title\", \"debut\", \"feature\", \"idea\", \"gets\", \"going\", \"project\", \"art\", \"kid\", \"ending\", \"effects\", \"wit\", \"hilarious\", \"melodrama\", \"special\", \"instead\", \"question\", \"pretentious\", \"lame\", \"terrible\", \"melodramatic\", \"feels\", \"weird\", \"world\", \"movies\", \"hard\", \"picture\", \"major\", \"mystery\", \"moments\", \"love\", \"attempt\", \"sweet\", \"ultimately\", \"lives\", \"slow\", \"ii\", \"think\", \"war\", \"intelligent\", \"endearing\", \"situation\", \"right\", \"thinking\", \"tries\", \"leave\", \"know\", \"female\", \"wild\", \"turn\", \"filmmaker\", \"ride\", \"unsettling\", \"pull\", \"meandering\", \"pretentious\", \"mess\", \"characters\", \"seen\", \"fresh\", \"away\", \"come\", \"look\", \"fire\", \"things\", \"end\", \"new\", \"american\", \"run\", \"proves\", \"head\", \"nearly\", \"home\", \"emotional\", \"playing\", \"simply\", \"impressive\", \"funnier\", \"situations\", \"attention\", \"absolutely\", \"lost\", \"tone\", \"emotionally\", \"direction\", \"high\", \"hours\", \"depth\", \"lame\", \"terrible\", \"comedy\", \"romantic\", \"true\", \"charm\", \"engaging\", \"sequel\", \"romance\", \"laughs\", \"family\", \"year\", \"audience\", \"thoroughly\", \"performance\", \"better\", \"turns\", \"screenplay\", \"truly\", \"goes\", \"watchable\", \"clever\", \"matter\", \"watch\", \"wise\", \"difficult\", \"country\", \"water\", \"spirit\", \"central\", \"films\", \"pieces\", \"subject\", \"genuine\", \"irritating\", \"terrible\", \"pretentious\", \"lame\"], \"Freq\": [735.0, 657.0, 402.0, 314.0, 252.0, 241.0, 239.0, 194.0, 179.0, 181.0, 174.0, 169.0, 212.0, 148.0, 142.0, 147.0, 140.0, 127.0, 166.0, 116.0, 107.0, 103.0, 109.0, 113.0, 145.0, 109.0, 142.0, 108.0, 96.0, 106.0, 734.1232344110715, 656.2541144054159, 211.35421721303905, 143.50552387202103, 140.8215776941834, 92.89867578320066, 87.60949208767553, 83.13362176516716, 82.52927219610365, 81.0148019247435, 74.23057178404635, 69.33166455823505, 83.35965671004972, 64.02423337915121, 54.619809870649824, 55.65799956192318, 52.930433040378446, 47.96885368074449, 46.06575098479114, 48.12197664180736, 43.27570720546176, 42.0342157449394, 42.02038663264237, 41.45492014796205, 33.58671507666227, 55.628215416914514, 80.0961421087815, 26.19945875235971, 25.569133979030376, 25.949239691160642, 84.78641150510313, 57.720025438470586, 49.302227421586224, 59.74004312762533, 42.47305532332426, 250.7361827525447, 237.77431416708833, 167.68513731081163, 145.6605409029942, 107.13249103540332, 104.95569108083365, 86.5981398657944, 73.86528335474789, 73.31950457916196, 68.84994948233877, 65.1361008959772, 56.52811001208425, 52.04485511888028, 45.20525839755134, 57.485405854825494, 39.71632548107921, 39.403424724471556, 36.10773707407451, 35.83922754683451, 35.27626036500876, 33.249053945741935, 28.601306583557076, 30.58916602089013, 25.106657054224808, 23.203008075314113, 22.62023197871474, 22.47693044181727, 22.152841595329875, 22.14500321909714, 27.628134903779774, 30.362735101087335, 42.76624554402077, 25.34400058642013, 37.181948803299555, 43.8068791139854, 26.175055976976026, 239.76847876532503, 172.57328674474525, 115.16397983004939, 111.507127101609, 82.31313155943658, 80.14345529355982, 80.42324884778391, 78.12983206824869, 77.08892351928658, 72.0927749577588, 70.90995527262041, 60.475947838321005, 53.203835676821434, 51.37974156428734, 53.312721442129465, 45.21652946865789, 51.30523787287029, 44.55259120229285, 44.33463111295161, 40.930033166870786, 39.727575780352716, 34.968066119443364, 34.21111091414281, 32.5675203900397, 29.65839958584203, 28.1178862985124, 28.05723017591367, 42.781316527778806, 24.266475458124322, 23.737172720539167, 37.16497302463373, 29.548398564659397, 30.021821234185115, 192.45797480194616, 179.41587616672345, 139.29049702876526, 107.87265783401442, 83.47413936945075, 82.64366357426141, 68.32065474043375, 70.46935131588562, 56.36223753231144, 55.73644471365565, 52.181259197801175, 51.414135355022275, 37.48501708752402, 37.18432166472945, 36.729296508275645, 32.98593406953528, 31.827317224603465, 31.253910414049525, 31.021315922753757, 29.07164794012682, 28.515430631853807, 26.71631913110698, 25.441724789003615, 24.306158402960143, 22.30834574940882, 21.807048263623997, 21.17375509067457, 18.677739149652353, 17.46739667061963, 17.025513066663894, 147.0025577774914, 21.628441819187795, 39.52252470140523, 26.406251012425408, 25.408688508283955, 22.631210399895792, 313.21194148792256, 107.66939246579967, 96.8443123992954, 88.10090561941861, 66.00519177629731, 64.5466056317704, 75.96527587182436, 54.71857784327048, 52.09310341323549, 54.64304791823157, 47.43419092494569, 47.134989340308344, 41.434844389283846, 40.87163967255977, 36.269388313295096, 35.845027785583014, 34.69239742091909, 31.334353881285516, 29.342308428434762, 25.73794098904293, 25.643211716665277, 24.91856110090823, 24.289404025878866, 24.04918795665353, 23.82745118028838, 22.306432943795738, 26.82062079816543, 20.591362130757776, 20.278018423511124, 19.983865641913404, 20.035322166637467, 35.99834885937417, 26.104280284825972, 25.471209229458555, 24.841553169308092, 125.40633260116877, 81.51225439082836, 79.23452248518694, 77.3074087950765, 74.65008840764354, 65.36018114538123, 59.1544453737921, 57.74722051961712, 54.54164407466467, 50.08423532778582, 49.914156627514785, 48.86904402040547, 46.253028173017064, 45.47828059588595, 40.50166244340719, 38.54738360076794, 36.15285400217594, 35.80132317903448, 34.592741241308914, 33.54914026618877, 32.42622886536016, 30.819930922866522, 36.472274706441034, 26.453224115635827, 25.84896329900687, 23.39667810159455, 21.20057834366625, 20.869685719504613, 20.651821759065232, 18.638846567910267, 45.87714640583727, 29.90607702005101, 22.607031300655265, 38.7863621654816, 48.26065636804012, 29.398932528279573, 177.52917892492408, 147.36605668821656, 140.42487763746007, 106.12323424196782, 66.9480338486283, 63.993945164077154, 73.50705932804642, 51.613250959539904, 51.19072536521722, 48.536062517799614, 39.96657694568825, 37.40825390115268, 37.558423068013795, 37.169080610507216, 34.24488610767646, 34.467535275313914, 34.915634578378416, 31.144448839807236, 30.954213137950216, 31.932845892425107, 25.880882865205987, 23.837138467596592, 23.80145389991457, 23.941276148935362, 23.49077063204028, 22.17318308494797, 25.058364391236264, 18.72912935710612, 18.652999369975063, 17.838389861003296, 59.34364434246761, 26.009360401203626, 21.87017669054799, 400.97926420335074, 102.35566918469287, 94.50649982673274, 78.53474343193362, 75.6035551764401, 67.18338015881486, 65.0022622633788, 60.8541004261867, 60.54199459348288, 58.79235651025458, 55.848762226072836, 57.092376122007146, 46.934469077557836, 43.58405406195041, 43.0556579805167, 38.6233215980674, 37.950922305439256, 35.522198733068734, 46.03120571723554, 32.21605365141187, 29.79190072118964, 25.10314012081202, 25.416788778436906, 22.520680667823544, 19.898674899627146, 17.23420320195259, 15.86393401373688, 15.810485484125264, 15.246774196215192, 16.69314924012046, 16.235377974934813, 26.273825223741884, 19.56034663996973, 20.805089204679426, 18.393609079401408, 17.857726472685627], \"Total\": [735.0, 657.0, 402.0, 314.0, 252.0, 241.0, 239.0, 194.0, 179.0, 181.0, 174.0, 169.0, 212.0, 148.0, 142.0, 147.0, 140.0, 127.0, 166.0, 116.0, 107.0, 103.0, 109.0, 113.0, 145.0, 109.0, 142.0, 108.0, 96.0, 106.0, 735.7167277966257, 657.8471371697943, 212.94867509614946, 145.1003522997841, 142.41468789924832, 94.49958482281474, 89.2090776937959, 84.7263255555978, 84.12664334228346, 82.60740446573436, 75.82356840754092, 70.92482014844198, 85.43170197815928, 65.62443712794067, 56.212152986809635, 57.28416710524434, 54.67142299603287, 49.56192176699915, 47.65836684354278, 49.79111525960898, 44.87045905183456, 43.628155909107896, 43.61926522061103, 43.04768618883029, 35.18556754720545, 58.40220873481171, 84.23151881572619, 27.809341082218108, 27.162314884837883, 27.56893122875953, 110.9674522592662, 167.37040678243304, 120.9639575191615, 265.6390875410685, 123.08170127212708, 252.3528028901129, 239.3935200433668, 169.3006640951582, 147.2780278635167, 108.74724860124385, 106.5709371786589, 88.22037551167452, 75.50423554352278, 74.95843930262534, 70.46527103314004, 66.75377968655012, 58.16692667584008, 53.67281900010491, 46.82193398267935, 59.799653357057615, 41.33710732481087, 41.01799699190788, 37.72240062609821, 37.4548002249491, 36.89534075927492, 34.86413320110345, 30.21876404095213, 32.38644482607777, 26.727031693069915, 24.82315265582866, 24.2357854832077, 24.103638890416786, 23.769307529025653, 23.76815049409697, 29.67049878210509, 32.630766555076576, 46.17277880251811, 27.468015311763622, 44.62271445592734, 64.08024693114896, 33.903012649260766, 241.383753417183, 174.18977066916497, 116.7739740624957, 113.11720421661452, 83.9342896899926, 81.75813806936434, 82.04583435708405, 79.73932008983402, 78.71536411202645, 73.70360817501418, 72.5194220846523, 62.09657608773264, 54.81314844427999, 52.98991633306938, 55.003668756517314, 46.82588601976063, 53.15957770688932, 46.16672082757863, 45.947916486160835, 42.54104521759604, 41.48786941302582, 36.57787288633423, 35.82160780717541, 34.20321682754657, 31.268095668820866, 29.728570797902165, 29.66857448406015, 45.54766050894536, 25.876112025862927, 25.351289929508887, 48.427563372974355, 35.2785656756179, 138.9076812602708, 194.05328011786776, 181.01054206488493, 140.88817181995879, 109.54863758192342, 85.07159728095556, 84.25584542231326, 69.91629699476833, 72.1712198117522, 57.95753341942608, 57.33072010768061, 53.77556688611198, 53.00913966224365, 39.08230511082522, 38.77854488842942, 38.324439993123924, 34.58375161797632, 33.42224210384702, 32.85097986551847, 32.61615148858514, 30.69449584545043, 30.109239560146033, 28.318169829874666, 27.038922296888963, 25.90034854000816, 23.90211164313078, 23.43040535070903, 22.779228099432824, 20.27868804127748, 19.062239802449508, 18.621727361409864, 166.84523232247383, 26.06660097635161, 265.6390875410685, 182.42148872753626, 198.07615444297184, 123.08170127212708, 314.7885980762015, 109.24672108786137, 98.42242574212715, 89.68407202093859, 67.58176765324428, 66.12555313511457, 77.95793318089824, 56.29718408402201, 53.66922332727826, 56.42994705587879, 49.013478318874476, 48.7268838833312, 43.01190407925182, 42.44932917441694, 37.84530907735187, 37.42348146714023, 36.270299948401316, 32.91042297889945, 30.918322058128375, 27.31423408043483, 27.222297005475603, 26.49476090171331, 25.877952892647194, 25.625955548547427, 25.40433383315835, 23.88903347762961, 28.824961111655252, 22.16766967666828, 21.853636163390473, 21.559643837271476, 21.63214438374135, 265.6390875410685, 182.42148872753626, 198.07615444297184, 167.44544254629216, 127.01639060389572, 83.13268829070635, 80.84791158679151, 78.91726352477927, 76.26009424967721, 66.97222654219773, 60.81478009361588, 59.36959195944111, 56.155021231661756, 51.69364357786441, 51.55208312396103, 50.52441986929793, 47.86257962583972, 47.09457676398114, 42.11468301984213, 40.16318513282924, 37.76243427895038, 37.416805745369736, 36.214904749187426, 35.18784321993904, 34.04102791603575, 32.429754062133085, 38.38699907365615, 28.063845860370776, 27.464660581734147, 25.005787099999107, 22.82095646607497, 22.481993546930063, 22.262227758487064, 20.276021078552283, 51.34856351490164, 36.29487438480099, 25.097433847889338, 132.31911890890493, 265.6390875410685, 167.37040678243304, 179.11926354661858, 148.95904611535764, 142.04456537857882, 107.71667402976053, 68.53942624825832, 65.58480441676829, 75.34781102061206, 53.20376748689678, 52.780670124436945, 50.125820832777116, 41.55776440746331, 38.99894798746125, 39.15862675933174, 38.76145944799839, 35.8351395619536, 36.07257243468578, 36.5648718441629, 32.7387738888895, 32.546171580628524, 33.650730719392534, 27.48156257241553, 25.428202115885455, 25.394165153988297, 25.56875839697747, 25.093329338080387, 23.763745592885627, 26.992155367865166, 20.31873052123593, 20.243024391210948, 19.42957132290814, 65.29051285082937, 182.42148872753626, 198.07615444297184, 402.60856386779335, 103.98398370127708, 96.1396324109336, 80.17862506625936, 77.31642104399714, 68.88483595430246, 66.66583915138557, 62.481991074605425, 62.16944256058645, 60.465102687702, 57.474860164947664, 58.757376124228706, 48.5644428818833, 45.21002918726674, 44.68855382775381, 40.249605841390775, 39.60625677854648, 37.14972718843224, 48.32678304326037, 33.84246982144098, 31.41818236421841, 26.729798402657234, 27.125710303182107, 24.156289534296608, 21.530679461520077, 18.978993964915045, 17.494995711689477, 17.44121876272813, 16.872615138994014, 18.47475674097358, 18.022924129563062, 37.27522245980464, 57.039142951716265, 198.07615444297184, 265.6390875410685, 182.42148872753626], \"Category\": [\"Default\", \"Default\", \"Default\", \"Default\", \"Default\", \"Default\", \"Default\", \"Default\", \"Default\", \"Default\", \"Default\", \"Default\", \"Default\", \"Default\", \"Default\", \"Default\", \"Default\", \"Default\", \"Default\", \"Default\", \"Default\", \"Default\", \"Default\", \"Default\", \"Default\", \"Default\", \"Default\", \"Default\", \"Default\", \"Default\", \"Topic1\", \"Topic1\", \"Topic1\", \"Topic1\", \"Topic1\", \"Topic1\", \"Topic1\", \"Topic1\", \"Topic1\", \"Topic1\", \"Topic1\", \"Topic1\", \"Topic1\", \"Topic1\", \"Topic1\", \"Topic1\", \"Topic1\", \"Topic1\", \"Topic1\", \"Topic1\", \"Topic1\", \"Topic1\", \"Topic1\", \"Topic1\", \"Topic1\", \"Topic1\", \"Topic1\", \"Topic1\", \"Topic1\", \"Topic1\", \"Topic1\", \"Topic1\", \"Topic1\", \"Topic1\", \"Topic1\", \"Topic2\", \"Topic2\", \"Topic2\", \"Topic2\", \"Topic2\", \"Topic2\", \"Topic2\", \"Topic2\", \"Topic2\", \"Topic2\", \"Topic2\", \"Topic2\", \"Topic2\", \"Topic2\", \"Topic2\", \"Topic2\", \"Topic2\", \"Topic2\", \"Topic2\", \"Topic2\", \"Topic2\", \"Topic2\", \"Topic2\", \"Topic2\", \"Topic2\", \"Topic2\", \"Topic2\", \"Topic2\", \"Topic2\", \"Topic2\", \"Topic2\", \"Topic2\", \"Topic2\", \"Topic2\", \"Topic2\", \"Topic2\", \"Topic3\", \"Topic3\", \"Topic3\", \"Topic3\", \"Topic3\", \"Topic3\", \"Topic3\", \"Topic3\", \"Topic3\", \"Topic3\", \"Topic3\", \"Topic3\", \"Topic3\", \"Topic3\", \"Topic3\", \"Topic3\", \"Topic3\", \"Topic3\", \"Topic3\", \"Topic3\", \"Topic3\", \"Topic3\", \"Topic3\", \"Topic3\", \"Topic3\", \"Topic3\", \"Topic3\", \"Topic3\", \"Topic3\", \"Topic3\", \"Topic3\", \"Topic3\", \"Topic3\", \"Topic4\", \"Topic4\", \"Topic4\", \"Topic4\", \"Topic4\", \"Topic4\", \"Topic4\", \"Topic4\", \"Topic4\", \"Topic4\", \"Topic4\", \"Topic4\", \"Topic4\", \"Topic4\", \"Topic4\", \"Topic4\", \"Topic4\", \"Topic4\", \"Topic4\", \"Topic4\", \"Topic4\", \"Topic4\", \"Topic4\", \"Topic4\", \"Topic4\", \"Topic4\", \"Topic4\", \"Topic4\", \"Topic4\", \"Topic4\", \"Topic4\", \"Topic4\", \"Topic4\", \"Topic4\", \"Topic4\", \"Topic4\", \"Topic5\", \"Topic5\", \"Topic5\", \"Topic5\", \"Topic5\", \"Topic5\", \"Topic5\", \"Topic5\", \"Topic5\", \"Topic5\", \"Topic5\", \"Topic5\", \"Topic5\", \"Topic5\", \"Topic5\", \"Topic5\", \"Topic5\", \"Topic5\", \"Topic5\", \"Topic5\", \"Topic5\", \"Topic5\", \"Topic5\", \"Topic5\", \"Topic5\", \"Topic5\", \"Topic5\", \"Topic5\", \"Topic5\", \"Topic5\", \"Topic5\", \"Topic5\", \"Topic5\", \"Topic5\", \"Topic5\", \"Topic6\", \"Topic6\", \"Topic6\", \"Topic6\", \"Topic6\", \"Topic6\", \"Topic6\", \"Topic6\", \"Topic6\", \"Topic6\", \"Topic6\", \"Topic6\", \"Topic6\", \"Topic6\", \"Topic6\", \"Topic6\", \"Topic6\", \"Topic6\", \"Topic6\", \"Topic6\", \"Topic6\", \"Topic6\", \"Topic6\", \"Topic6\", \"Topic6\", \"Topic6\", \"Topic6\", \"Topic6\", \"Topic6\", \"Topic6\", \"Topic6\", \"Topic6\", \"Topic6\", \"Topic6\", \"Topic6\", \"Topic6\", \"Topic7\", \"Topic7\", \"Topic7\", \"Topic7\", \"Topic7\", \"Topic7\", \"Topic7\", \"Topic7\", \"Topic7\", \"Topic7\", \"Topic7\", \"Topic7\", \"Topic7\", \"Topic7\", \"Topic7\", \"Topic7\", \"Topic7\", \"Topic7\", \"Topic7\", \"Topic7\", \"Topic7\", \"Topic7\", \"Topic7\", \"Topic7\", \"Topic7\", \"Topic7\", \"Topic7\", \"Topic7\", \"Topic7\", \"Topic7\", \"Topic7\", \"Topic7\", \"Topic7\", \"Topic8\", \"Topic8\", \"Topic8\", \"Topic8\", \"Topic8\", \"Topic8\", \"Topic8\", \"Topic8\", \"Topic8\", \"Topic8\", \"Topic8\", \"Topic8\", \"Topic8\", \"Topic8\", \"Topic8\", \"Topic8\", \"Topic8\", \"Topic8\", \"Topic8\", \"Topic8\", \"Topic8\", \"Topic8\", \"Topic8\", \"Topic8\", \"Topic8\", \"Topic8\", \"Topic8\", \"Topic8\", \"Topic8\", \"Topic8\", \"Topic8\", \"Topic8\", \"Topic8\", \"Topic8\", \"Topic8\", \"Topic8\"], \"logprob\": [30.0, 29.0, 28.0, 27.0, 26.0, 25.0, 24.0, 23.0, 22.0, 21.0, 20.0, 19.0, 18.0, 17.0, 16.0, 15.0, 14.0, 13.0, 12.0, 11.0, 10.0, 9.0, 8.0, 7.0, 6.0, 5.0, 4.0, 3.0, 2.0, 1.0, -2.338399887084961, -2.450500011444092, -3.5834999084472656, -3.9707000255584717, -3.9895999431610107, -4.405600070953369, -4.464200019836426, -4.516600131988525, -4.523900032043457, -4.542500019073486, -4.629899978637695, -4.698200225830078, -4.513899803161621, -4.7778000831604, -4.936699867248535, -4.917900085449219, -4.968100070953369, -5.066500186920166, -5.10699987411499, -5.063300132751465, -5.16949987411499, -5.198599815368652, -5.19890022277832, -5.212500095367432, -5.422999858856201, -4.918399810791016, -4.553899765014648, -5.671299934387207, -5.695700168609619, -5.6809000968933105, -4.4969000816345215, -4.881499767303467, -5.039100170135498, -4.847099781036377, -5.188199996948242, -2.986999988555908, -3.04010009765625, -3.3893001079559326, -3.5302000045776367, -3.837399959564209, -3.8578999042510986, -4.05019998550415, -4.209199905395508, -4.216599941253662, -4.2795000076293945, -4.335000038146973, -4.4766998291015625, -4.559299945831299, -4.700200080871582, -4.45989990234375, -4.829699993133545, -4.837600231170654, -4.924900054931641, -4.932400226593018, -4.948200225830078, -5.007400035858154, -5.1579999923706055, -5.090799808502197, -5.288300037384033, -5.367199897766113, -5.392600059509277, -5.398900032043457, -5.41349983215332, -5.41379976272583, -5.192599773406982, -5.098199844360352, -4.75570011138916, -5.278900146484375, -4.895599842071533, -4.731599807739258, -5.246600151062012, -3.025099992752075, -3.3538999557495117, -3.7583999633789062, -3.7906999588012695, -4.094200134277344, -4.1209001541137695, -4.117400169372559, -4.146399974822998, -4.159800052642822, -4.226799964904785, -4.243299961090088, -4.402500152587891, -4.530600070953369, -4.565499782562256, -4.528600215911865, -4.693299770355225, -4.56689977645874, -4.708099842071533, -4.7129998207092285, -4.792900085449219, -4.822700023651123, -4.950300216674805, -4.9721999168396, -5.021399974822998, -5.114999771118164, -5.168300151824951, -5.170499801635742, -4.748600006103516, -5.3155999183654785, -5.337699890136719, -4.889400005340576, -5.11870002746582, -5.102799892425537, -3.19950008392334, -3.269700050354004, -3.5227999687194824, -3.7785000801086426, -4.034900188446045, -4.044899940490723, -4.235199928283691, -4.20419979095459, -4.427599906921387, -4.438799858093262, -4.504700183868408, -4.519499778747559, -4.8354997634887695, -4.843500137329102, -4.855800151824951, -4.9633002281188965, -4.999100208282471, -5.017300128936768, -5.024700164794922, -5.089600086212158, -5.109000205993652, -5.174099922180176, -5.2230000495910645, -5.268700122833252, -5.354400157928467, -5.377200126647949, -5.406599998474121, -5.532100200653076, -5.599100112915039, -5.62470006942749, -3.4690001010894775, -5.38539981842041, -4.78249979019165, -5.185800075531006, -5.224299907684326, -5.340099811553955, -2.6696999073028564, -3.737499952316284, -3.8434998989105225, -3.9381000995635986, -4.226799964904785, -4.249199867248535, -4.086299896240234, -4.414400100708008, -4.463500022888184, -4.4156999588012695, -4.557199954986572, -4.563600063323975, -4.692399978637695, -4.706099987030029, -4.8256001472473145, -4.837399959564209, -4.869999885559082, -4.97189998626709, -5.037499904632568, -5.168600082397461, -5.172299861907959, -5.201000213623047, -5.226500034332275, -5.236499786376953, -5.245699882507324, -5.311699867248535, -5.127399921417236, -5.39169979095459, -5.4070000648498535, -5.421599864959717, -5.419099807739258, -4.833099842071533, -5.1545000076293945, -5.178999900817871, -5.204100131988525, -3.5387001037597656, -3.9695000648498535, -3.99780011177063, -4.022500038146973, -4.057400226593018, -4.190299987792969, -4.29010009765625, -4.314199924468994, -4.371300220489502, -4.456600189208984, -4.460000038146973, -4.481100082397461, -4.536099910736084, -4.552999973297119, -4.668900012969971, -4.718400001525879, -4.78249979019165, -4.792300224304199, -4.826600074768066, -4.8572001457214355, -4.891300201416016, -4.9421000480651855, -4.77370023727417, -5.094900131225586, -5.118000030517578, -5.217700004577637, -5.316199779510498, -5.331999778747559, -5.34250020980835, -5.445000171661377, -4.544300079345703, -4.9721999168396, -5.251999855041504, -4.712200164794922, -4.493599891662598, -4.989299774169922, -3.1779000759124756, -3.3640999794006348, -3.4123001098632812, -3.6923999786376953, -4.15310001373291, -4.198200225830078, -4.059599876403809, -4.4131999015808105, -4.421500205993652, -4.474699974060059, -4.669000148773193, -4.735099792480469, -4.731100082397461, -4.741499900817871, -4.823500156402588, -4.816999912261963, -4.804100036621094, -4.918399810791016, -4.924499988555908, -4.893400192260742, -5.103499889373779, -5.185800075531006, -5.187300205230713, -5.181399822235107, -5.200399875640869, -5.2581000328063965, -5.135799884796143, -5.4268999099731445, -5.431000232696533, -5.4756999015808105, -4.27370023727417, -5.098599910736084, -5.271900177001953, -2.3017001152038574, -3.6672000885009766, -3.7469000816345215, -3.9321000576019287, -3.970099925994873, -4.088200092315674, -4.121200084686279, -4.187099933624268, -4.192299842834473, -4.22160005569458, -4.2729997634887695, -4.250899791717529, -4.446899890899658, -4.520899772644043, -4.533100128173828, -4.6417999267578125, -4.659299850463867, -4.725500106811523, -4.466300010681152, -4.823200225830078, -4.901400089263916, -5.0725998878479, -5.060200214385986, -5.18120002746582, -5.304999828338623, -5.448699951171875, -5.531599998474121, -5.534900188446045, -5.571199893951416, -5.480599880218506, -5.508399963378906, -5.0269999504089355, -5.3221001625061035, -5.26039981842041, -5.383600234985352, -5.4131999015808105], \"loglift\": [30.0, 29.0, 28.0, 27.0, 26.0, 25.0, 24.0, 23.0, 22.0, 21.0, 20.0, 19.0, 18.0, 17.0, 16.0, 15.0, 14.0, 13.0, 12.0, 11.0, 10.0, 9.0, 8.0, 7.0, 6.0, 5.0, 4.0, 3.0, 2.0, 1.0, 1.6408, 1.6405, 1.6354, 1.6319, 1.6317, 1.6259, 1.6249, 1.624, 1.6238, 1.6235, 1.6217, 1.6202, 1.6184, 1.6183, 1.6142, 1.6142, 1.6106, 1.6103, 1.609, 1.6089, 1.6068, 1.6057, 1.6056, 1.6053, 1.5965, 1.5943, 1.5926, 1.5833, 1.5825, 1.5824, 1.3739, 0.5784, 0.7454, 0.1508, 0.579, 2.0622, 2.0618, 2.059, 2.0576, 2.0537, 2.0533, 2.0501, 2.0467, 2.0465, 2.0454, 2.0441, 2.04, 2.0378, 2.0335, 2.0291, 2.0286, 2.0285, 2.0249, 2.0245, 2.0237, 2.0212, 2.0136, 2.0115, 2.0061, 2.0011, 1.9996, 1.9987, 1.9982, 1.9979, 1.9973, 1.9966, 1.992, 1.9881, 1.8862, 1.6883, 1.8099, 2.0686, 2.066, 2.0614, 2.061, 2.0558, 2.0554, 2.0553, 2.0549, 2.0544, 2.0532, 2.0529, 2.0489, 2.0455, 2.0444, 2.0441, 2.0403, 2.0398, 2.0397, 2.0396, 2.0367, 2.032, 2.0303, 2.0293, 2.0263, 2.0225, 2.0196, 2.0195, 2.0126, 2.0111, 2.0095, 1.8106, 1.8981, 0.5434, 2.1124, 2.1118, 2.1092, 2.1052, 2.1017, 2.1013, 2.0976, 2.0968, 2.0927, 2.0924, 2.0905, 2.0901, 2.0789, 2.0787, 2.0781, 2.0733, 2.0717, 2.0708, 2.0705, 2.0663, 2.0663, 2.0624, 2.0598, 2.0571, 2.0516, 2.0488, 2.0476, 2.0384, 2.0333, 2.031, 1.994, 1.934, 0.2154, 0.1879, 0.0671, 0.4271, 2.1585, 2.1489, 2.1473, 2.1457, 2.1399, 2.1393, 2.1376, 2.135, 2.1337, 2.1313, 2.1307, 2.1303, 2.1261, 2.1256, 2.1209, 2.1204, 2.119, 2.1144, 2.1112, 2.104, 2.1037, 2.1021, 2.1001, 2.1, 2.0994, 2.0949, 2.0914, 2.0897, 2.0886, 2.0876, 2.0868, 0.1648, 0.2193, 0.1124, 0.2553, 2.197, 2.1901, 2.1896, 2.1892, 2.1884, 2.1854, 2.1821, 2.1821, 2.1806, 2.1782, 2.1775, 2.1765, 2.1756, 2.1749, 2.1707, 2.1687, 2.1662, 2.1657, 2.164, 2.1621, 2.1612, 2.1589, 2.1586, 2.1507, 2.1492, 2.1433, 2.1361, 2.1354, 2.1347, 2.1256, 2.0971, 2.0162, 2.1053, 0.9826, 0.5043, 0.4705, 2.2141, 2.2123, 2.2116, 2.2081, 2.1995, 2.1985, 2.1983, 2.1927, 2.1925, 2.1908, 2.184, 2.1814, 2.1813, 2.1811, 2.1776, 2.1775, 2.1769, 2.1731, 2.1729, 2.1706, 2.163, 2.1584, 2.1583, 2.1573, 2.157, 2.1538, 2.1487, 2.1416, 2.1412, 2.1376, 2.1275, 0.2752, 0.0195, 2.2804, 2.2686, 2.2673, 2.2637, 2.262, 2.2594, 2.2592, 2.258, 2.2579, 2.2564, 2.2557, 2.2557, 2.2503, 2.2478, 2.2472, 2.2432, 2.2417, 2.2396, 2.2358, 2.2352, 2.2313, 2.2216, 2.2194, 2.2143, 2.2056, 2.188, 2.1866, 2.1863, 2.1831, 2.183, 2.18, 1.9347, 1.2142, 0.031, -0.3857, -0.0395]}, \"token.table\": {\"Topic\": [7, 3, 3, 1, 7, 5, 6, 7, 2, 8, 7, 3, 4, 5, 6, 7, 8, 2, 3, 8, 1, 1, 4, 4, 2, 8, 5, 7, 8, 5, 3, 3, 8, 7, 8, 4, 1, 2, 3, 4, 5, 6, 7, 8, 4, 8, 5, 1, 1, 2, 3, 4, 5, 6, 7, 8, 1, 2, 5, 6, 7, 8, 4, 3, 8, 7, 4, 3, 2, 4, 1, 5, 4, 7, 7, 7, 6, 5, 8, 2, 1, 3, 4, 2, 5, 2, 8, 3, 4, 2, 5, 3, 5, 6, 6, 1, 6, 2, 8, 1, 7, 3, 3, 7, 3, 7, 1, 1, 2, 3, 4, 5, 6, 7, 8, 1, 2, 3, 4, 5, 6, 7, 8, 5, 2, 8, 5, 3, 1, 2, 3, 4, 5, 6, 7, 8, 3, 4, 6, 7, 2, 4, 7, 5, 1, 2, 3, 4, 5, 6, 7, 8, 5, 7, 1, 2, 3, 4, 5, 6, 7, 8, 7, 4, 5, 3, 6, 7, 5, 6, 1, 1, 2, 3, 4, 5, 6, 7, 8, 5, 3, 6, 1, 1, 2, 3, 4, 5, 6, 7, 8, 8, 4, 6, 1, 1, 5, 1, 6, 1, 7, 2, 7, 5, 6, 6, 1, 1, 3, 2, 8, 1, 2, 3, 4, 5, 6, 7, 8, 5, 1, 2, 3, 4, 5, 6, 7, 8, 3, 1, 2, 3, 4, 5, 6, 7, 8, 2, 1, 6, 2, 1, 6, 1, 2, 3, 4, 5, 6, 7, 6, 7, 4, 3, 7, 1, 5, 2, 4, 4, 4, 2, 4, 8, 4, 4, 6, 4, 8, 1, 5, 7, 2, 1, 2, 3, 4, 5, 6, 7, 8, 2, 1, 2, 3, 4, 5, 4, 3, 1, 2, 3, 4, 5, 6, 7, 8, 5, 7, 6, 5, 3, 1, 1, 2, 3, 4, 5, 6, 7, 8, 6, 8, 8, 7, 1, 1, 4, 8, 2, 7, 4, 1, 8, 2, 3, 3, 3, 5, 7, 2, 6, 7, 2, 6, 1, 5, 5, 8, 4, 5, 3, 8, 2, 1, 2, 3, 4, 5, 6, 7, 8, 5, 6, 2, 2, 4, 1, 2, 3, 4, 5, 6, 7, 8, 1, 2, 3, 4, 5, 6, 7, 8, 3, 7, 6, 6, 8, 2, 2, 5, 7, 6, 8, 8, 6, 8, 2, 6, 3, 1, 2, 3, 4, 5, 6, 7, 8, 1, 2, 6, 8, 8, 5, 8, 3, 6, 6, 8, 5, 3, 4, 1, 4, 6, 2, 4, 2, 8, 1, 2, 3, 4, 5, 6, 7, 8, 1], \"Freq\": [0.9386454996124132, 0.9274963710163346, 0.9781874226181699, 0.962681074292943, 0.962515683178002, 0.9435827744489421, 0.9698929115972108, 0.9450989963428927, 0.9255633540495414, 0.9743390386559454, 0.9840630613113227, 0.029967892581647997, 0.8810560419004511, 0.005993578516329599, 0.011987157032659198, 0.029967892581647997, 0.029967892581647997, 0.9946392396889604, 0.9594444227671545, 0.9732353814182553, 0.9652030282744053, 0.9864466966249109, 0.9436552616361583, 0.891815451708644, 0.9800774680692489, 0.9173670841278584, 0.9885880228216762, 0.9937512943920335, 0.985300009007571, 0.958919905545673, 0.9784958646211743, 0.9466973896292359, 0.9455574657771083, 0.977539551576018, 0.9960046456728586, 0.9204207698662713, 0.022410111356799534, 0.8291741202015828, 0.022410111356799534, 0.022410111356799534, 0.022410111356799534, 0.022410111356799534, 0.022410111356799534, 0.022410111356799534, 0.986598081332394, 0.928907052642917, 0.9619628796858433, 0.9694278490582886, 0.06194819212552391, 0.041298794750349276, 0.7640277028814616, 0.020649397375174638, 0.041298794750349276, 0.041298794750349276, 0.020649397375174638, 0.020649397375174638, 0.030632321797953138, 0.015316160898976569, 0.015316160898976569, 0.015316160898976569, 0.9036534930396175, 0.015316160898976569, 0.966224694117677, 0.9790480668354103, 0.9521329824824739, 0.935097789704053, 0.9894189878335445, 0.9931696869190747, 0.9923174306367332, 0.9369442422175095, 0.99241661179767, 0.9447206983508704, 0.965441373876264, 0.957202862604516, 0.9261950244167283, 0.9662628359920631, 0.9662427954872223, 0.936550442169186, 0.9829735905229237, 0.9596686337237196, 0.9588678444385644, 0.9437595330049775, 0.9631594960101791, 0.9861667386406328, 0.9645599360003002, 0.953182782844222, 0.9811894314566714, 0.9782080140087369, 0.9574462389618286, 0.9265543470200361, 0.9649768557136703, 0.9440660512421924, 0.9688979414309905, 0.9841249574617194, 0.9202068296838497, 0.9976665913227676, 0.937067481158715, 0.9508021566166189, 0.8890145289531174, 0.9572085483227097, 0.9821121409851794, 0.9491477932263407, 0.9750647382269274, 0.9856061696332441, 0.9942674127914838, 0.946088852534803, 0.9908490856058644, 0.4050793393746073, 0.057868477053515326, 0.09093617822695266, 0.074402327640234, 0.08266925293359333, 0.13227080469374933, 0.057868477053515326, 0.09920310352031199, 0.05365494470641134, 0.02682747235320567, 0.02682747235320567, 0.05365494470641134, 0.05365494470641134, 0.02682747235320567, 0.05365494470641134, 0.6975142811833475, 0.9379551692837079, 0.9193777274390359, 0.9690515307797404, 0.9518846445935596, 0.9848084808559628, 0.05899180762166305, 0.7668934990816196, 0.029495903810831524, 0.029495903810831524, 0.029495903810831524, 0.029495903810831524, 0.029495903810831524, 0.029495903810831524, 0.9768856882695777, 0.9266284568691151, 0.9834763612335485, 0.9545564209118201, 0.9799383130151731, 0.9389508918305699, 0.9385949269640439, 0.9366881674328664, 0.03836326803434132, 0.03836326803434132, 0.03836326803434132, 0.8439918967555091, 0.03836326803434132, 0.03836326803434132, 0.03836326803434132, 0.03836326803434132, 0.9658574304328369, 0.9425443683441637, 0.29516006334580197, 0.17997564838158656, 0.21597077805790388, 0.04319415561158078, 0.07918928528789809, 0.1151844149642154, 0.035995129676317315, 0.02879610374105385, 0.9264229097415739, 0.9669819029546941, 0.9419508226884742, 0.9418548974435009, 0.9710385237380375, 0.9509451746187123, 0.9276591093506273, 0.9664529077847517, 0.952432142813715, 0.21038184269630456, 0.07012728089876819, 0.05259546067407614, 0.14025456179753637, 0.03506364044938409, 0.10519092134815228, 0.017531820224692046, 0.3506364044938409, 0.9274303921783247, 0.9610069093195567, 0.9197870840066786, 0.9866077701721734, 0.14800887871454144, 0.0931907754869335, 0.10963620645521588, 0.14252706839178064, 0.14252706839178064, 0.12059982710073745, 0.14252706839178064, 0.09867258580969429, 0.9762813084359638, 0.9467200026989081, 0.946671083832427, 0.9759498471802396, 0.9349376500195095, 0.994318097646699, 0.9900664185687845, 0.9555240346573597, 0.979624685193447, 0.9758357986905408, 0.9465314915374277, 0.916578254328984, 0.9855477475646253, 0.9672369084351091, 0.970158897379514, 0.9841313078186911, 0.9728611204876737, 0.9641372421848523, 0.9737276346779885, 0.954861094515972, 0.2116096315550332, 0.09068984209501424, 0.06045989473000949, 0.12091978946001898, 0.1058048157775166, 0.29474198680879626, 0.04534492104750712, 0.06045989473000949, 0.9473255559244793, 0.22096749506795885, 0.13138607814851608, 0.13138607814851608, 0.10152560584203515, 0.14930236153240464, 0.08958141691944278, 0.11346979476462753, 0.05972094461296185, 0.9637750974449817, 0.34653676904421316, 0.09559635008116224, 0.08364680632101697, 0.08364680632101697, 0.07767203444094432, 0.17326838452210658, 0.07767203444094432, 0.06572249068079904, 0.9738729978792829, 0.9784361046072355, 0.9794315591673123, 0.9571905828650449, 0.9971921483496285, 0.9757053977907221, 0.94976323738168, 0.011872040467271, 0.011872040467271, 0.011872040467271, 0.011872040467271, 0.011872040467271, 0.011872040467271, 0.9769310868705859, 0.948789384263987, 0.9504493505571694, 0.9593755669242374, 0.977540101806354, 0.9715363041838854, 0.974659783847346, 0.9792057702800728, 0.9129120875880399, 0.9858634701799436, 0.9447947979343798, 0.9256084105266791, 0.9767887076042093, 0.9677862487645893, 0.9620982405101232, 0.954205326377804, 0.9705515757198983, 0.9218925201650215, 0.9201744974696829, 0.958314243015125, 0.9769582776629467, 0.9468894621774586, 0.9490098852350405, 0.02834582361411396, 0.02834582361411396, 0.8503747084234188, 0.02834582361411396, 0.02834582361411396, 0.02834582361411396, 0.02834582361411396, 0.02834582361411396, 0.9913223453487504, 0.021657782484286247, 0.9312846468243086, 0.021657782484286247, 0.021657782484286247, 0.021657782484286247, 0.975648778826687, 0.962447264106595, 0.2258703738045473, 0.08281913706166734, 0.07529012460151577, 0.15058024920303154, 0.1355222242827284, 0.18069629904363785, 0.07905463083159156, 0.0677611121413642, 0.9550994170245903, 0.9704119665264913, 0.9164283543647739, 0.9245500420675787, 0.976954714251627, 0.9628772925811256, 0.01947474148346515, 0.01947474148346515, 0.01947474148346515, 0.01947474148346515, 0.01947474148346515, 0.8958381082393968, 0.01947474148346515, 0.01947474148346515, 0.9559122755172987, 0.9750121025612118, 0.9809202953122412, 0.9487435407718192, 0.9775825124089693, 0.9684854478738322, 0.9725915547999957, 0.9689535881092843, 0.9852592346445699, 0.9868484246747895, 0.9541358528653793, 0.9430906038489136, 0.9726378682885615, 0.9610880237592636, 0.95760598879935, 0.964821530278476, 0.9635720888839819, 0.9748847474399439, 0.9524929813388926, 0.9611585106258278, 0.9400421185555833, 0.9438339325219839, 0.9101494853650145, 0.97353219970059, 0.964027412315025, 0.9532244823306409, 0.915179508365033, 0.914547237602889, 0.9888926797193711, 0.9812221726445984, 0.9747280983647063, 0.8877582730182583, 0.9676535826683661, 0.7659903716758729, 0.05406990858888515, 0.04505825715740429, 0.018023302862961717, 0.018023302862961717, 0.027034954294442574, 0.05406990858888515, 0.018023302862961717, 0.9829785448778822, 0.969828057932353, 0.9353825852080043, 0.954340110981522, 0.969915711312411, 0.3412367522215202, 0.03249873830681145, 0.08937153034373149, 0.18686774526416586, 0.024374053730108588, 0.11374558407384008, 0.1543690069573544, 0.05687279203692004, 0.17165115152611138, 0.11106839216395442, 0.12116551872431391, 0.12621408200449366, 0.12621408200449366, 0.12621408200449366, 0.11106839216395442, 0.10601982888377467, 0.9669212863018964, 0.9773743938868005, 0.9533283721613043, 0.9378175129273318, 0.9700909700168853, 0.9941789567106313, 0.9839329396953232, 0.951240744960485, 0.9257799833788132, 0.9264589083535, 0.988146070643765, 0.9594443679056148, 0.9433018217143222, 0.9622150711284568, 0.9436983249128053, 0.9610848466505519, 0.9662368487954873, 0.027552099764774626, 0.027552099764774626, 0.027552099764774626, 0.027552099764774626, 0.027552099764774626, 0.8265629929432388, 0.027552099764774626, 0.027552099764774626, 0.9663052885074291, 0.9688330325988348, 0.9621345083540419, 0.9352857669706452, 0.9518531361548002, 0.976594757607404, 0.8957271408287787, 0.9901234810005105, 0.9863749348902869, 0.9340808659233678, 0.9216348519753697, 0.920924658613813, 0.9568626395734529, 0.9850948570272055, 0.9805416418040211, 0.9245930634918997, 0.9771433602857169, 0.9486292653687318, 0.9534514469757843, 0.9127252569630406, 0.9757694501029932, 0.04681629899496721, 0.6866390519261858, 0.04681629899496721, 0.04681629899496721, 0.04681629899496721, 0.04681629899496721, 0.03121086599664481, 0.03121086599664481, 0.9752464600226028], \"Term\": [\"absolutely\", \"acting\", \"action\", \"actors\", \"american\", \"art\", \"attempt\", \"attention\", \"attraction\", \"audience\", \"away\", \"awful\", \"awful\", \"awful\", \"awful\", \"awful\", \"awful\", \"bad\", \"best\", \"better\", \"big\", \"bland\", \"book\", \"care\", \"case\", \"central\", \"character\", \"characters\", \"charm\", \"cinema\", \"cinematic\", \"classic\", \"clever\", \"come\", \"comedy\", \"comes\", \"company\", \"company\", \"company\", \"company\", \"company\", \"company\", \"company\", \"company\", \"compelling\", \"country\", \"debut\", \"decent\", \"definitely\", \"definitely\", \"definitely\", \"definitely\", \"definitely\", \"definitely\", \"definitely\", \"definitely\", \"depth\", \"depth\", \"depth\", \"depth\", \"depth\", \"depth\", \"despite\", \"dialogue\", \"difficult\", \"direction\", \"director\", \"documentary\", \"drama\", \"dry\", \"dull\", \"effects\", \"effort\", \"emotional\", \"emotionally\", \"end\", \"endearing\", \"ending\", \"engaging\", \"enjoy\", \"enjoyable\", \"execution\", \"exercise\", \"experience\", \"fact\", \"fairly\", \"family\", \"fans\", \"far\", \"fascinating\", \"feature\", \"features\", \"feel\", \"feels\", \"female\", \"film\", \"filmmaker\", \"filmmakers\", \"films\", \"find\", \"fire\", \"flick\", \"formula\", \"fresh\", \"fun\", \"funnier\", \"funny\", \"generic\", \"generic\", \"generic\", \"generic\", \"generic\", \"generic\", \"generic\", \"generic\", \"genuine\", \"genuine\", \"genuine\", \"genuine\", \"genuine\", \"genuine\", \"genuine\", \"genuine\", \"gets\", \"girl\", \"goes\", \"going\", \"good\", \"grant\", \"grant\", \"grant\", \"grant\", \"grant\", \"grant\", \"grant\", \"grant\", \"great\", \"half\", \"hard\", \"head\", \"heart\", \"hell\", \"high\", \"hilarious\", \"hold\", \"hold\", \"hold\", \"hold\", \"hold\", \"hold\", \"hold\", \"hold\", \"hollywood\", \"home\", \"horrible\", \"horrible\", \"horrible\", \"horrible\", \"horrible\", \"horrible\", \"horrible\", \"horrible\", \"hours\", \"humor\", \"idea\", \"ideas\", \"ii\", \"impressive\", \"instead\", \"intelligent\", \"interesting\", \"irritating\", \"irritating\", \"irritating\", \"irritating\", \"irritating\", \"irritating\", \"irritating\", \"irritating\", \"kid\", \"kind\", \"know\", \"lacks\", \"lame\", \"lame\", \"lame\", \"lame\", \"lame\", \"lame\", \"lame\", \"lame\", \"laughs\", \"lead\", \"leave\", \"life\", \"light\", \"like\", \"little\", \"lives\", \"long\", \"look\", \"looking\", \"lost\", \"lot\", \"love\", \"major\", \"makes\", \"making\", \"masterpiece\", \"material\", \"matter\", \"meandering\", \"meandering\", \"meandering\", \"meandering\", \"meandering\", \"meandering\", \"meandering\", \"meandering\", \"melodrama\", \"melodramatic\", \"melodramatic\", \"melodramatic\", \"melodramatic\", \"melodramatic\", \"melodramatic\", \"melodramatic\", \"melodramatic\", \"men\", \"mess\", \"mess\", \"mess\", \"mess\", \"mess\", \"mess\", \"mess\", \"mess\", \"mind\", \"minutes\", \"moments\", \"monster\", \"movie\", \"movies\", \"moving\", \"moving\", \"moving\", \"moving\", \"moving\", \"moving\", \"moving\", \"mystery\", \"nearly\", \"need\", \"needs\", \"new\", \"nice\", \"odd\", \"old\", \"opera\", \"opportunity\", \"painful\", \"past\", \"people\", \"performance\", \"performances\", \"period\", \"picture\", \"piece\", \"pieces\", \"place\", \"play\", \"playing\", \"plays\", \"pleasure\", \"pleasure\", \"pleasure\", \"pleasure\", \"pleasure\", \"pleasure\", \"pleasure\", \"pleasure\", \"plot\", \"political\", \"political\", \"political\", \"political\", \"political\", \"predictable\", \"premise\", \"pretentious\", \"pretentious\", \"pretentious\", \"pretentious\", \"pretentious\", \"pretentious\", \"pretentious\", \"pretentious\", \"project\", \"proves\", \"pull\", \"question\", \"real\", \"remake\", \"ride\", \"ride\", \"ride\", \"ride\", \"ride\", \"ride\", \"ride\", \"ride\", \"right\", \"romance\", \"romantic\", \"run\", \"satisfying\", \"scenes\", \"screen\", \"screenplay\", \"script\", \"seen\", \"sense\", \"sensitive\", \"sequel\", \"series\", \"set\", \"shot\", \"silly\", \"simple\", \"simply\", \"sit\", \"situation\", \"situations\", \"skill\", \"slow\", \"smart\", \"sort\", \"special\", \"spirit\", \"story\", \"storytelling\", \"stuff\", \"subject\", \"sure\", \"surprises\", \"surprises\", \"surprises\", \"surprises\", \"surprises\", \"surprises\", \"surprises\", \"surprises\", \"surprisingly\", \"sweet\", \"taken\", \"takes\", \"tale\", \"tedious\", \"tedious\", \"tedious\", \"tedious\", \"tedious\", \"tedious\", \"tedious\", \"tedious\", \"terrible\", \"terrible\", \"terrible\", \"terrible\", \"terrible\", \"terrible\", \"terrible\", \"terrible\", \"thing\", \"things\", \"think\", \"thinking\", \"thoroughly\", \"thriller\", \"time\", \"title\", \"tone\", \"tries\", \"true\", \"truly\", \"turn\", \"turns\", \"twists\", \"ultimately\", \"uneven\", \"unsettling\", \"unsettling\", \"unsettling\", \"unsettling\", \"unsettling\", \"unsettling\", \"unsettling\", \"unsettling\", \"viewer\", \"visually\", \"war\", \"watch\", \"watchable\", \"watching\", \"water\", \"way\", \"weird\", \"wild\", \"wise\", \"wit\", \"women\", \"words\", \"work\", \"works\", \"world\", \"worth\", \"writer\", \"written\", \"year\", \"years\", \"years\", \"years\", \"years\", \"years\", \"years\", \"years\", \"years\", \"young\"]}, \"R\": 30, \"lambda.step\": 0.01, \"plot.opts\": {\"xlab\": \"PC1\", \"ylab\": \"PC2\"}, \"topic.order\": [2, 6, 1, 4, 7, 3, 5, 8]};\n",
              "\n",
              "function LDAvis_load_lib(url, callback){\n",
              "  var s = document.createElement('script');\n",
              "  s.src = url;\n",
              "  s.async = true;\n",
              "  s.onreadystatechange = s.onload = callback;\n",
              "  s.onerror = function(){console.warn(\"failed to load library \" + url);};\n",
              "  document.getElementsByTagName(\"head\")[0].appendChild(s);\n",
              "}\n",
              "\n",
              "if(typeof(LDAvis) !== \"undefined\"){\n",
              "   // already loaded: just create the visualization\n",
              "   !function(LDAvis){\n",
              "       new LDAvis(\"#\" + \"ldavis_el1841399591099530004236029339\", ldavis_el1841399591099530004236029339_data);\n",
              "   }(LDAvis);\n",
              "}else if(typeof define === \"function\" && define.amd){\n",
              "   // require.js is available: use it to load d3/LDAvis\n",
              "   require.config({paths: {d3: \"https://cdnjs.cloudflare.com/ajax/libs/d3/3.5.5/d3.min\"}});\n",
              "   require([\"d3\"], function(d3){\n",
              "      window.d3 = d3;\n",
              "      LDAvis_load_lib(\"https://cdn.rawgit.com/bmabey/pyLDAvis/files/ldavis.v1.0.0.js\", function(){\n",
              "        new LDAvis(\"#\" + \"ldavis_el1841399591099530004236029339\", ldavis_el1841399591099530004236029339_data);\n",
              "      });\n",
              "    });\n",
              "}else{\n",
              "    // require.js not available: dynamically load d3 & LDAvis\n",
              "    LDAvis_load_lib(\"https://cdnjs.cloudflare.com/ajax/libs/d3/3.5.5/d3.min.js\", function(){\n",
              "         LDAvis_load_lib(\"https://cdn.rawgit.com/bmabey/pyLDAvis/files/ldavis.v1.0.0.js\", function(){\n",
              "                 new LDAvis(\"#\" + \"ldavis_el1841399591099530004236029339\", ldavis_el1841399591099530004236029339_data);\n",
              "            })\n",
              "         });\n",
              "}\n",
              "</script>"
            ],
            "text/plain": [
              "PreparedData(topic_coordinates=                x           y  topics  cluster       Freq\n",
              "topic                                                    \n",
              "1     -108.958252 -208.941483       1        1  19.340566\n",
              "5      186.487061  -98.103249       2        1  12.636086\n",
              "0       19.245832  160.858780       3        1  12.551806\n",
              "3      170.658829   75.445076       4        1  11.995516\n",
              "6       -1.386411  -35.043739       5        1  11.492452\n",
              "2     -145.800095  106.944611       6        1  10.972401\n",
              "4       64.834541 -221.825272       7        1  10.827965\n",
              "7     -196.906036  -58.990913       8        1  10.183207, topic_info=             Term        Freq       Total Category  logprob  loglift\n",
              "102          film  735.000000  735.000000  Default  30.0000  30.0000\n",
              "94          movie  657.000000  657.000000  Default  29.0000  29.0000\n",
              "170        comedy  402.000000  402.000000  Default  28.0000  28.0000\n",
              "51           like  314.000000  314.000000  Default  27.0000  27.0000\n",
              "1404          bad  252.000000  252.000000  Default  26.0000  26.0000\n",
              "...           ...         ...         ...      ...      ...      ...\n",
              "1197      genuine   26.273825   37.275222   Topic8  -5.0270   1.9347\n",
              "2483   irritating   19.560347   57.039143   Topic8  -5.3221   1.2142\n",
              "1078     terrible   20.805089  198.076154   Topic8  -5.2604   0.0310\n",
              "1133  pretentious   18.393609  265.639088   Topic8  -5.3836  -0.3857\n",
              "1695         lame   17.857726  182.421489   Topic8  -5.4132  -0.0395\n",
              "\n",
              "[310 rows x 6 columns], token_table=      Topic      Freq        Term\n",
              "term                             \n",
              "1164      7  0.938645  absolutely\n",
              "43        3  0.927496      acting\n",
              "44        3  0.978187      action\n",
              "83        1  0.962681      actors\n",
              "486       7  0.962516    american\n",
              "...     ...       ...         ...\n",
              "281       5  0.046816       years\n",
              "281       6  0.046816       years\n",
              "281       7  0.031211       years\n",
              "281       8  0.031211       years\n",
              "112       1  0.975246       young\n",
              "\n",
              "[428 rows x 3 columns], R=30, lambda_step=0.01, plot_opts={'xlab': 'PC1', 'ylab': 'PC2'}, topic_order=[2, 6, 1, 4, 7, 3, 5, 8])"
            ]
          },
          "metadata": {
            "tags": []
          },
          "execution_count": 46
        }
      ]
    },
    {
      "cell_type": "markdown",
      "metadata": {
        "id": "KvHKZR6g7M9t"
      },
      "source": [
        "That&rsquo;s all, folks!"
      ]
    }
  ]
}